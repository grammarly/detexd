{
 "cells": [
  {
   "cell_type": "markdown",
   "metadata": {},
   "source": [
    "# DeTexD vs OpenAI moderation\n",
    "\n",
    "* compare OpenAI moderation API against DeTexD baseline model and test set"
   ]
  },
  {
   "cell_type": "code",
   "execution_count": 14,
   "metadata": {},
   "outputs": [],
   "source": [
    "import pandas as pd\n",
    "from tqdm.auto import tqdm\n",
    "from sklearn.metrics import classification_report\n",
    "from getpass import getpass\n",
    "import requests\n",
    "import torch\n",
    "from datasets import load_dataset\n",
    "from evaluate_detexd_roberta import predict_delicate\n",
    "from transformers import pipeline\n",
    "from datetime import datetime"
   ]
  },
  {
   "cell_type": "markdown",
   "metadata": {},
   "source": [
    "### Load OpenAI moderation API test set"
   ]
  },
  {
   "cell_type": "code",
   "execution_count": 2,
   "metadata": {},
   "outputs": [
    {
     "name": "stdout",
     "output_type": "stream",
     "text": [
      "--2023-07-10 09:21:57--  https://github.com/openai/moderation-api-release/raw/main/data/samples-1680.jsonl.gz\n",
      "Resolving github.com (github.com)... 140.82.112.4\n",
      "Connecting to github.com (github.com)|140.82.112.4|:443... connected.\n",
      "HTTP request sent, awaiting response... 302 Found\n",
      "Location: https://raw.githubusercontent.com/openai/moderation-api-release/main/data/samples-1680.jsonl.gz [following]\n",
      "--2023-07-10 09:21:57--  https://raw.githubusercontent.com/openai/moderation-api-release/main/data/samples-1680.jsonl.gz\n",
      "Resolving raw.githubusercontent.com (raw.githubusercontent.com)... 185.199.108.133, 185.199.109.133, 185.199.110.133, ...\n",
      "Connecting to raw.githubusercontent.com (raw.githubusercontent.com)|185.199.108.133|:443... connected.\n",
      "HTTP request sent, awaiting response... 200 OK\n",
      "Length: 477573 (466K) [application/octet-stream]\n",
      "Saving to: ‘STDOUT’\n",
      "\n",
      "-                   100%[===================>] 466.38K   621KB/s    in 0.8s    \n",
      "\n",
      "2023-07-10 09:21:58 (621 KB/s) - written to stdout [477573/477573]\n",
      "\n"
     ]
    }
   ],
   "source": [
    "!wget https://github.com/openai/moderation-api-release/raw/main/data/samples-1680.jsonl.gz -O - \\\n",
    "\t\t| gzip -d > openai-moderation-api-release-samples.jsonl"
   ]
  },
  {
   "cell_type": "code",
   "execution_count": 3,
   "metadata": {},
   "outputs": [
    {
     "data": {
      "text/plain": [
       "((1680, 9),\n",
       " Index(['prompt', 'S', 'H', 'V', 'HR', 'SH', 'S3', 'H2', 'V2'], dtype='object'))"
      ]
     },
     "execution_count": 3,
     "metadata": {},
     "output_type": "execute_result"
    }
   ],
   "source": [
    "openai_test_df = pd.read_json('openai-moderation-api-release-samples.jsonl', lines=True)\n",
    "openai_test_df.shape, openai_test_df.columns"
   ]
  },
  {
   "cell_type": "markdown",
   "metadata": {},
   "source": [
    "Each line contains information about one sample in a JSON object and each sample is labeled according to our taxonomy. The category label is a binary flag, but if it does not include in the JSON, it means we do not know the label.\n",
    "\n",
    "| Category | Label | Definition |\n",
    "| -------- | ----- | ---------- |\n",
    "| sexual   | `S`   | Content meant to arouse sexual excitement, such as the description of sexual activity, or that promotes sexual services (excluding sex education and wellness). |\n",
    "| hate     | `H`   | Content that expresses, incites, or promotes hate based on race, gender, ethnicity, religion, nationality, sexual orientation, disability status, or caste. |\n",
    "| violence | `V`   | Content that promotes or glorifies violence or celebrates the suffering or humiliation of others. |\n",
    "| harassment       | `HR`   | Content that may be used to torment or annoy individuals in real life, or make harassment more likely to occur. |\n",
    "| self-harm        | `SH`   | Content that promotes, encourages, or depicts acts of self-harm, such as suicide, cutting, and eating disorders. |\n",
    "| sexual/minors    | `S3`   | Sexual content that includes an individual who is under 18 years old. |\n",
    "| hate/threatening | `H2`   | Hateful content that also includes violence or serious harm towards the targeted group. |\n",
    "| violence/graphic | `V2`   | Violent content that depicts death, violence, or serious physical injury in extreme graphic detail. |\n"
   ]
  },
  {
   "cell_type": "code",
   "execution_count": 4,
   "metadata": {},
   "outputs": [
    {
     "data": {
      "text/html": [
       "<div>\n",
       "<style scoped>\n",
       "    .dataframe tbody tr th:only-of-type {\n",
       "        vertical-align: middle;\n",
       "    }\n",
       "\n",
       "    .dataframe tbody tr th {\n",
       "        vertical-align: top;\n",
       "    }\n",
       "\n",
       "    .dataframe thead th {\n",
       "        text-align: right;\n",
       "    }\n",
       "</style>\n",
       "<table border=\"1\" class=\"dataframe\">\n",
       "  <thead>\n",
       "    <tr style=\"text-align: right;\">\n",
       "      <th></th>\n",
       "      <th>prompt</th>\n",
       "      <th>S</th>\n",
       "      <th>H</th>\n",
       "      <th>V</th>\n",
       "      <th>HR</th>\n",
       "      <th>SH</th>\n",
       "      <th>S3</th>\n",
       "      <th>H2</th>\n",
       "      <th>V2</th>\n",
       "    </tr>\n",
       "  </thead>\n",
       "  <tbody>\n",
       "    <tr>\n",
       "      <th>0</th>\n",
       "      <td>I'm a teenager and I'm thinking about suicide....</td>\n",
       "      <td>0.0</td>\n",
       "      <td>0.0</td>\n",
       "      <td>0.0</td>\n",
       "      <td>0.0</td>\n",
       "      <td>1.0</td>\n",
       "      <td>0.0</td>\n",
       "      <td>0.0</td>\n",
       "      <td>0.0</td>\n",
       "    </tr>\n",
       "    <tr>\n",
       "      <th>1</th>\n",
       "      <td>I think I'm okay with people saying thing like...</td>\n",
       "      <td>0.0</td>\n",
       "      <td>0.0</td>\n",
       "      <td>0.0</td>\n",
       "      <td>0.0</td>\n",
       "      <td>1.0</td>\n",
       "      <td>0.0</td>\n",
       "      <td>0.0</td>\n",
       "      <td>0.0</td>\n",
       "    </tr>\n",
       "    <tr>\n",
       "      <th>2</th>\n",
       "      <td>I started self harming around 5th grade, so 11...</td>\n",
       "      <td>0.0</td>\n",
       "      <td>0.0</td>\n",
       "      <td>0.0</td>\n",
       "      <td>0.0</td>\n",
       "      <td>1.0</td>\n",
       "      <td>0.0</td>\n",
       "      <td>0.0</td>\n",
       "      <td>0.0</td>\n",
       "    </tr>\n",
       "    <tr>\n",
       "      <th>3</th>\n",
       "      <td>Oooh, I might actually have to try this. I str...</td>\n",
       "      <td>NaN</td>\n",
       "      <td>NaN</td>\n",
       "      <td>0.0</td>\n",
       "      <td>0.0</td>\n",
       "      <td>1.0</td>\n",
       "      <td>NaN</td>\n",
       "      <td>NaN</td>\n",
       "      <td>0.0</td>\n",
       "    </tr>\n",
       "    <tr>\n",
       "      <th>4</th>\n",
       "      <td>I cut for the longest time, and then a couple ...</td>\n",
       "      <td>0.0</td>\n",
       "      <td>0.0</td>\n",
       "      <td>0.0</td>\n",
       "      <td>0.0</td>\n",
       "      <td>1.0</td>\n",
       "      <td>0.0</td>\n",
       "      <td>0.0</td>\n",
       "      <td>0.0</td>\n",
       "    </tr>\n",
       "  </tbody>\n",
       "</table>\n",
       "</div>"
      ],
      "text/plain": [
       "                                              prompt    S    H    V   HR   SH  \\\n",
       "0  I'm a teenager and I'm thinking about suicide....  0.0  0.0  0.0  0.0  1.0   \n",
       "1  I think I'm okay with people saying thing like...  0.0  0.0  0.0  0.0  1.0   \n",
       "2  I started self harming around 5th grade, so 11...  0.0  0.0  0.0  0.0  1.0   \n",
       "3  Oooh, I might actually have to try this. I str...  NaN  NaN  0.0  0.0  1.0   \n",
       "4  I cut for the longest time, and then a couple ...  0.0  0.0  0.0  0.0  1.0   \n",
       "\n",
       "    S3   H2   V2  \n",
       "0  0.0  0.0  0.0  \n",
       "1  0.0  0.0  0.0  \n",
       "2  0.0  0.0  0.0  \n",
       "3  NaN  NaN  0.0  \n",
       "4  0.0  0.0  0.0  "
      ]
     },
     "execution_count": 4,
     "metadata": {},
     "output_type": "execute_result"
    }
   ],
   "source": [
    "openai_test_df[:5]"
   ]
  },
  {
   "cell_type": "code",
   "execution_count": 5,
   "metadata": {},
   "outputs": [
    {
     "data": {
      "text/plain": [
       "S     237.0\n",
       "H     162.0\n",
       "V      94.0\n",
       "HR     76.0\n",
       "SH     51.0\n",
       "S3     85.0\n",
       "H2     41.0\n",
       "V2     24.0\n",
       "dtype: float64"
      ]
     },
     "execution_count": 5,
     "metadata": {},
     "output_type": "execute_result"
    }
   ],
   "source": [
    "openai_test_df.loc[:, openai_test_df.columns[1:]].sum()"
   ]
  },
  {
   "cell_type": "code",
   "execution_count": 6,
   "metadata": {},
   "outputs": [
    {
     "data": {
      "text/plain": [
       "flagged\n",
       "0    1158\n",
       "1     522\n",
       "Name: count, dtype: int64"
      ]
     },
     "execution_count": 6,
     "metadata": {},
     "output_type": "execute_result"
    }
   ],
   "source": [
    "# OpenAI flagged is when at least one of the classes is True\n",
    "openai_test_df['flagged'] = openai_test_df[['S', 'H', 'V', 'HR', 'SH', 'S3', 'H2', 'V2']].sum(axis='columns').clip(0, 1).astype(int)\n",
    "\n",
    "openai_test_df['flagged'].value_counts()"
   ]
  },
  {
   "cell_type": "markdown",
   "metadata": {},
   "source": [
    "### Load DeTexD test set"
   ]
  },
  {
   "cell_type": "code",
   "execution_count": 7,
   "metadata": {},
   "outputs": [
    {
     "name": "stderr",
     "output_type": "stream",
     "text": [
      "Found cached dataset csv (/Users/eis/.cache/huggingface/datasets/grammarly___csv/grammarly--detexd-benchmark-98c11d1f2112d0ec/0.0.0/eea64c71ca8b46dd3f537ed218fc9bf495d5707789152eb2764f5c78fa66d59d)\n"
     ]
    },
    {
     "data": {
      "text/plain": [
       "((1023, 5),\n",
       " Index(['text', 'annotator_1', 'annotator_2', 'annotator_3', 'label'], dtype='object'))"
      ]
     },
     "execution_count": 7,
     "metadata": {},
     "output_type": "execute_result"
    }
   ],
   "source": [
    "detexd_test_df = load_dataset(\"grammarly/detexd-benchmark\", split='test').to_pandas()\n",
    "detexd_test_df.shape, detexd_test_df.columns"
   ]
  },
  {
   "cell_type": "code",
   "execution_count": 8,
   "metadata": {},
   "outputs": [
    {
     "data": {
      "text/html": [
       "<div>\n",
       "<style scoped>\n",
       "    .dataframe tbody tr th:only-of-type {\n",
       "        vertical-align: middle;\n",
       "    }\n",
       "\n",
       "    .dataframe tbody tr th {\n",
       "        vertical-align: top;\n",
       "    }\n",
       "\n",
       "    .dataframe thead th {\n",
       "        text-align: right;\n",
       "    }\n",
       "</style>\n",
       "<table border=\"1\" class=\"dataframe\">\n",
       "  <thead>\n",
       "    <tr style=\"text-align: right;\">\n",
       "      <th></th>\n",
       "      <th>count</th>\n",
       "      <th>unique</th>\n",
       "      <th>top</th>\n",
       "      <th>freq</th>\n",
       "    </tr>\n",
       "  </thead>\n",
       "  <tbody>\n",
       "    <tr>\n",
       "      <th>text</th>\n",
       "      <td>1023</td>\n",
       "      <td>1023</td>\n",
       "      <td>\"), as well as other minority interests and gr...</td>\n",
       "      <td>1</td>\n",
       "    </tr>\n",
       "    <tr>\n",
       "      <th>annotator_1</th>\n",
       "      <td>1023</td>\n",
       "      <td>6</td>\n",
       "      <td>0</td>\n",
       "      <td>494</td>\n",
       "    </tr>\n",
       "    <tr>\n",
       "      <th>annotator_2</th>\n",
       "      <td>1023</td>\n",
       "      <td>6</td>\n",
       "      <td>0</td>\n",
       "      <td>484</td>\n",
       "    </tr>\n",
       "    <tr>\n",
       "      <th>annotator_3</th>\n",
       "      <td>1023</td>\n",
       "      <td>6</td>\n",
       "      <td>0</td>\n",
       "      <td>531</td>\n",
       "    </tr>\n",
       "    <tr>\n",
       "      <th>label</th>\n",
       "      <td>1023</td>\n",
       "      <td>2</td>\n",
       "      <td>0</td>\n",
       "      <td>687</td>\n",
       "    </tr>\n",
       "  </tbody>\n",
       "</table>\n",
       "</div>"
      ],
      "text/plain": [
       "            count unique                                                top  \\\n",
       "text         1023   1023  \"), as well as other minority interests and gr...   \n",
       "annotator_1  1023      6                                                  0   \n",
       "annotator_2  1023      6                                                  0   \n",
       "annotator_3  1023      6                                                  0   \n",
       "label        1023      2                                                  0   \n",
       "\n",
       "            freq  \n",
       "text           1  \n",
       "annotator_1  494  \n",
       "annotator_2  484  \n",
       "annotator_3  531  \n",
       "label        687  "
      ]
     },
     "execution_count": 8,
     "metadata": {},
     "output_type": "execute_result"
    }
   ],
   "source": [
    "detexd_test_df.astype('object').describe().transpose()"
   ]
  },
  {
   "cell_type": "code",
   "execution_count": 9,
   "metadata": {},
   "outputs": [
    {
     "data": {
      "text/plain": [
       "label\n",
       "0    687\n",
       "1    336\n",
       "Name: count, dtype: int64"
      ]
     },
     "execution_count": 9,
     "metadata": {},
     "output_type": "execute_result"
    }
   ],
   "source": [
    "detexd_test_df['label'].value_counts()"
   ]
  },
  {
   "cell_type": "markdown",
   "metadata": {},
   "source": [
    "### Run DeTexD baseline model predictions"
   ]
  },
  {
   "cell_type": "code",
   "execution_count": 10,
   "metadata": {},
   "outputs": [
    {
     "name": "stderr",
     "output_type": "stream",
     "text": [
      "Xformers is not installed correctly. If you want to use memory_efficient_attention to accelerate training use the following command to install Xformers\n",
      "pip install xformers.\n"
     ]
    },
    {
     "data": {
      "application/vnd.jupyter.widget-view+json": {
       "model_id": "5381c4e32bd54d20a8464a515de7fd61",
       "version_major": 2,
       "version_minor": 0
      },
      "text/plain": [
       "  0%|          | 0/2 [00:00<?, ?it/s]"
      ]
     },
     "metadata": {},
     "output_type": "display_data"
    },
    {
     "data": {
      "text/plain": [
       "[False, False]"
      ]
     },
     "execution_count": 10,
     "metadata": {},
     "output_type": "execute_result"
    }
   ],
   "source": [
    "classifier = pipeline(\"text-classification\", model=\"grammarly/detexd-roberta-base\", device=torch.device('cpu'), batch_size=8)\n",
    "predict_delicate(classifier, ['I love you', 'I hate you'])"
   ]
  },
  {
   "cell_type": "code",
   "execution_count": 11,
   "metadata": {},
   "outputs": [
    {
     "data": {
      "application/vnd.jupyter.widget-view+json": {
       "model_id": "46894414216045f2a16cd06786deced5",
       "version_major": 2,
       "version_minor": 0
      },
      "text/plain": [
       "  0%|          | 0/1680 [00:00<?, ?it/s]"
      ]
     },
     "metadata": {},
     "output_type": "display_data"
    }
   ],
   "source": [
    "openai_test_df['detexd_pred'] = predict_delicate(classifier, openai_test_df['prompt'].tolist())"
   ]
  },
  {
   "cell_type": "code",
   "execution_count": 12,
   "metadata": {},
   "outputs": [
    {
     "data": {
      "text/plain": [
       "detexd_pred\n",
       "False    904\n",
       "True     776\n",
       "Name: count, dtype: int64"
      ]
     },
     "execution_count": 12,
     "metadata": {},
     "output_type": "execute_result"
    }
   ],
   "source": [
    "openai_test_df['detexd_pred'].value_counts()"
   ]
  },
  {
   "cell_type": "code",
   "execution_count": 17,
   "metadata": {},
   "outputs": [
    {
     "data": {
      "application/vnd.jupyter.widget-view+json": {
       "model_id": "929c06ce28024c6694174f2937136422",
       "version_major": 2,
       "version_minor": 0
      },
      "text/plain": [
       "  0%|          | 0/1023 [00:00<?, ?it/s]"
      ]
     },
     "metadata": {},
     "output_type": "display_data"
    }
   ],
   "source": [
    "detexd_test_df['detexd_pred'] = predict_delicate(classifier, detexd_test_df['text'].tolist())"
   ]
  },
  {
   "cell_type": "code",
   "execution_count": 19,
   "metadata": {},
   "outputs": [
    {
     "data": {
      "text/plain": [
       "detexd_pred\n",
       "False    700\n",
       "True     323\n",
       "Name: count, dtype: int64"
      ]
     },
     "execution_count": 19,
     "metadata": {},
     "output_type": "execute_result"
    }
   ],
   "source": [
    "detexd_test_df['detexd_pred'].value_counts()"
   ]
  },
  {
   "cell_type": "markdown",
   "metadata": {},
   "source": [
    "### Run OpenAI moderation predictions"
   ]
  },
  {
   "cell_type": "code",
   "execution_count": 20,
   "metadata": {},
   "outputs": [],
   "source": [
    "OPENAI_API_KEY = getpass('Enter your OpenAI API key: ')"
   ]
  },
  {
   "cell_type": "code",
   "execution_count": 26,
   "metadata": {},
   "outputs": [
    {
     "data": {
      "application/vnd.jupyter.widget-view+json": {
       "model_id": "fb7a4d852a224040b8f16e6389aedd80",
       "version_major": 2,
       "version_minor": 0
      },
      "text/plain": [
       "  0%|          | 0/2 [00:00<?, ?it/s]"
      ]
     },
     "metadata": {},
     "output_type": "display_data"
    },
    {
     "data": {
      "text/html": [
       "<div>\n",
       "<style scoped>\n",
       "    .dataframe tbody tr th:only-of-type {\n",
       "        vertical-align: middle;\n",
       "    }\n",
       "\n",
       "    .dataframe tbody tr th {\n",
       "        vertical-align: top;\n",
       "    }\n",
       "\n",
       "    .dataframe thead th {\n",
       "        text-align: right;\n",
       "    }\n",
       "</style>\n",
       "<table border=\"1\" class=\"dataframe\">\n",
       "  <thead>\n",
       "    <tr style=\"text-align: right;\">\n",
       "      <th></th>\n",
       "      <th>text</th>\n",
       "      <th>flagged</th>\n",
       "      <th>sexual</th>\n",
       "      <th>hate</th>\n",
       "      <th>harassment</th>\n",
       "      <th>self-harm</th>\n",
       "      <th>sexual_minors</th>\n",
       "      <th>hate_threatening</th>\n",
       "      <th>violence_graphic</th>\n",
       "      <th>self-harm_intent</th>\n",
       "      <th>self-harm_instructions</th>\n",
       "      <th>harassment_threatening</th>\n",
       "      <th>violence</th>\n",
       "    </tr>\n",
       "  </thead>\n",
       "  <tbody>\n",
       "    <tr>\n",
       "      <th>0</th>\n",
       "      <td>I love you</td>\n",
       "      <td>0</td>\n",
       "      <td>0</td>\n",
       "      <td>0</td>\n",
       "      <td>0</td>\n",
       "      <td>0</td>\n",
       "      <td>0</td>\n",
       "      <td>0</td>\n",
       "      <td>0</td>\n",
       "      <td>0</td>\n",
       "      <td>0</td>\n",
       "      <td>0</td>\n",
       "      <td>0</td>\n",
       "    </tr>\n",
       "    <tr>\n",
       "      <th>1</th>\n",
       "      <td>russia is a terrorist state</td>\n",
       "      <td>1</td>\n",
       "      <td>0</td>\n",
       "      <td>1</td>\n",
       "      <td>1</td>\n",
       "      <td>0</td>\n",
       "      <td>0</td>\n",
       "      <td>0</td>\n",
       "      <td>0</td>\n",
       "      <td>0</td>\n",
       "      <td>0</td>\n",
       "      <td>0</td>\n",
       "      <td>0</td>\n",
       "    </tr>\n",
       "  </tbody>\n",
       "</table>\n",
       "</div>"
      ],
      "text/plain": [
       "                          text  flagged  sexual  hate  harassment  self-harm  \\\n",
       "0                   I love you        0       0     0           0          0   \n",
       "1  russia is a terrorist state        1       0     1           1          0   \n",
       "\n",
       "   sexual_minors  hate_threatening  violence_graphic  self-harm_intent  \\\n",
       "0              0                 0                 0                 0   \n",
       "1              0                 0                 0                 0   \n",
       "\n",
       "   self-harm_instructions  harassment_threatening  violence  \n",
       "0                       0                       0         0  \n",
       "1                       0                       0         0  "
      ]
     },
     "execution_count": 26,
     "metadata": {},
     "output_type": "execute_result"
    }
   ],
   "source": [
    "def predict_openai_moderation(text_col, API_KEY=OPENAI_API_KEY):\n",
    "    '''\n",
    "    It returns the following fields:\n",
    "\n",
    "    flagged: Set to true if the model classifies the content as violating OpenAI's content policy, false otherwise.\n",
    "    categories: Contains a dictionary of per-category binary content policy violation flags. For each category, the value is true if the model flags the corresponding category as violated, false otherwise.\n",
    "    category_scores: Contains a dictionary of per-category raw scores output by the model, denoting the model's confidence that the input violates the OpenAI's policy for the category. The value is between 0 and 1, where higher values denote higher confidence. The scores should not be interpreted as probabilities.\n",
    "    '''\n",
    "    def predict_one(text):\n",
    "        resp = requests.post(\n",
    "            'https://api.openai.com/v1/moderations',\n",
    "            headers={'Authorization': f'Bearer {API_KEY}'},\n",
    "            json={'input': text}\n",
    "        ).json()\n",
    "\n",
    "        assert not 'error' in resp, resp.get('error', None)\n",
    "\n",
    "        return {\n",
    "            'text': text,\n",
    "            'results': resp['results'][0]\n",
    "        }\n",
    "    \n",
    "    return [\n",
    "        predict_one(t)\n",
    "        for t in tqdm(text_col)\n",
    "    ]\n",
    "\n",
    "def openai_preds_to_df(preds):\n",
    "    return pd.DataFrame([\n",
    "        {\n",
    "            'text': pred['text'],\n",
    "            'flagged': int(pred['results']['flagged']),\n",
    "            **{\n",
    "                k.replace('/', '_'): int(v)\n",
    "                for k, v in pred['results']['categories'].items()\n",
    "            }\n",
    "        }\n",
    "        for pred in preds\n",
    "    ])\n",
    "\n",
    "openai_preds_to_df(predict_openai_moderation(['I love you', 'russia is a terrorist state']))"
   ]
  },
  {
   "cell_type": "code",
   "execution_count": 27,
   "metadata": {},
   "outputs": [
    {
     "data": {
      "application/vnd.jupyter.widget-view+json": {
       "model_id": "869f1362ff7b4dc79ae2fc2ef10c02f0",
       "version_major": 2,
       "version_minor": 0
      },
      "text/plain": [
       "  0%|          | 0/1023 [00:00<?, ?it/s]"
      ]
     },
     "metadata": {},
     "output_type": "display_data"
    }
   ],
   "source": [
    "detexd_test_openai_preds_df = openai_preds_to_df(predict_openai_moderation(detexd_test_df['text'].tolist()))"
   ]
  },
  {
   "cell_type": "code",
   "execution_count": 28,
   "metadata": {},
   "outputs": [
    {
     "data": {
      "text/plain": [
       "((1023, 13),\n",
       " Index(['text', 'flagged', 'sexual', 'hate', 'harassment', 'self-harm',\n",
       "        'sexual_minors', 'hate_threatening', 'violence_graphic',\n",
       "        'self-harm_intent', 'self-harm_instructions', 'harassment_threatening',\n",
       "        'violence'],\n",
       "       dtype='object'),\n",
       " flagged\n",
       " 0    881\n",
       " 1    142\n",
       " Name: count, dtype: int64)"
      ]
     },
     "execution_count": 28,
     "metadata": {},
     "output_type": "execute_result"
    }
   ],
   "source": [
    "detexd_test_openai_preds_df.shape, detexd_test_openai_preds_df.columns, detexd_test_openai_preds_df['flagged'].value_counts()"
   ]
  },
  {
   "cell_type": "code",
   "execution_count": 29,
   "metadata": {},
   "outputs": [
    {
     "data": {
      "text/plain": [
       "1    72\n",
       "0    64\n",
       "2     6\n",
       "Name: count, dtype: int64"
      ]
     },
     "execution_count": 29,
     "metadata": {},
     "output_type": "execute_result"
    }
   ],
   "source": [
    "detexd_test_openai_preds_df[lambda df: df['flagged'] == 1][['hate', 'hate_threatening', 'self-harm', 'sexual',\n",
    "       'sexual_minors', 'violence', 'violence_graphic']].sum(axis='columns').value_counts()"
   ]
  },
  {
   "cell_type": "code",
   "execution_count": 30,
   "metadata": {},
   "outputs": [
    {
     "data": {
      "application/vnd.jupyter.widget-view+json": {
       "model_id": "013bd068320b404b80c6e45490b84d52",
       "version_major": 2,
       "version_minor": 0
      },
      "text/plain": [
       "  0%|          | 0/1680 [00:00<?, ?it/s]"
      ]
     },
     "metadata": {},
     "output_type": "display_data"
    }
   ],
   "source": [
    "openai_test_openai_preds_df = openai_preds_to_df(predict_openai_moderation(openai_test_df['prompt'].tolist()))"
   ]
  },
  {
   "cell_type": "code",
   "execution_count": 31,
   "metadata": {},
   "outputs": [
    {
     "data": {
      "text/plain": [
       "((1680, 13),\n",
       " Index(['text', 'flagged', 'sexual', 'hate', 'harassment', 'self-harm',\n",
       "        'sexual_minors', 'hate_threatening', 'violence_graphic',\n",
       "        'self-harm_intent', 'self-harm_instructions', 'harassment_threatening',\n",
       "        'violence'],\n",
       "       dtype='object'),\n",
       " flagged\n",
       " 0    1072\n",
       " 1     608\n",
       " Name: count, dtype: int64)"
      ]
     },
     "execution_count": 31,
     "metadata": {},
     "output_type": "execute_result"
    }
   ],
   "source": [
    "openai_test_openai_preds_df.shape, openai_test_openai_preds_df.columns, openai_test_openai_preds_df['flagged'].value_counts()"
   ]
  },
  {
   "cell_type": "code",
   "execution_count": 32,
   "metadata": {},
   "outputs": [
    {
     "data": {
      "text/plain": [
       "1    264\n",
       "0    189\n",
       "2    117\n",
       "3     36\n",
       "4      2\n",
       "Name: count, dtype: int64"
      ]
     },
     "execution_count": 32,
     "metadata": {},
     "output_type": "execute_result"
    }
   ],
   "source": [
    "openai_test_openai_preds_df[lambda df: df['flagged'] == 1][['hate', 'hate_threatening', 'self-harm', 'sexual',\n",
    "       'sexual_minors', 'violence', 'violence_graphic']].sum(axis='columns').value_counts()"
   ]
  },
  {
   "cell_type": "code",
   "execution_count": 35,
   "metadata": {},
   "outputs": [],
   "source": [
    "detexd_test_df['openai_pred'] = detexd_test_openai_preds_df['flagged']\n",
    "openai_test_df['openai_pred'] = openai_test_openai_preds_df['flagged']"
   ]
  },
  {
   "cell_type": "code",
   "execution_count": 36,
   "metadata": {},
   "outputs": [],
   "source": [
    "detexd_test_df.to_json(f'detexd_test_df_{datetime.now().strftime(\"%Y%m%d_%H%M%S\")}.jsonl', lines=True, orient='records')\n",
    "openai_test_df.to_json(f'openai_test_df_{datetime.now().strftime(\"%Y%m%d_%H%M%S\")}.jsonl', lines=True, orient='records')"
   ]
  },
  {
   "attachments": {},
   "cell_type": "markdown",
   "metadata": {},
   "source": [
    "# Performance summary"
   ]
  },
  {
   "cell_type": "code",
   "execution_count": 37,
   "metadata": {},
   "outputs": [
    {
     "data": {
      "text/html": [
       "<div>\n",
       "<style scoped>\n",
       "    .dataframe tbody tr th:only-of-type {\n",
       "        vertical-align: middle;\n",
       "    }\n",
       "\n",
       "    .dataframe tbody tr th {\n",
       "        vertical-align: top;\n",
       "    }\n",
       "\n",
       "    .dataframe thead th {\n",
       "        text-align: right;\n",
       "    }\n",
       "</style>\n",
       "<table border=\"1\" class=\"dataframe\">\n",
       "  <thead>\n",
       "    <tr style=\"text-align: right;\">\n",
       "      <th></th>\n",
       "      <th>model</th>\n",
       "      <th>dataset</th>\n",
       "      <th>precision</th>\n",
       "      <th>recall</th>\n",
       "      <th>f1-score</th>\n",
       "      <th>support</th>\n",
       "    </tr>\n",
       "  </thead>\n",
       "  <tbody>\n",
       "    <tr>\n",
       "      <th>0</th>\n",
       "      <td>OpenAI</td>\n",
       "      <td>OpenAI</td>\n",
       "      <td>0.733553</td>\n",
       "      <td>0.854406</td>\n",
       "      <td>0.789381</td>\n",
       "      <td>522.0</td>\n",
       "    </tr>\n",
       "    <tr>\n",
       "      <th>1</th>\n",
       "      <td>OpenAI</td>\n",
       "      <td>DeTexD</td>\n",
       "      <td>0.809859</td>\n",
       "      <td>0.342262</td>\n",
       "      <td>0.481172</td>\n",
       "      <td>336.0</td>\n",
       "    </tr>\n",
       "    <tr>\n",
       "      <th>2</th>\n",
       "      <td>DeTexD</td>\n",
       "      <td>OpenAI</td>\n",
       "      <td>0.555412</td>\n",
       "      <td>0.825670</td>\n",
       "      <td>0.664099</td>\n",
       "      <td>522.0</td>\n",
       "    </tr>\n",
       "    <tr>\n",
       "      <th>3</th>\n",
       "      <td>DeTexD</td>\n",
       "      <td>DeTexD</td>\n",
       "      <td>0.814241</td>\n",
       "      <td>0.782738</td>\n",
       "      <td>0.798179</td>\n",
       "      <td>336.0</td>\n",
       "    </tr>\n",
       "  </tbody>\n",
       "</table>\n",
       "</div>"
      ],
      "text/plain": [
       "    model dataset  precision    recall  f1-score  support\n",
       "0  OpenAI  OpenAI   0.733553  0.854406  0.789381    522.0\n",
       "1  OpenAI  DeTexD   0.809859  0.342262  0.481172    336.0\n",
       "2  DeTexD  OpenAI   0.555412  0.825670  0.664099    522.0\n",
       "3  DeTexD  DeTexD   0.814241  0.782738  0.798179    336.0"
      ]
     },
     "execution_count": 37,
     "metadata": {},
     "output_type": "execute_result"
    }
   ],
   "source": [
    "pd.DataFrame([\n",
    "    {\n",
    "        'model': model,\n",
    "        'dataset': test_set,\n",
    "        **classification_report(y_true, y_pred, output_dict=True)['1']\n",
    "    }\n",
    "    for model, test_set, y_true, y_pred in [\n",
    "        ('OpenAI', 'OpenAI', openai_test_df['flagged'], openai_test_df['openai_pred']),\n",
    "        ('OpenAI', 'DeTexD', detexd_test_df['label'].astype(int), detexd_test_df['openai_pred']),\n",
    "        ('DeTexD', 'OpenAI', openai_test_df['flagged'], openai_test_df['detexd_pred']),\n",
    "        ('DeTexD', 'DeTexD', detexd_test_df['label'].astype(int), detexd_test_df['detexd_pred']),\n",
    "    ]\n",
    "])"
   ]
  },
  {
   "cell_type": "markdown",
   "metadata": {},
   "source": [
    "> **NOTE**: the results here are different from those published in the DeTexD paper. The OpenAI moderation API outputs are notably different from when the experiment was ran for the first time, perhaps because of evolution and improvements made to it by OpenAI. Unfortunately this can't be fully verified since OpenAI moderatino API is not open-source."
   ]
  },
  {
   "attachments": {},
   "cell_type": "markdown",
   "metadata": {},
   "source": [
    "## Error analysis for DeTexD baseline model on OpenAI test set"
   ]
  },
  {
   "cell_type": "code",
   "execution_count": 38,
   "metadata": {},
   "outputs": [
    {
     "data": {
      "text/plain": [
       "345"
      ]
     },
     "execution_count": 38,
     "metadata": {},
     "output_type": "execute_result"
    }
   ],
   "source": [
    "openai_test_df_TN_detexd_P = openai_test_df[(openai_test_df['flagged'] == 0) & (openai_test_df['detexd_pred'] == 1)]\n",
    "len(openai_test_df_TN_detexd_P)"
   ]
  },
  {
   "cell_type": "code",
   "execution_count": 39,
   "metadata": {},
   "outputs": [],
   "source": [
    "openai_test_df_TN_detexd_P.to_csv(f'openai_test_df_TN_detexd_P_{datetime.now().strftime(\"%Y%m%d_%H%M%S\")}.csv')"
   ]
  },
  {
   "cell_type": "code",
   "execution_count": 40,
   "metadata": {},
   "outputs": [
    {
     "data": {
      "text/plain": [
       "91"
      ]
     },
     "execution_count": 40,
     "metadata": {},
     "output_type": "execute_result"
    }
   ],
   "source": [
    "openai_test_df_TP_detexd_N = openai_test_df[(openai_test_df['flagged'] == 1) & (openai_test_df['detexd_pred'] == 0)]\n",
    "len(openai_test_df_TP_detexd_N)"
   ]
  },
  {
   "cell_type": "code",
   "execution_count": 41,
   "metadata": {},
   "outputs": [],
   "source": [
    "openai_test_df_TP_detexd_N.to_csv(f'openai_test_df_TP_detexd_N_{datetime.now().strftime(\"%Y%m%d_%H%M%S\")}.csv')"
   ]
  },
  {
   "attachments": {},
   "cell_type": "markdown",
   "metadata": {},
   "source": [
    "## Error analysis for OpenAI moderation API on DeTexD benchmark dataset"
   ]
  },
  {
   "cell_type": "code",
   "execution_count": 43,
   "metadata": {},
   "outputs": [
    {
     "data": {
      "text/html": [
       "<div>\n",
       "<style scoped>\n",
       "    .dataframe tbody tr th:only-of-type {\n",
       "        vertical-align: middle;\n",
       "    }\n",
       "\n",
       "    .dataframe tbody tr th {\n",
       "        vertical-align: top;\n",
       "    }\n",
       "\n",
       "    .dataframe thead th {\n",
       "        text-align: right;\n",
       "    }\n",
       "</style>\n",
       "<table border=\"1\" class=\"dataframe\">\n",
       "  <thead>\n",
       "    <tr style=\"text-align: right;\">\n",
       "      <th></th>\n",
       "      <th>count</th>\n",
       "      <th>unique</th>\n",
       "      <th>top</th>\n",
       "      <th>freq</th>\n",
       "    </tr>\n",
       "  </thead>\n",
       "  <tbody>\n",
       "    <tr>\n",
       "      <th>text</th>\n",
       "      <td>1023</td>\n",
       "      <td>1023</td>\n",
       "      <td>\"), as well as other minority interests and gr...</td>\n",
       "      <td>1</td>\n",
       "    </tr>\n",
       "    <tr>\n",
       "      <th>flagged</th>\n",
       "      <td>1023</td>\n",
       "      <td>2</td>\n",
       "      <td>0</td>\n",
       "      <td>881</td>\n",
       "    </tr>\n",
       "    <tr>\n",
       "      <th>sexual</th>\n",
       "      <td>1023</td>\n",
       "      <td>2</td>\n",
       "      <td>0</td>\n",
       "      <td>978</td>\n",
       "    </tr>\n",
       "    <tr>\n",
       "      <th>hate</th>\n",
       "      <td>1023</td>\n",
       "      <td>2</td>\n",
       "      <td>0</td>\n",
       "      <td>1014</td>\n",
       "    </tr>\n",
       "    <tr>\n",
       "      <th>harassment</th>\n",
       "      <td>1023</td>\n",
       "      <td>2</td>\n",
       "      <td>0</td>\n",
       "      <td>948</td>\n",
       "    </tr>\n",
       "    <tr>\n",
       "      <th>self-harm</th>\n",
       "      <td>1023</td>\n",
       "      <td>2</td>\n",
       "      <td>0</td>\n",
       "      <td>998</td>\n",
       "    </tr>\n",
       "    <tr>\n",
       "      <th>sexual_minors</th>\n",
       "      <td>1023</td>\n",
       "      <td>2</td>\n",
       "      <td>0</td>\n",
       "      <td>1018</td>\n",
       "    </tr>\n",
       "    <tr>\n",
       "      <th>hate_threatening</th>\n",
       "      <td>1023</td>\n",
       "      <td>1</td>\n",
       "      <td>0</td>\n",
       "      <td>1023</td>\n",
       "    </tr>\n",
       "    <tr>\n",
       "      <th>violence_graphic</th>\n",
       "      <td>1023</td>\n",
       "      <td>1</td>\n",
       "      <td>0</td>\n",
       "      <td>1023</td>\n",
       "    </tr>\n",
       "    <tr>\n",
       "      <th>self-harm_intent</th>\n",
       "      <td>1023</td>\n",
       "      <td>2</td>\n",
       "      <td>0</td>\n",
       "      <td>998</td>\n",
       "    </tr>\n",
       "    <tr>\n",
       "      <th>self-harm_instructions</th>\n",
       "      <td>1023</td>\n",
       "      <td>2</td>\n",
       "      <td>0</td>\n",
       "      <td>1019</td>\n",
       "    </tr>\n",
       "    <tr>\n",
       "      <th>harassment_threatening</th>\n",
       "      <td>1023</td>\n",
       "      <td>2</td>\n",
       "      <td>0</td>\n",
       "      <td>1022</td>\n",
       "    </tr>\n",
       "    <tr>\n",
       "      <th>violence</th>\n",
       "      <td>1023</td>\n",
       "      <td>1</td>\n",
       "      <td>0</td>\n",
       "      <td>1023</td>\n",
       "    </tr>\n",
       "  </tbody>\n",
       "</table>\n",
       "</div>"
      ],
      "text/plain": [
       "                       count unique  \\\n",
       "text                    1023   1023   \n",
       "flagged                 1023      2   \n",
       "sexual                  1023      2   \n",
       "hate                    1023      2   \n",
       "harassment              1023      2   \n",
       "self-harm               1023      2   \n",
       "sexual_minors           1023      2   \n",
       "hate_threatening        1023      1   \n",
       "violence_graphic        1023      1   \n",
       "self-harm_intent        1023      2   \n",
       "self-harm_instructions  1023      2   \n",
       "harassment_threatening  1023      2   \n",
       "violence                1023      1   \n",
       "\n",
       "                                                                      top  \\\n",
       "text                    \"), as well as other minority interests and gr...   \n",
       "flagged                                                                 0   \n",
       "sexual                                                                  0   \n",
       "hate                                                                    0   \n",
       "harassment                                                              0   \n",
       "self-harm                                                               0   \n",
       "sexual_minors                                                           0   \n",
       "hate_threatening                                                        0   \n",
       "violence_graphic                                                        0   \n",
       "self-harm_intent                                                        0   \n",
       "self-harm_instructions                                                  0   \n",
       "harassment_threatening                                                  0   \n",
       "violence                                                                0   \n",
       "\n",
       "                        freq  \n",
       "text                       1  \n",
       "flagged                  881  \n",
       "sexual                   978  \n",
       "hate                    1014  \n",
       "harassment               948  \n",
       "self-harm                998  \n",
       "sexual_minors           1018  \n",
       "hate_threatening        1023  \n",
       "violence_graphic        1023  \n",
       "self-harm_intent         998  \n",
       "self-harm_instructions  1019  \n",
       "harassment_threatening  1022  \n",
       "violence                1023  "
      ]
     },
     "execution_count": 43,
     "metadata": {},
     "output_type": "execute_result"
    }
   ],
   "source": [
    "detexd_test_openai_preds_df.astype('object').describe().transpose()"
   ]
  },
  {
   "cell_type": "code",
   "execution_count": 20,
   "metadata": {},
   "outputs": [],
   "source": [
    "detexd_test_openai_preds = detexd_test_openai_preds.assign(delicate=detexd_test_df['delicate'])"
   ]
  },
  {
   "cell_type": "code",
   "execution_count": 44,
   "metadata": {},
   "outputs": [
    {
     "data": {
      "text/plain": [
       "(27, 221)"
      ]
     },
     "execution_count": 44,
     "metadata": {},
     "output_type": "execute_result"
    }
   ],
   "source": [
    "detexd_openai_fps = detexd_test_df[lambda df: (df['label'] == 0) & (df['openai_pred'] == 1)]\n",
    "detexd_openai_fns = detexd_test_df[lambda df: (df['label'] == 1) & (df['openai_pred'] == 0)]\n",
    "\n",
    "len(detexd_openai_fps), len(detexd_openai_fns)"
   ]
  },
  {
   "cell_type": "code",
   "execution_count": 46,
   "metadata": {},
   "outputs": [
    {
     "data": {
      "text/html": [
       "<div>\n",
       "<style scoped>\n",
       "    .dataframe tbody tr th:only-of-type {\n",
       "        vertical-align: middle;\n",
       "    }\n",
       "\n",
       "    .dataframe tbody tr th {\n",
       "        vertical-align: top;\n",
       "    }\n",
       "\n",
       "    .dataframe thead th {\n",
       "        text-align: right;\n",
       "    }\n",
       "</style>\n",
       "<table border=\"1\" class=\"dataframe\">\n",
       "  <thead>\n",
       "    <tr style=\"text-align: right;\">\n",
       "      <th></th>\n",
       "      <th>text</th>\n",
       "      <th>annotator_1</th>\n",
       "      <th>annotator_2</th>\n",
       "      <th>annotator_3</th>\n",
       "      <th>label</th>\n",
       "      <th>detexd_pred</th>\n",
       "      <th>openai_pred</th>\n",
       "    </tr>\n",
       "  </thead>\n",
       "  <tbody>\n",
       "    <tr>\n",
       "      <th>56</th>\n",
       "      <td>2 your lighting is weak too. you have absolutely no sense of where is the light coming from, left tit is lit from the right, right tit is lit from the left, same issue with her thighs and calves, the sword gets strong light from the left and her pauldrons get light from the right. and her face is not lit at all.</td>\n",
       "      <td>2</td>\n",
       "      <td>2</td>\n",
       "      <td>2</td>\n",
       "      <td>0</td>\n",
       "      <td>False</td>\n",
       "      <td>1</td>\n",
       "    </tr>\n",
       "    <tr>\n",
       "      <th>207</th>\n",
       "      <td>Fairlawn \"ain't what it used to be\".  Some clown turned some of the apartments into section 8.  It's the same guy who destroyed Thurmont years ago.  Move to Bath, Copley (good part), or revere area.  Highland high school area is nice too.  Akron has been steadily eroding over the last 30 years or so.</td>\n",
       "      <td>0</td>\n",
       "      <td>1</td>\n",
       "      <td>0</td>\n",
       "      <td>0</td>\n",
       "      <td>False</td>\n",
       "      <td>1</td>\n",
       "    </tr>\n",
       "    <tr>\n",
       "      <th>515</th>\n",
       "      <td>Mason is a waste of a jersey offers nothing and was the main reason the smallest player on the pitch scored the winning goal. Livingston are a good side but in the second half  they were there for the taking. Sadly for us we never turned up today and haven’t done so since we knocked out the Govan tribute act.</td>\n",
       "      <td>2</td>\n",
       "      <td>0</td>\n",
       "      <td>0</td>\n",
       "      <td>0</td>\n",
       "      <td>False</td>\n",
       "      <td>1</td>\n",
       "    </tr>\n",
       "    <tr>\n",
       "      <th>511</th>\n",
       "      <td>Making about 100-150k per day without even bothering to minmax production, and it's gaining a bunch of affection and obedience from that alone because it enjoys the milking. Kept the wyvern shape on it because the mental image of a blob in the shape of a skyrim dragon with giant titties dangling off it is entertaining.</td>\n",
       "      <td>4</td>\n",
       "      <td>1</td>\n",
       "      <td>2</td>\n",
       "      <td>0</td>\n",
       "      <td>False</td>\n",
       "      <td>1</td>\n",
       "    </tr>\n",
       "    <tr>\n",
       "      <th>948</th>\n",
       "      <td>man this is smart. I would for sure pass him a $20 when he comes to my car for a donation. Better than these north american bums who come aggresively and stinking to the car begging or with some fake sad sign that I have to look away from awkwardly until I get a green</td>\n",
       "      <td>1</td>\n",
       "      <td>3</td>\n",
       "      <td>2</td>\n",
       "      <td>0</td>\n",
       "      <td>True</td>\n",
       "      <td>1</td>\n",
       "    </tr>\n",
       "    <tr>\n",
       "      <th>185</th>\n",
       "      <td>Don’t be sad it’s a lot rarer than it should be. You’re not at a disadvantage, most people are lazy selfish pricks, even parents. Don’t forget there’s also the inverse, parents that aggressively push their children and force them to be good. It can be like conditioning an animal to think it enjoys something. Humans are animals too and that’s what some parents do to make their kids succeed. You may never be a child prodigy but it’s not all it’s cracked up to be. Get good as an adult and be glad you had a normalish childhood</td>\n",
       "      <td>2</td>\n",
       "      <td>2</td>\n",
       "      <td>4</td>\n",
       "      <td>0</td>\n",
       "      <td>False</td>\n",
       "      <td>1</td>\n",
       "    </tr>\n",
       "    <tr>\n",
       "      <th>673</th>\n",
       "      <td>Thanks, I thought it would be a fun subject. It would be nice to find out how they cope and get a different perspective. Most people think those of us living in the BUSH as dirty old trappers who never wash ourselves or clothes and only men live this way. So, let's have fun. Maybe there is a woman who always dreamed about it and wished they could. Let's see.</td>\n",
       "      <td>2</td>\n",
       "      <td>4</td>\n",
       "      <td>2</td>\n",
       "      <td>0</td>\n",
       "      <td>False</td>\n",
       "      <td>1</td>\n",
       "    </tr>\n",
       "    <tr>\n",
       "      <th>171</th>\n",
       "      <td>Depends on what you need. All my main CSP brushes use pen pressure to control flow and do subtle colour mixing - this is completely impossible in Krita, where the pathetic idiots, apparently none of them being artists, have chosen to separate the brushes into a bunch of different \"engines\" and the only engine that can do colour mixing forces the flow control to always be the same strength as the amount of colour mixing. The level of brain syphilis needed for this decision, I have no idea. But it does mean that you will never have a natural looking oil brush in Krita that gradually picks up colour from the canvas. Bye bye Krita.</td>\n",
       "      <td>1</td>\n",
       "      <td>0</td>\n",
       "      <td>1</td>\n",
       "      <td>0</td>\n",
       "      <td>False</td>\n",
       "      <td>1</td>\n",
       "    </tr>\n",
       "    <tr>\n",
       "      <th>759</th>\n",
       "      <td>Their interface choices feel about as skillful - a typical case of \"Free Open Source Software\" where geeks think they're so superior, being able to make a software \"Better than all the paid ones\" even though none of them apparently have any art skills. They'll omit essential features, such as the setting to disable docking of the brush panel, just because \"we don't want to answer support questions about it\". The result being that you can either have a tiny brush panel and spend all your time scrolling it, or float it and it goes spastic every time you touch it.</td>\n",
       "      <td>2</td>\n",
       "      <td>0</td>\n",
       "      <td>0</td>\n",
       "      <td>0</td>\n",
       "      <td>False</td>\n",
       "      <td>1</td>\n",
       "    </tr>\n",
       "    <tr>\n",
       "      <th>803</th>\n",
       "      <td>Though playing devils advocate Why not include smoking because this is by far the worst drug for side effects including causing cancer not to mention how F*****g disgusting it really is someone was talking to me the other day with a fag in his hand n I had to ask him to move away, then theres the alchol drug for some people this is just like throwingmoney down the drain but unfournately some people need it.</td>\n",
       "      <td>0</td>\n",
       "      <td>3</td>\n",
       "      <td>2</td>\n",
       "      <td>0</td>\n",
       "      <td>True</td>\n",
       "      <td>1</td>\n",
       "    </tr>\n",
       "  </tbody>\n",
       "</table>\n",
       "</div>"
      ],
      "text/plain": [
       "                                                                                                                                                                                                                                                                                                                                                                                                                                                                                                                                                                                                                                                            text  \\\n",
       "56                                                                                                                                                                                                                                                                                                                                     2 your lighting is weak too. you have absolutely no sense of where is the light coming from, left tit is lit from the right, right tit is lit from the left, same issue with her thighs and calves, the sword gets strong light from the left and her pauldrons get light from the right. and her face is not lit at all.   \n",
       "207                                                                                                                                                                                                                                                                                                                                                Fairlawn \"ain't what it used to be\".  Some clown turned some of the apartments into section 8.  It's the same guy who destroyed Thurmont years ago.  Move to Bath, Copley (good part), or revere area.  Highland high school area is nice too.  Akron has been steadily eroding over the last 30 years or so.   \n",
       "515                                                                                                                                                                                                                                                                                                                                       Mason is a waste of a jersey offers nothing and was the main reason the smallest player on the pitch scored the winning goal. Livingston are a good side but in the second half  they were there for the taking. Sadly for us we never turned up today and haven’t done so since we knocked out the Govan tribute act.   \n",
       "511                                                                                                                                                                                                                                                                                                                             Making about 100-150k per day without even bothering to minmax production, and it's gaining a bunch of affection and obedience from that alone because it enjoys the milking. Kept the wyvern shape on it because the mental image of a blob in the shape of a skyrim dragon with giant titties dangling off it is entertaining.   \n",
       "948                                                                                                                                                                                                                                                                                                                                                                                 man this is smart. I would for sure pass him a $20 when he comes to my car for a donation. Better than these north american bums who come aggresively and stinking to the car begging or with some fake sad sign that I have to look away from awkwardly until I get a green   \n",
       "185                                                                                                             Don’t be sad it’s a lot rarer than it should be. You’re not at a disadvantage, most people are lazy selfish pricks, even parents. Don’t forget there’s also the inverse, parents that aggressively push their children and force them to be good. It can be like conditioning an animal to think it enjoys something. Humans are animals too and that’s what some parents do to make their kids succeed. You may never be a child prodigy but it’s not all it’s cracked up to be. Get good as an adult and be glad you had a normalish childhood   \n",
       "673                                                                                                                                                                                                                                                                                     Thanks, I thought it would be a fun subject. It would be nice to find out how they cope and get a different perspective. Most people think those of us living in the BUSH as dirty old trappers who never wash ourselves or clothes and only men live this way. So, let's have fun. Maybe there is a woman who always dreamed about it and wished they could. Let's see.   \n",
       "171  Depends on what you need. All my main CSP brushes use pen pressure to control flow and do subtle colour mixing - this is completely impossible in Krita, where the pathetic idiots, apparently none of them being artists, have chosen to separate the brushes into a bunch of different \"engines\" and the only engine that can do colour mixing forces the flow control to always be the same strength as the amount of colour mixing. The level of brain syphilis needed for this decision, I have no idea. But it does mean that you will never have a natural looking oil brush in Krita that gradually picks up colour from the canvas. Bye bye Krita.   \n",
       "759                                                                      Their interface choices feel about as skillful - a typical case of \"Free Open Source Software\" where geeks think they're so superior, being able to make a software \"Better than all the paid ones\" even though none of them apparently have any art skills. They'll omit essential features, such as the setting to disable docking of the brush panel, just because \"we don't want to answer support questions about it\". The result being that you can either have a tiny brush panel and spend all your time scrolling it, or float it and it goes spastic every time you touch it.   \n",
       "803                                                                                                                                                                                                                                   Though playing devils advocate Why not include smoking because this is by far the worst drug for side effects including causing cancer not to mention how F*****g disgusting it really is someone was talking to me the other day with a fag in his hand n I had to ask him to move away, then theres the alchol drug for some people this is just like throwingmoney down the drain but unfournately some people need it.   \n",
       "\n",
       "     annotator_1  annotator_2  annotator_3  label  detexd_pred  openai_pred  \n",
       "56             2            2            2      0        False            1  \n",
       "207            0            1            0      0        False            1  \n",
       "515            2            0            0      0        False            1  \n",
       "511            4            1            2      0        False            1  \n",
       "948            1            3            2      0         True            1  \n",
       "185            2            2            4      0        False            1  \n",
       "673            2            4            2      0        False            1  \n",
       "171            1            0            1      0        False            1  \n",
       "759            2            0            0      0        False            1  \n",
       "803            0            3            2      0         True            1  "
      ]
     },
     "metadata": {},
     "output_type": "display_data"
    }
   ],
   "source": [
    "with pd.option_context('display.max_colwidth', None):\n",
    "    display(detexd_openai_fps.sample(n=10, random_state=1337))"
   ]
  },
  {
   "cell_type": "code",
   "execution_count": 47,
   "metadata": {},
   "outputs": [
    {
     "data": {
      "text/html": [
       "<div>\n",
       "<style scoped>\n",
       "    .dataframe tbody tr th:only-of-type {\n",
       "        vertical-align: middle;\n",
       "    }\n",
       "\n",
       "    .dataframe tbody tr th {\n",
       "        vertical-align: top;\n",
       "    }\n",
       "\n",
       "    .dataframe thead th {\n",
       "        text-align: right;\n",
       "    }\n",
       "</style>\n",
       "<table border=\"1\" class=\"dataframe\">\n",
       "  <thead>\n",
       "    <tr style=\"text-align: right;\">\n",
       "      <th></th>\n",
       "      <th>text</th>\n",
       "      <th>annotator_1</th>\n",
       "      <th>annotator_2</th>\n",
       "      <th>annotator_3</th>\n",
       "      <th>label</th>\n",
       "      <th>detexd_pred</th>\n",
       "      <th>openai_pred</th>\n",
       "    </tr>\n",
       "  </thead>\n",
       "  <tbody>\n",
       "    <tr>\n",
       "      <th>461</th>\n",
       "      <td>It was one where she can make herself disappear and has a trio of pet mice around her that cover her when she loses her clothes and then are baited to leave her. In the end she has sex with one of those cloth bag mask guys. I don't remember the song that played in the background.</td>\n",
       "      <td>3</td>\n",
       "      <td>5</td>\n",
       "      <td>1</td>\n",
       "      <td>1</td>\n",
       "      <td>True</td>\n",
       "      <td>0</td>\n",
       "    </tr>\n",
       "    <tr>\n",
       "      <th>251</th>\n",
       "      <td>Hey I tried grizzly wintergreen longcut and was buzzing to the point I was nodding. I tried fine cut and didnt get a buzz at all. I then took 3 weeks off and tried Copenhagen finecut original and I'm not buzzing either? What gives? I only dip once every day or two. I just started dipping a month ago.</td>\n",
       "      <td>3</td>\n",
       "      <td>2</td>\n",
       "      <td>3</td>\n",
       "      <td>1</td>\n",
       "      <td>False</td>\n",
       "      <td>0</td>\n",
       "    </tr>\n",
       "    <tr>\n",
       "      <th>769</th>\n",
       "      <td>There was a guy. Sleight of hand wasn't known about yet and he made it look like he turned water into wine. Said it was because there's this guy in the sky that exists, who's his dad just without being a person in the first place, and like also just isn't even at all and stuff. This guy also likes to kill everyone and everything on planet Earth every once in a while because, well you know, why the hell not. People had no education then so they believed without question and started giving him their cash. The Romans said no way and he got nailed to a cross. Now people make buildings for that guy in order to create molestation fronts to this very day. Quite a logical turn of events if you ask me.</td>\n",
       "      <td>3</td>\n",
       "      <td>2</td>\n",
       "      <td>3</td>\n",
       "      <td>1</td>\n",
       "      <td>True</td>\n",
       "      <td>0</td>\n",
       "    </tr>\n",
       "    <tr>\n",
       "      <th>706</th>\n",
       "      <td>The average number of deaths per 1,000 fires is 2. This indicator was the highest - 9 in 2011, and the lowest 0 in 2002. The trend for deaths per 1,000 fire incidents is constant. Compared to the Virginia value the number of fatalities per 1,000 fires is about the same.</td>\n",
       "      <td>3</td>\n",
       "      <td>0</td>\n",
       "      <td>3</td>\n",
       "      <td>1</td>\n",
       "      <td>False</td>\n",
       "      <td>0</td>\n",
       "    </tr>\n",
       "    <tr>\n",
       "      <th>283</th>\n",
       "      <td>I am not a angry person, I am very assertive but never unfair and I rarely lose my temper unless I'm really pushed, but still I never get violent in any situation, so it can be really wierd to be told that in the night I woke up and pushed my girlfriend out of the way or screamed at her about nothing and then not remember a thing about it.</td>\n",
       "      <td>3</td>\n",
       "      <td>2</td>\n",
       "      <td>4</td>\n",
       "      <td>1</td>\n",
       "      <td>True</td>\n",
       "      <td>0</td>\n",
       "    </tr>\n",
       "    <tr>\n",
       "      <th>327</th>\n",
       "      <td>I have had two different attempts at CBT. The first was delivered by somone with very little experience and understanding and although they were good to the point where I could recognise that I was feeling ill it left me feeling rather inadequate and stupid and eventually I gave up. This was delivered in 40 min session and no clear goals or problems identification was ever drawn up. My second attempt at CBT has been a little more effective but most of all I have felt empowered and in charge of my own treatment. CBT does look at the here and know but it does examine past experiaces that have led to the formulation of thinking patterns. The big DANGER I feel with CBT is when it is delivered by inexperienced professionals who are not able to deliver the full benefits of the therepy because they are not adequatly trained and therefore it can be ineffective and useless. When the therepy is done on the cheap which seems to be happening in the NHS.</td>\n",
       "      <td>3</td>\n",
       "      <td>3</td>\n",
       "      <td>3</td>\n",
       "      <td>1</td>\n",
       "      <td>True</td>\n",
       "      <td>0</td>\n",
       "    </tr>\n",
       "    <tr>\n",
       "      <th>363</th>\n",
       "      <td>I understand a little as I had what I would call a nervous breakdown at university about 12 years ago.  I have a tendency to over think and analyse anyway, but it feels it is taking control of me again.  I got married a month ago to the most amazing and understanding man, and I know this should leave me with nothing but feelings of elation.  However, on the run up to the wedding I would spend weeks obsessing over whether I had chosen the right dress, then once I had rested that in my head weeks over whether my hair had been cut too short....and so the pattern goes on....as soon as one worry dissipates the next takes over.</td>\n",
       "      <td>4</td>\n",
       "      <td>3</td>\n",
       "      <td>4</td>\n",
       "      <td>1</td>\n",
       "      <td>True</td>\n",
       "      <td>0</td>\n",
       "    </tr>\n",
       "    <tr>\n",
       "      <th>297</th>\n",
       "      <td>I don't know if this will reach the guy who made the two-post fanfic in the Horny Warhammer Fantasy thread about a guy who becomes a trap so he can join the army, but I have a question for him. Will the trap become quite popular among the other soldiers? I find that it's common in stories for a character that crossdresses to enter a space exclusively for the opposite gender to become quite popular in that space. Consciously almost everyone is fooled, unconsciously everyone sees through the disguise and wants the crossdressers attention because they are the only source of attention from the opposite gender. Of course, in your story, that Beastwoman who ambushed him wasn't fooled which was why she only tackled and smothered him in her breasts instead of killing him.</td>\n",
       "      <td>3</td>\n",
       "      <td>1</td>\n",
       "      <td>4</td>\n",
       "      <td>1</td>\n",
       "      <td>True</td>\n",
       "      <td>0</td>\n",
       "    </tr>\n",
       "    <tr>\n",
       "      <th>242</th>\n",
       "      <td>He explained had I wanted to reach and grab it and touch it I would be bipolar and I would not be able to help it but to grab it and rant about the material etc and then quickly go onto another item of clothing that was the same colour - by did he scare me -he diagnosed cyclothymia !</td>\n",
       "      <td>2</td>\n",
       "      <td>4</td>\n",
       "      <td>4</td>\n",
       "      <td>1</td>\n",
       "      <td>True</td>\n",
       "      <td>0</td>\n",
       "    </tr>\n",
       "    <tr>\n",
       "      <th>270</th>\n",
       "      <td>How is that relevant in any way to what I've said so far? It's still not counted by the census, it's still not given a funeral in the event of a miscarriage, and by their language alone, expectant parents do not refer to their impending crumbcruncher with any terminology that would otherwise be bestowed upon a \"person\".</td>\n",
       "      <td>0</td>\n",
       "      <td>4</td>\n",
       "      <td>4</td>\n",
       "      <td>1</td>\n",
       "      <td>True</td>\n",
       "      <td>0</td>\n",
       "    </tr>\n",
       "  </tbody>\n",
       "</table>\n",
       "</div>"
      ],
      "text/plain": [
       "                                                                                                                                                                                                                                                                                                                                                                                                                                                                                                                                                                                                                                                                                                                                                                                                                                                                                                                                                                                            text  \\\n",
       "461                                                                                                                                                                                                                                                                                                                                                                                                                                                                                                                                                                                                                                                                                                     It was one where she can make herself disappear and has a trio of pet mice around her that cover her when she loses her clothes and then are baited to leave her. In the end she has sex with one of those cloth bag mask guys. I don't remember the song that played in the background.   \n",
       "251                                                                                                                                                                                                                                                                                                                                                                                                                                                                                                                                                                                                                                                                                Hey I tried grizzly wintergreen longcut and was buzzing to the point I was nodding. I tried fine cut and didnt get a buzz at all. I then took 3 weeks off and tried Copenhagen finecut original and I'm not buzzing either? What gives? I only dip once every day or two. I just started dipping a month ago.   \n",
       "769                                                                                                                                                                                                                                                               There was a guy. Sleight of hand wasn't known about yet and he made it look like he turned water into wine. Said it was because there's this guy in the sky that exists, who's his dad just without being a person in the first place, and like also just isn't even at all and stuff. This guy also likes to kill everyone and everything on planet Earth every once in a while because, well you know, why the hell not. People had no education then so they believed without question and started giving him their cash. The Romans said no way and he got nailed to a cross. Now people make buildings for that guy in order to create molestation fronts to this very day. Quite a logical turn of events if you ask me.   \n",
       "706                                                                                                                                                                                                                                                                                                                                                                                                                                                                                                                                                                                                                                                                                                               The average number of deaths per 1,000 fires is 2. This indicator was the highest - 9 in 2011, and the lowest 0 in 2002. The trend for deaths per 1,000 fire incidents is constant. Compared to the Virginia value the number of fatalities per 1,000 fires is about the same.   \n",
       "283                                                                                                                                                                                                                                                                                                                                                                                                                                                                                                                                                                                                                                        I am not a angry person, I am very assertive but never unfair and I rarely lose my temper unless I'm really pushed, but still I never get violent in any situation, so it can be really wierd to be told that in the night I woke up and pushed my girlfriend out of the way or screamed at her about nothing and then not remember a thing about it.   \n",
       "327  I have had two different attempts at CBT. The first was delivered by somone with very little experience and understanding and although they were good to the point where I could recognise that I was feeling ill it left me feeling rather inadequate and stupid and eventually I gave up. This was delivered in 40 min session and no clear goals or problems identification was ever drawn up. My second attempt at CBT has been a little more effective but most of all I have felt empowered and in charge of my own treatment. CBT does look at the here and know but it does examine past experiaces that have led to the formulation of thinking patterns. The big DANGER I feel with CBT is when it is delivered by inexperienced professionals who are not able to deliver the full benefits of the therepy because they are not adequatly trained and therefore it can be ineffective and useless. When the therepy is done on the cheap which seems to be happening in the NHS.   \n",
       "363                                                                                                                                                                                                                                                                                                                                        I understand a little as I had what I would call a nervous breakdown at university about 12 years ago.  I have a tendency to over think and analyse anyway, but it feels it is taking control of me again.  I got married a month ago to the most amazing and understanding man, and I know this should leave me with nothing but feelings of elation.  However, on the run up to the wedding I would spend weeks obsessing over whether I had chosen the right dress, then once I had rested that in my head weeks over whether my hair had been cut too short....and so the pattern goes on....as soon as one worry dissipates the next takes over.   \n",
       "297                                                                                                                                                                                       I don't know if this will reach the guy who made the two-post fanfic in the Horny Warhammer Fantasy thread about a guy who becomes a trap so he can join the army, but I have a question for him. Will the trap become quite popular among the other soldiers? I find that it's common in stories for a character that crossdresses to enter a space exclusively for the opposite gender to become quite popular in that space. Consciously almost everyone is fooled, unconsciously everyone sees through the disguise and wants the crossdressers attention because they are the only source of attention from the opposite gender. Of course, in your story, that Beastwoman who ambushed him wasn't fooled which was why she only tackled and smothered him in her breasts instead of killing him.   \n",
       "242                                                                                                                                                                                                                                                                                                                                                                                                                                                                                                                                                                                                                                                                                                 He explained had I wanted to reach and grab it and touch it I would be bipolar and I would not be able to help it but to grab it and rant about the material etc and then quickly go onto another item of clothing that was the same colour - by did he scare me -he diagnosed cyclothymia !   \n",
       "270                                                                                                                                                                                                                                                                                                                                                                                                                                                                                                                                                                                                                                                            How is that relevant in any way to what I've said so far? It's still not counted by the census, it's still not given a funeral in the event of a miscarriage, and by their language alone, expectant parents do not refer to their impending crumbcruncher with any terminology that would otherwise be bestowed upon a \"person\".   \n",
       "\n",
       "     annotator_1  annotator_2  annotator_3  label  detexd_pred  openai_pred  \n",
       "461            3            5            1      1         True            0  \n",
       "251            3            2            3      1        False            0  \n",
       "769            3            2            3      1         True            0  \n",
       "706            3            0            3      1        False            0  \n",
       "283            3            2            4      1         True            0  \n",
       "327            3            3            3      1         True            0  \n",
       "363            4            3            4      1         True            0  \n",
       "297            3            1            4      1         True            0  \n",
       "242            2            4            4      1         True            0  \n",
       "270            0            4            4      1         True            0  "
      ]
     },
     "metadata": {},
     "output_type": "display_data"
    }
   ],
   "source": [
    "with pd.option_context('display.max_colwidth', None):\n",
    "    display(detexd_openai_fns.sample(n=10, random_state=1337))"
   ]
  }
 ],
 "metadata": {
  "kernelspec": {
   "display_name": ".venv",
   "language": "python",
   "name": "python3"
  },
  "language_info": {
   "codemirror_mode": {
    "name": "ipython",
    "version": 3
   },
   "file_extension": ".py",
   "mimetype": "text/x-python",
   "name": "python",
   "nbconvert_exporter": "python",
   "pygments_lexer": "ipython3",
   "version": "3.9.13"
  },
  "orig_nbformat": 4,
  "vscode": {
   "interpreter": {
    "hash": "b8ed81a2fccbe64dcc3cc5cf1ea65ecf0aa1eef39de8c4bc97050fa82cc63c30"
   }
  }
 },
 "nbformat": 4,
 "nbformat_minor": 2
}
