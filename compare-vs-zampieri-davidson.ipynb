{
 "cells": [
  {
   "cell_type": "markdown",
   "metadata": {},
   "source": [
    "# DeTexD vs Zampieri, Davidson\n",
    "\n",
    "Evaluate performance of DeTexD baseline model on the following datasets:\n",
    "\n",
    "- OLID from Zampieri et. al.\n",
    "- dataset Davidson et. al.\n",
    "- DeTexD benchmark dataset\n"
   ]
  },
  {
   "cell_type": "code",
   "execution_count": 4,
   "metadata": {},
   "outputs": [],
   "source": [
    "import os\n",
    "import html\n",
    "import pandas as pd\n",
    "import torch\n",
    "from IPython.display import HTML, display\n",
    "from sklearn.metrics import classification_report\n",
    "from datasets import load_dataset\n",
    "from evaluate_detexd_roberta import predict_delicate\n",
    "from transformers import pipeline"
   ]
  },
  {
   "attachments": {},
   "cell_type": "markdown",
   "metadata": {},
   "source": [
    "Datasets:\n",
    "1. Davidson et. al. https://arxiv.org/pdf/1703.04009.pdf\n",
    "2. Zampieri et. al. https://aclanthology.org/N19-1144.pdf"
   ]
  },
  {
   "attachments": {},
   "cell_type": "markdown",
   "metadata": {},
   "source": [
    "### Zampieri et. al. (aka OLID)\n",
    "\n",
    "3) TASKS AND LABELS\n",
    "\n",
    "(A) Level A: Offensive language identification\n",
    "\n",
    "- (NOT) Not Offensive - This post does not contain offense or profanity.\n",
    "- (OFF) Offensive - This post contains offensive language or a targeted (veiled or direct) offense\n",
    "\n",
    "In our annotation, we label a post as offensive (OFF) if it contains any form of non-acceptable language (profanity) or a targeted offense, which can be veiled or direct. \n",
    "\n",
    "(B) Level B: Automatic categorization of offense types\n",
    "\n",
    "- (TIN) Targeted Insult and Threats - A post containing an insult or threat to an individual, a group, or others (see categories in sub-task C).\n",
    "- (UNT) Untargeted - A post containing non-targeted profanity and swearing.\n",
    "\n",
    "Posts containing general profanity are not targeted, but they contain non-acceptable language.\n",
    "\n",
    "(C) Level C: Offense target identification\n",
    "\n",
    "- (IND) Individual - The target of the offensive post is an individual: a famous person, a named individual or an unnamed person interacting in the conversation.\n",
    "- (GRP) Group - The target of the offensive post is a group of people considered as a unity due to the same ethnicity, gender or sexual orientation, political affiliation, religious belief, or something else.\n",
    "- (OTH) Other – The target of the offensive post does not belong to any of the previous two categories (e.g., an organization, a situation, an event, or an issue)"
   ]
  },
  {
   "cell_type": "code",
   "execution_count": 5,
   "metadata": {},
   "outputs": [
    {
     "data": {
      "text/plain": [
       "((13240, 7),\n",
       " Index(['del', 'id', 'tweet', 'subtask_a', 'subtask_b', 'subtask_c',\n",
       "        'cleaned_tweet'],\n",
       "       dtype='object'))"
      ]
     },
     "execution_count": 5,
     "metadata": {},
     "output_type": "execute_result"
    }
   ],
   "source": [
    "# NOTE: unfortunately, the OLID dataset is not easily obtainable at original address\n",
    "# (https://competitions.codalab.org/competitions/20011/results/34108/data), to further\n",
    "# reproducibility here we use a local copy of the data derived from https://github.com/idontflow/OLID\n",
    "\n",
    "olid_data_path = 'olid_data.csv'\n",
    "\n",
    "olid_df = pd.read_csv(olid_data_path)\n",
    "olid_df.shape, olid_df.columns"
   ]
  },
  {
   "cell_type": "code",
   "execution_count": 6,
   "metadata": {},
   "outputs": [
    {
     "data": {
      "text/html": [
       "<div>\n",
       "<style scoped>\n",
       "    .dataframe tbody tr th:only-of-type {\n",
       "        vertical-align: middle;\n",
       "    }\n",
       "\n",
       "    .dataframe tbody tr th {\n",
       "        vertical-align: top;\n",
       "    }\n",
       "\n",
       "    .dataframe thead th {\n",
       "        text-align: right;\n",
       "    }\n",
       "</style>\n",
       "<table border=\"1\" class=\"dataframe\">\n",
       "  <thead>\n",
       "    <tr style=\"text-align: right;\">\n",
       "      <th></th>\n",
       "      <th>count</th>\n",
       "      <th>unique</th>\n",
       "      <th>top</th>\n",
       "      <th>freq</th>\n",
       "    </tr>\n",
       "  </thead>\n",
       "  <tbody>\n",
       "    <tr>\n",
       "      <th>del</th>\n",
       "      <td>13240</td>\n",
       "      <td>13240</td>\n",
       "      <td>0</td>\n",
       "      <td>1</td>\n",
       "    </tr>\n",
       "    <tr>\n",
       "      <th>id</th>\n",
       "      <td>13240</td>\n",
       "      <td>13240</td>\n",
       "      <td>86426</td>\n",
       "      <td>1</td>\n",
       "    </tr>\n",
       "    <tr>\n",
       "      <th>tweet</th>\n",
       "      <td>13240</td>\n",
       "      <td>13207</td>\n",
       "      <td>@USER Looks Like The Jokes On Liberals Again. ...</td>\n",
       "      <td>6</td>\n",
       "    </tr>\n",
       "    <tr>\n",
       "      <th>subtask_a</th>\n",
       "      <td>13240</td>\n",
       "      <td>2</td>\n",
       "      <td>NOT</td>\n",
       "      <td>8840</td>\n",
       "    </tr>\n",
       "    <tr>\n",
       "      <th>subtask_b</th>\n",
       "      <td>4400</td>\n",
       "      <td>2</td>\n",
       "      <td>TIN</td>\n",
       "      <td>3876</td>\n",
       "    </tr>\n",
       "    <tr>\n",
       "      <th>subtask_c</th>\n",
       "      <td>3876</td>\n",
       "      <td>3</td>\n",
       "      <td>IND</td>\n",
       "      <td>2407</td>\n",
       "    </tr>\n",
       "    <tr>\n",
       "      <th>cleaned_tweet</th>\n",
       "      <td>13156</td>\n",
       "      <td>12797</td>\n",
       "      <td>yes</td>\n",
       "      <td>22</td>\n",
       "    </tr>\n",
       "  </tbody>\n",
       "</table>\n",
       "</div>"
      ],
      "text/plain": [
       "               count unique  \\\n",
       "del            13240  13240   \n",
       "id             13240  13240   \n",
       "tweet          13240  13207   \n",
       "subtask_a      13240      2   \n",
       "subtask_b       4400      2   \n",
       "subtask_c       3876      3   \n",
       "cleaned_tweet  13156  12797   \n",
       "\n",
       "                                                             top  freq  \n",
       "del                                                            0     1  \n",
       "id                                                         86426     1  \n",
       "tweet          @USER Looks Like The Jokes On Liberals Again. ...     6  \n",
       "subtask_a                                                    NOT  8840  \n",
       "subtask_b                                                    TIN  3876  \n",
       "subtask_c                                                    IND  2407  \n",
       "cleaned_tweet                                                yes    22  "
      ]
     },
     "execution_count": 6,
     "metadata": {},
     "output_type": "execute_result"
    }
   ],
   "source": [
    "olid_df.astype('object').describe().transpose()"
   ]
  },
  {
   "cell_type": "code",
   "execution_count": 7,
   "metadata": {},
   "outputs": [
    {
     "data": {
      "text/plain": [
       "subtask_a\n",
       "NOT    8840\n",
       "OFF    4400\n",
       "Name: count, dtype: int64"
      ]
     },
     "execution_count": 7,
     "metadata": {},
     "output_type": "execute_result"
    }
   ],
   "source": [
    "olid_df['subtask_a'].value_counts()"
   ]
  },
  {
   "cell_type": "code",
   "execution_count": 8,
   "metadata": {},
   "outputs": [],
   "source": [
    "# normalize text format\n",
    "# this dataset contains unescaped HTML entities\n",
    "olid_df['text'] = olid_df['tweet'].apply(html.unescape)"
   ]
  },
  {
   "cell_type": "code",
   "execution_count": 9,
   "metadata": {},
   "outputs": [
    {
     "data": {
      "text/plain": [
       "offensive\n",
       "0    8840\n",
       "1    4400\n",
       "Name: count, dtype: int64"
      ]
     },
     "execution_count": 9,
     "metadata": {},
     "output_type": "execute_result"
    }
   ],
   "source": [
    "olid_df['offensive'] = olid_df['subtask_a'].apply(lambda x: int(x == 'OFF'))\n",
    "olid_df['offensive'].value_counts()"
   ]
  },
  {
   "attachments": {},
   "cell_type": "markdown",
   "metadata": {},
   "source": [
    "### Davidson et. al.\n",
    "\n",
    "- https://github.com/t-davidson/hate-speech-and-offensive-language/tree/master/data\n",
    "\n",
    "- count = number of CrowdFlower users who coded each tweet (min is 3, sometimes more users coded a tweet when judgments were determined to be unreliable by CF).\n",
    "- hate_speech = number of CF users who judged the tweet to be hate speech.\n",
    "- offensive_language = number of CF users who judged the tweet to be offensive.\n",
    "- neither = number of CF users who judged the tweet to be neither offensive nor non-offensive.\n",
    "- class = class label for majority of CF users. 0 - hate speech 1 - offensive language 2 - neither"
   ]
  },
  {
   "cell_type": "code",
   "execution_count": 11,
   "metadata": {},
   "outputs": [
    {
     "name": "stdout",
     "output_type": "stream",
     "text": [
      "--2023-07-10 13:26:10--  https://github.com/t-davidson/hate-speech-and-offensive-language/raw/master/data/labeled_data.csv\n",
      "Resolving github.com (github.com)... 140.82.113.4\n",
      "Connecting to github.com (github.com)|140.82.113.4|:443... connected.\n",
      "HTTP request sent, awaiting response... 302 Found\n",
      "Location: https://raw.githubusercontent.com/t-davidson/hate-speech-and-offensive-language/master/data/labeled_data.csv [following]\n",
      "--2023-07-10 13:26:11--  https://raw.githubusercontent.com/t-davidson/hate-speech-and-offensive-language/master/data/labeled_data.csv\n",
      "Resolving raw.githubusercontent.com (raw.githubusercontent.com)... 185.199.108.133, 185.199.109.133, 185.199.110.133, ...\n",
      "Connecting to raw.githubusercontent.com (raw.githubusercontent.com)|185.199.108.133|:443... connected.\n",
      "HTTP request sent, awaiting response... 200 OK\n",
      "Length: 2546446 (2.4M) [text/plain]\n",
      "Saving to: ‘STDOUT’\n",
      "\n",
      "-                   100%[===================>]   2.43M  --.-KB/s    in 0.1s    \n",
      "\n",
      "2023-07-10 13:26:11 (16.2 MB/s) - written to stdout [2546446/2546446]\n",
      "\n"
     ]
    }
   ],
   "source": [
    "# Davidson et. al.\n",
    "davidson_data_path = 'davidson.csv'\n",
    "\n",
    "if not os.path.isfile(davidson_data_path):\n",
    "    !wget https://github.com/t-davidson/hate-speech-and-offensive-language/raw/master/data/labeled_data.csv -O - \\\n",
    "        > {davidson_data_path}"
   ]
  },
  {
   "cell_type": "code",
   "execution_count": 12,
   "metadata": {},
   "outputs": [
    {
     "data": {
      "text/plain": [
       "((24783, 7),\n",
       " Index(['Unnamed: 0', 'count', 'hate_speech', 'offensive_language', 'neither',\n",
       "        'class', 'tweet'],\n",
       "       dtype='object'))"
      ]
     },
     "execution_count": 12,
     "metadata": {},
     "output_type": "execute_result"
    }
   ],
   "source": [
    "davidson_df = pd.read_csv(davidson_data_path)\n",
    "davidson_df.shape, davidson_df.columns"
   ]
  },
  {
   "cell_type": "code",
   "execution_count": 13,
   "metadata": {},
   "outputs": [
    {
     "data": {
      "text/html": [
       "<div>\n",
       "<style scoped>\n",
       "    .dataframe tbody tr th:only-of-type {\n",
       "        vertical-align: middle;\n",
       "    }\n",
       "\n",
       "    .dataframe tbody tr th {\n",
       "        vertical-align: top;\n",
       "    }\n",
       "\n",
       "    .dataframe thead th {\n",
       "        text-align: right;\n",
       "    }\n",
       "</style>\n",
       "<table border=\"1\" class=\"dataframe\">\n",
       "  <thead>\n",
       "    <tr style=\"text-align: right;\">\n",
       "      <th></th>\n",
       "      <th>count</th>\n",
       "      <th>unique</th>\n",
       "      <th>top</th>\n",
       "      <th>freq</th>\n",
       "    </tr>\n",
       "  </thead>\n",
       "  <tbody>\n",
       "    <tr>\n",
       "      <th>Unnamed: 0</th>\n",
       "      <td>24783</td>\n",
       "      <td>24783</td>\n",
       "      <td>0</td>\n",
       "      <td>1</td>\n",
       "    </tr>\n",
       "    <tr>\n",
       "      <th>count</th>\n",
       "      <td>24783</td>\n",
       "      <td>5</td>\n",
       "      <td>3</td>\n",
       "      <td>22807</td>\n",
       "    </tr>\n",
       "    <tr>\n",
       "      <th>hate_speech</th>\n",
       "      <td>24783</td>\n",
       "      <td>8</td>\n",
       "      <td>0</td>\n",
       "      <td>19790</td>\n",
       "    </tr>\n",
       "    <tr>\n",
       "      <th>offensive_language</th>\n",
       "      <td>24783</td>\n",
       "      <td>10</td>\n",
       "      <td>3</td>\n",
       "      <td>13383</td>\n",
       "    </tr>\n",
       "    <tr>\n",
       "      <th>neither</th>\n",
       "      <td>24783</td>\n",
       "      <td>10</td>\n",
       "      <td>0</td>\n",
       "      <td>18892</td>\n",
       "    </tr>\n",
       "    <tr>\n",
       "      <th>class</th>\n",
       "      <td>24783</td>\n",
       "      <td>3</td>\n",
       "      <td>1</td>\n",
       "      <td>19190</td>\n",
       "    </tr>\n",
       "    <tr>\n",
       "      <th>tweet</th>\n",
       "      <td>24783</td>\n",
       "      <td>24783</td>\n",
       "      <td>!!! RT @mayasolovely: As a woman you shouldn't...</td>\n",
       "      <td>1</td>\n",
       "    </tr>\n",
       "  </tbody>\n",
       "</table>\n",
       "</div>"
      ],
      "text/plain": [
       "                    count unique  \\\n",
       "Unnamed: 0          24783  24783   \n",
       "count               24783      5   \n",
       "hate_speech         24783      8   \n",
       "offensive_language  24783     10   \n",
       "neither             24783     10   \n",
       "class               24783      3   \n",
       "tweet               24783  24783   \n",
       "\n",
       "                                                                  top   freq  \n",
       "Unnamed: 0                                                          0      1  \n",
       "count                                                               3  22807  \n",
       "hate_speech                                                         0  19790  \n",
       "offensive_language                                                  3  13383  \n",
       "neither                                                             0  18892  \n",
       "class                                                               1  19190  \n",
       "tweet               !!! RT @mayasolovely: As a woman you shouldn't...      1  "
      ]
     },
     "execution_count": 13,
     "metadata": {},
     "output_type": "execute_result"
    }
   ],
   "source": [
    "davidson_df.astype('object').describe().transpose()"
   ]
  },
  {
   "cell_type": "code",
   "execution_count": 14,
   "metadata": {},
   "outputs": [
    {
     "data": {
      "text/plain": [
       "class\n",
       "1    19190\n",
       "2     4163\n",
       "0     1430\n",
       "Name: count, dtype: int64"
      ]
     },
     "execution_count": 14,
     "metadata": {},
     "output_type": "execute_result"
    }
   ],
   "source": [
    "davidson_df['class'].value_counts()"
   ]
  },
  {
   "cell_type": "code",
   "execution_count": 15,
   "metadata": {},
   "outputs": [
    {
     "data": {
      "text/plain": [
       "(offensive_or_hate\n",
       " 1    20620\n",
       " 0     4163\n",
       " Name: count, dtype: int64,\n",
       " offensive\n",
       " 1    19190\n",
       " 0     5593\n",
       " Name: count, dtype: int64,\n",
       " hate\n",
       " 0    23353\n",
       " 1     1430\n",
       " Name: count, dtype: int64)"
      ]
     },
     "execution_count": 15,
     "metadata": {},
     "output_type": "execute_result"
    }
   ],
   "source": [
    "# convert davidson predictions to binary\n",
    "\n",
    "davidson_df['offensive'] = davidson_df['class'].apply(lambda x: int(x == 1))\n",
    "davidson_df['hate'] = davidson_df['class'].apply(lambda x: int(x == 0))\n",
    "davidson_df['offensive_or_hate'] = davidson_df['class'].apply(lambda x: int(x <= 1))\n",
    "\n",
    "davidson_df['offensive_or_hate'].value_counts(), davidson_df['offensive'].value_counts(), davidson_df['hate'].value_counts()"
   ]
  },
  {
   "cell_type": "code",
   "execution_count": 16,
   "metadata": {},
   "outputs": [],
   "source": [
    "# normalize text format\n",
    "# this dataset contains unescaped HTML entities\n",
    "davidson_df['text'] = davidson_df['tweet'].apply(html.unescape)"
   ]
  },
  {
   "attachments": {},
   "cell_type": "markdown",
   "metadata": {},
   "source": [
    "### DeTexD dataset"
   ]
  },
  {
   "cell_type": "code",
   "execution_count": 17,
   "metadata": {},
   "outputs": [
    {
     "data": {
      "application/vnd.jupyter.widget-view+json": {
       "model_id": "1d5a568ac5914e508ea7015859552b45",
       "version_major": 2,
       "version_minor": 0
      },
      "text/plain": [
       "Downloading readme:   0%|          | 0.00/3.54k [00:00<?, ?B/s]"
      ]
     },
     "metadata": {},
     "output_type": "display_data"
    },
    {
     "name": "stdout",
     "output_type": "stream",
     "text": [
      "Downloading and preparing dataset None/None to /Users/eis/.cache/huggingface/datasets/grammarly___csv/grammarly--detexd-benchmark-83592511fc08ad4e/0.0.0/eea64c71ca8b46dd3f537ed218fc9bf495d5707789152eb2764f5c78fa66d59d...\n"
     ]
    },
    {
     "data": {
      "application/vnd.jupyter.widget-view+json": {
       "model_id": "62deb8850042415ca3a63353720af25e",
       "version_major": 2,
       "version_minor": 0
      },
      "text/plain": [
       "Downloading data files:   0%|          | 0/1 [00:00<?, ?it/s]"
      ]
     },
     "metadata": {},
     "output_type": "display_data"
    },
    {
     "data": {
      "application/vnd.jupyter.widget-view+json": {
       "model_id": "c8bf053034d747ceb0e36f78149b6ee0",
       "version_major": 2,
       "version_minor": 0
      },
      "text/plain": [
       "Downloading data:   0%|          | 0.00/462k [00:00<?, ?B/s]"
      ]
     },
     "metadata": {},
     "output_type": "display_data"
    },
    {
     "data": {
      "application/vnd.jupyter.widget-view+json": {
       "model_id": "19fabc4ae477432db37e844ffabef11a",
       "version_major": 2,
       "version_minor": 0
      },
      "text/plain": [
       "Extracting data files:   0%|          | 0/1 [00:00<?, ?it/s]"
      ]
     },
     "metadata": {},
     "output_type": "display_data"
    },
    {
     "data": {
      "application/vnd.jupyter.widget-view+json": {
       "model_id": "a769a10f53e2440ba3f72a3853d6b601",
       "version_major": 2,
       "version_minor": 0
      },
      "text/plain": [
       "Generating test split:   0%|          | 0/1023 [00:00<?, ? examples/s]"
      ]
     },
     "metadata": {},
     "output_type": "display_data"
    },
    {
     "name": "stdout",
     "output_type": "stream",
     "text": [
      "Dataset csv downloaded and prepared to /Users/eis/.cache/huggingface/datasets/grammarly___csv/grammarly--detexd-benchmark-83592511fc08ad4e/0.0.0/eea64c71ca8b46dd3f537ed218fc9bf495d5707789152eb2764f5c78fa66d59d. Subsequent calls will reuse this data.\n"
     ]
    },
    {
     "data": {
      "text/plain": [
       "((1023, 5),\n",
       " Index(['text', 'annotator_1', 'annotator_2', 'annotator_3', 'label'], dtype='object'))"
      ]
     },
     "execution_count": 17,
     "metadata": {},
     "output_type": "execute_result"
    }
   ],
   "source": [
    "detexd_test_df = load_dataset(\"grammarly/detexd-benchmark\", split='test').to_pandas()\n",
    "detexd_test_df.shape, detexd_test_df.columns"
   ]
  },
  {
   "cell_type": "code",
   "execution_count": 18,
   "metadata": {},
   "outputs": [
    {
     "data": {
      "text/html": [
       "<div>\n",
       "<style scoped>\n",
       "    .dataframe tbody tr th:only-of-type {\n",
       "        vertical-align: middle;\n",
       "    }\n",
       "\n",
       "    .dataframe tbody tr th {\n",
       "        vertical-align: top;\n",
       "    }\n",
       "\n",
       "    .dataframe thead th {\n",
       "        text-align: right;\n",
       "    }\n",
       "</style>\n",
       "<table border=\"1\" class=\"dataframe\">\n",
       "  <thead>\n",
       "    <tr style=\"text-align: right;\">\n",
       "      <th></th>\n",
       "      <th>count</th>\n",
       "      <th>unique</th>\n",
       "      <th>top</th>\n",
       "      <th>freq</th>\n",
       "    </tr>\n",
       "  </thead>\n",
       "  <tbody>\n",
       "    <tr>\n",
       "      <th>text</th>\n",
       "      <td>1023</td>\n",
       "      <td>1023</td>\n",
       "      <td>\"), as well as other minority interests and gr...</td>\n",
       "      <td>1</td>\n",
       "    </tr>\n",
       "    <tr>\n",
       "      <th>annotator_1</th>\n",
       "      <td>1023</td>\n",
       "      <td>6</td>\n",
       "      <td>0</td>\n",
       "      <td>494</td>\n",
       "    </tr>\n",
       "    <tr>\n",
       "      <th>annotator_2</th>\n",
       "      <td>1023</td>\n",
       "      <td>6</td>\n",
       "      <td>0</td>\n",
       "      <td>484</td>\n",
       "    </tr>\n",
       "    <tr>\n",
       "      <th>annotator_3</th>\n",
       "      <td>1023</td>\n",
       "      <td>6</td>\n",
       "      <td>0</td>\n",
       "      <td>531</td>\n",
       "    </tr>\n",
       "    <tr>\n",
       "      <th>label</th>\n",
       "      <td>1023</td>\n",
       "      <td>2</td>\n",
       "      <td>0</td>\n",
       "      <td>687</td>\n",
       "    </tr>\n",
       "  </tbody>\n",
       "</table>\n",
       "</div>"
      ],
      "text/plain": [
       "            count unique                                                top  \\\n",
       "text         1023   1023  \"), as well as other minority interests and gr...   \n",
       "annotator_1  1023      6                                                  0   \n",
       "annotator_2  1023      6                                                  0   \n",
       "annotator_3  1023      6                                                  0   \n",
       "label        1023      2                                                  0   \n",
       "\n",
       "            freq  \n",
       "text           1  \n",
       "annotator_1  494  \n",
       "annotator_2  484  \n",
       "annotator_3  531  \n",
       "label        687  "
      ]
     },
     "execution_count": 18,
     "metadata": {},
     "output_type": "execute_result"
    }
   ],
   "source": [
    "detexd_test_df.astype('object').describe().transpose()"
   ]
  },
  {
   "attachments": {},
   "cell_type": "markdown",
   "metadata": {},
   "source": [
    "### Run DeTexD predictions"
   ]
  },
  {
   "cell_type": "code",
   "execution_count": 19,
   "metadata": {},
   "outputs": [
    {
     "name": "stderr",
     "output_type": "stream",
     "text": [
      "Xformers is not installed correctly. If you want to use memory_efficient_attention to accelerate training use the following command to install Xformers\n",
      "pip install xformers.\n"
     ]
    },
    {
     "data": {
      "application/vnd.jupyter.widget-view+json": {
       "model_id": "e07c6e1bd3ad4c1aaa6e6340f88b0bb1",
       "version_major": 2,
       "version_minor": 0
      },
      "text/plain": [
       "  0%|          | 0/2 [00:00<?, ?it/s]"
      ]
     },
     "metadata": {},
     "output_type": "display_data"
    },
    {
     "data": {
      "text/plain": [
       "[False, False]"
      ]
     },
     "execution_count": 19,
     "metadata": {},
     "output_type": "execute_result"
    }
   ],
   "source": [
    "classifier = pipeline(\"text-classification\", model=\"grammarly/detexd-roberta-base\", device=torch.device('cpu'), batch_size=8)\n",
    "predict_delicate(classifier, ['I love you', 'I hate you'])"
   ]
  },
  {
   "cell_type": "code",
   "execution_count": 24,
   "metadata": {},
   "outputs": [
    {
     "data": {
      "application/vnd.jupyter.widget-view+json": {
       "model_id": "8101c71c0eb44cfe9a7b2a573531098e",
       "version_major": 2,
       "version_minor": 0
      },
      "text/plain": [
       "  0%|          | 0/24783 [00:00<?, ?it/s]"
      ]
     },
     "metadata": {},
     "output_type": "display_data"
    }
   ],
   "source": [
    "davidson_df['detexd_pred'] = predict_delicate(classifier, davidson_df['text'].tolist())"
   ]
  },
  {
   "cell_type": "code",
   "execution_count": 36,
   "metadata": {},
   "outputs": [
    {
     "data": {
      "application/vnd.jupyter.widget-view+json": {
       "model_id": "9b0214bf8f6c41f89e190e68f8997d93",
       "version_major": 2,
       "version_minor": 0
      },
      "text/plain": [
       "  0%|          | 0/13240 [00:00<?, ?it/s]"
      ]
     },
     "metadata": {},
     "output_type": "display_data"
    }
   ],
   "source": [
    "olid_df['detexd_pred'] = predict_delicate(classifier, olid_df['text'].tolist())"
   ]
  },
  {
   "cell_type": "code",
   "execution_count": 41,
   "metadata": {},
   "outputs": [
    {
     "data": {
      "application/vnd.jupyter.widget-view+json": {
       "model_id": "30e6b8298ec24ed7bf00d3dbcb0585a7",
       "version_major": 2,
       "version_minor": 0
      },
      "text/plain": [
       "  0%|          | 0/1023 [00:00<?, ?it/s]"
      ]
     },
     "metadata": {},
     "output_type": "display_data"
    }
   ],
   "source": [
    "detexd_test_df['detexd_pred'] = predict_delicate(classifier, detexd_test_df['text'].tolist())"
   ]
  },
  {
   "attachments": {},
   "cell_type": "markdown",
   "metadata": {},
   "source": [
    "## Evaluate on Davidson dataset"
   ]
  },
  {
   "cell_type": "code",
   "execution_count": 26,
   "metadata": {},
   "outputs": [
    {
     "data": {
      "text/plain": [
       "detexd_pred\n",
       "True     15268\n",
       "False     9515\n",
       "Name: count, dtype: int64"
      ]
     },
     "execution_count": 26,
     "metadata": {},
     "output_type": "execute_result"
    }
   ],
   "source": [
    "davidson_df['detexd_pred'].value_counts()"
   ]
  },
  {
   "cell_type": "code",
   "execution_count": 29,
   "metadata": {},
   "outputs": [
    {
     "data": {
      "text/plain": [
       "(class\n",
       " 2    4163\n",
       " 0    1430\n",
       " Name: count, dtype: int64,\n",
       " class\n",
       " 1    19190\n",
       " 2     4163\n",
       " Name: count, dtype: int64)"
      ]
     },
     "execution_count": 29,
     "metadata": {},
     "output_type": "execute_result"
    }
   ],
   "source": [
    "# create data subsets for separate hate and offensive label evals\n",
    "davidson_hate_df = davidson_df[davidson_df['class'].apply(lambda x: x == 0 or x == 2)]\n",
    "davidson_offensive_df = davidson_df[davidson_df['class'].apply(lambda x: x == 1 or x == 2)]\n",
    "\n",
    "davidson_hate_df['class'].value_counts(), davidson_offensive_df['class'].value_counts()"
   ]
  },
  {
   "cell_type": "code",
   "execution_count": 27,
   "metadata": {},
   "outputs": [],
   "source": [
    "def do_eval(texts, y_true, y_pred, fpfn_samples=15):\n",
    "    return dict(\n",
    "        eval=classification_report(\n",
    "            y_true, y_pred,\n",
    "            output_dict=True\n",
    "        )['1'],\n",
    "        fps=(fps := [t for t, y, yh in zip(texts, y_true, y_pred) if y == 0 and yh == 1]),\n",
    "        fns=(fns := [t for t, y, yh in zip(texts, y_true, y_pred) if y == 1 and yh == 0]),\n",
    "        fps_sample=pd.Series(fps).sample(n=fpfn_samples, random_state=0),\n",
    "        fns_sample=pd.Series(fns).sample(n=fpfn_samples, random_state=0),\n",
    "    )\n",
    "\n",
    "def show_eval(eval_results):\n",
    "    display(HTML(pd.DataFrame([\n",
    "        {\n",
    "            'Precision': eval_results['eval']['precision'],\n",
    "            'Recall': eval_results['eval']['recall'],\n",
    "            'F1-score': eval_results['eval']['f1-score'],\n",
    "        }\n",
    "    ]).style.format({\n",
    "        'Precision': '{:,.1%}'.format,\n",
    "        'Recall': '{:,.1%}'.format,\n",
    "        'F1-score': '{:,.1%}'.format,\n",
    "    }).to_html(index=False)))\n",
    "\n",
    "    display(HTML(eval_results['fps_sample'].rename('FPs').to_frame().to_html(index=False)))\n",
    "    display(HTML(eval_results['fns_sample'].rename('FNs').to_frame().to_html(index=False)))\n"
   ]
  },
  {
   "cell_type": "code",
   "execution_count": 31,
   "metadata": {},
   "outputs": [
    {
     "data": {
      "text/html": [
       "<style type=\"text/css\">\n",
       "</style>\n",
       "<table id=\"T_9f6db\">\n",
       "  <thead>\n",
       "    <tr>\n",
       "      <th class=\"blank level0\" >&nbsp;</th>\n",
       "      <th id=\"T_9f6db_level0_col0\" class=\"col_heading level0 col0\" >Precision</th>\n",
       "      <th id=\"T_9f6db_level0_col1\" class=\"col_heading level0 col1\" >Recall</th>\n",
       "      <th id=\"T_9f6db_level0_col2\" class=\"col_heading level0 col2\" >F1-score</th>\n",
       "    </tr>\n",
       "  </thead>\n",
       "  <tbody>\n",
       "    <tr>\n",
       "      <th id=\"T_9f6db_level0_row0\" class=\"row_heading level0 row0\" >0</th>\n",
       "      <td id=\"T_9f6db_row0_col0\" class=\"data row0 col0\" >60.9%</td>\n",
       "      <td id=\"T_9f6db_row0_col1\" class=\"data row0 col1\" >79.5%</td>\n",
       "      <td id=\"T_9f6db_row0_col2\" class=\"data row0 col2\" >69.0%</td>\n",
       "    </tr>\n",
       "  </tbody>\n",
       "</table>\n"
      ],
      "text/plain": [
       "<IPython.core.display.HTML object>"
      ]
     },
     "metadata": {},
     "output_type": "display_data"
    },
    {
     "data": {
      "text/html": [
       "<table border=\"1\" class=\"dataframe\">\n",
       "  <thead>\n",
       "    <tr style=\"text-align: right;\">\n",
       "      <th>FPs</th>\n",
       "    </tr>\n",
       "  </thead>\n",
       "  <tbody>\n",
       "    <tr>\n",
       "      <td>@SenMikeLee just pulled out his pocket Constitution! Bring it man! @tedcruz just mocked McCain's wacko-birds comment! HaHaHa!!!!! #standtall</td>\n",
       "    </tr>\n",
       "    <tr>\n",
       "      <td>I hope the trash I talk abt @CNN's poor product doesn't hurt my chances of getting hired as a legal correspondent. I was jk CNN.</td>\n",
       "    </tr>\n",
       "    <tr>\n",
       "      <td>Nothing says teabagger like a millionaire complaining that they are broke, huh #HillaryClinton? #Hillary2016, give me a break, lol. #p2</td>\n",
       "    </tr>\n",
       "    <tr>\n",
       "      <td>RT @LifeNewsHQ: BREAKING: Florida Pro-Life Gov. Rick Scott Defeats Pro-Abortion Challenger Charlie Crist http://t.co/GpR1hQlEN2 #tcot http:…</td>\n",
       "    </tr>\n",
       "    <tr>\n",
       "      <td>RT @p_w_sterne: @GraceBr92073005 \"There's more than one way to skin a monkey\" --Barack \"Bushmeat\" Obama @1Dittlinger @Txwench</td>\n",
       "    </tr>\n",
       "    <tr>\n",
       "      <td>RT @WayneDupreeShow: Fear mongering by the left is dying. Wake up, who are you going 2 believe Charlie Rangel and Hussein or Mia Love and C…</td>\n",
       "    </tr>\n",
       "    <tr>\n",
       "      <td>RT @Lrihendry: Pregnant S.E. Cupp’s classic response to ‘liberal dem’ who calls her ‘chunky’ – with bonus tweets http://t.co/U8nlYWEfiO via…</td>\n",
       "    </tr>\n",
       "    <tr>\n",
       "      <td>“@PlMPCESS: In the fashion world \"urban\" means \"stolen from black people\" its ghetto on us, and urban on them haha http://t.co/S0XWGfLJ9C” 🙌</td>\n",
       "    </tr>\n",
       "    <tr>\n",
       "      <td>#porn,#android,#iphone,#ipad,#sex,#xxx, | #Teen | Cutie lesbian teens toy slits http://t.co/ZS05enjjwm</td>\n",
       "    </tr>\n",
       "    <tr>\n",
       "      <td>\"How about we draft all those gung-ho folks and send them to Afghanistan or other war zones so they can show their... http://t.co/sR1zceHx</td>\n",
       "    </tr>\n",
       "    <tr>\n",
       "      <td>What if I talked ghetto lol I'd be so annoyed of my self</td>\n",
       "    </tr>\n",
       "    <tr>\n",
       "      <td>I hopes dis don't come as a severe shock to use but I'm colored</td>\n",
       "    </tr>\n",
       "    <tr>\n",
       "      <td>At pussy cat lounge killin it with my girlz @blaqdior and @hpmiss</td>\n",
       "    </tr>\n",
       "    <tr>\n",
       "      <td>how much you wanna bet that a anti-government \"black helicopter\" teabagger was behind the Boston Marathon explosions? @TwitchyTeam #p2 #tcot</td>\n",
       "    </tr>\n",
       "    <tr>\n",
       "      <td>John McCain trashes Jay Carny live on CNN - #Syria #ISIS #Obama http://t.co/ZT690BkTrI</td>\n",
       "    </tr>\n",
       "  </tbody>\n",
       "</table>"
      ],
      "text/plain": [
       "<IPython.core.display.HTML object>"
      ]
     },
     "metadata": {},
     "output_type": "display_data"
    },
    {
     "data": {
      "text/html": [
       "<table border=\"1\" class=\"dataframe\">\n",
       "  <thead>\n",
       "    <tr style=\"text-align: right;\">\n",
       "      <th>FNs</th>\n",
       "    </tr>\n",
       "  </thead>\n",
       "  <tbody>\n",
       "    <tr>\n",
       "      <td>RT @STROCORLEONE @ThoughtsOfRandy @Yummys_World all deze hoes got past demons in em... YOLO nigga lol + Hahahahaha</td>\n",
       "    </tr>\n",
       "    <tr>\n",
       "      <td>it means that im following orders and being subordinate. sue me, ya dyke</td>\n",
       "    </tr>\n",
       "    <tr>\n",
       "      <td>RT @Drizz_LakerKing: Horrible RT @YeIIowbang: Invader Zim was trash</td>\n",
       "    </tr>\n",
       "    <tr>\n",
       "      <td>I'm literally laughing in shock, amazement, joy. In...just everything. In everything! Pop the champagne American queers. We have arrived.</td>\n",
       "    </tr>\n",
       "    <tr>\n",
       "      <td>@kieffer_jason here let me say it more clearly since your retarded ass don't understand</td>\n",
       "    </tr>\n",
       "    <tr>\n",
       "      <td>You are a jiggaboo...!</td>\n",
       "    </tr>\n",
       "    <tr>\n",
       "      <td>@MorbidMermaid do you work today niglet?</td>\n",
       "    </tr>\n",
       "    <tr>\n",
       "      <td>Everyone tells me the exact same thing but I won't listen, coon</td>\n",
       "    </tr>\n",
       "    <tr>\n",
       "      <td>@saraelizabethj4 that's what happens when you date a colored</td>\n",
       "    </tr>\n",
       "    <tr>\n",
       "      <td>@Derek_Kirchner7 @tori_mills02 fags😷😷</td>\n",
       "    </tr>\n",
       "    <tr>\n",
       "      <td>A nicca say he ballin ask em where his title n his deeds at not wher his clothes n his keys at</td>\n",
       "    </tr>\n",
       "    <tr>\n",
       "      <td>“@NiHao_Rocky Who is she? RT @DrTruth247: Y'all hype that bread loaf chick up but I'm a chill” a dyke rapper</td>\n",
       "    </tr>\n",
       "    <tr>\n",
       "      <td>Dis broad done tagged dis nicca n a video of his sis giving dome .. #Tragic</td>\n",
       "    </tr>\n",
       "    <tr>\n",
       "      <td>RT @Lil_A47: @Vonteeeeee typical coon activity</td>\n",
       "    </tr>\n",
       "    <tr>\n",
       "      <td>@_IAMKEN you'll make the team, them niggas trash. Lol</td>\n",
       "    </tr>\n",
       "  </tbody>\n",
       "</table>"
      ],
      "text/plain": [
       "<IPython.core.display.HTML object>"
      ]
     },
     "metadata": {},
     "output_type": "display_data"
    }
   ],
   "source": [
    "davidson_hate_eval = do_eval(\n",
    "    davidson_hate_df['text'],\n",
    "    davidson_hate_df['hate'],\n",
    "    davidson_hate_df['detexd_pred'],\n",
    ")\n",
    "\n",
    "show_eval(davidson_hate_eval)"
   ]
  },
  {
   "cell_type": "code",
   "execution_count": 33,
   "metadata": {},
   "outputs": [
    {
     "data": {
      "text/html": [
       "<style type=\"text/css\">\n",
       "</style>\n",
       "<table id=\"T_6003f\">\n",
       "  <thead>\n",
       "    <tr>\n",
       "      <th class=\"blank level0\" >&nbsp;</th>\n",
       "      <th id=\"T_6003f_level0_col0\" class=\"col_heading level0 col0\" >Precision</th>\n",
       "      <th id=\"T_6003f_level0_col1\" class=\"col_heading level0 col1\" >Recall</th>\n",
       "      <th id=\"T_6003f_level0_col2\" class=\"col_heading level0 col2\" >F1-score</th>\n",
       "    </tr>\n",
       "  </thead>\n",
       "  <tbody>\n",
       "    <tr>\n",
       "      <th id=\"T_6003f_level0_row0\" class=\"row_heading level0 row0\" >0</th>\n",
       "      <td id=\"T_6003f_row0_col0\" class=\"data row0 col0\" >94.8%</td>\n",
       "      <td id=\"T_6003f_row0_col1\" class=\"data row0 col1\" >69.8%</td>\n",
       "      <td id=\"T_6003f_row0_col2\" class=\"data row0 col2\" >80.4%</td>\n",
       "    </tr>\n",
       "  </tbody>\n",
       "</table>\n"
      ],
      "text/plain": [
       "<IPython.core.display.HTML object>"
      ]
     },
     "metadata": {},
     "output_type": "display_data"
    },
    {
     "data": {
      "text/html": [
       "<table border=\"1\" class=\"dataframe\">\n",
       "  <thead>\n",
       "    <tr style=\"text-align: right;\">\n",
       "      <th>FPs</th>\n",
       "    </tr>\n",
       "  </thead>\n",
       "  <tbody>\n",
       "    <tr>\n",
       "      <td>@SenMikeLee just pulled out his pocket Constitution! Bring it man! @tedcruz just mocked McCain's wacko-birds comment! HaHaHa!!!!! #standtall</td>\n",
       "    </tr>\n",
       "    <tr>\n",
       "      <td>I hope the trash I talk abt @CNN's poor product doesn't hurt my chances of getting hired as a legal correspondent. I was jk CNN.</td>\n",
       "    </tr>\n",
       "    <tr>\n",
       "      <td>Nothing says teabagger like a millionaire complaining that they are broke, huh #HillaryClinton? #Hillary2016, give me a break, lol. #p2</td>\n",
       "    </tr>\n",
       "    <tr>\n",
       "      <td>RT @LifeNewsHQ: BREAKING: Florida Pro-Life Gov. Rick Scott Defeats Pro-Abortion Challenger Charlie Crist http://t.co/GpR1hQlEN2 #tcot http:…</td>\n",
       "    </tr>\n",
       "    <tr>\n",
       "      <td>RT @p_w_sterne: @GraceBr92073005 \"There's more than one way to skin a monkey\" --Barack \"Bushmeat\" Obama @1Dittlinger @Txwench</td>\n",
       "    </tr>\n",
       "    <tr>\n",
       "      <td>RT @WayneDupreeShow: Fear mongering by the left is dying. Wake up, who are you going 2 believe Charlie Rangel and Hussein or Mia Love and C…</td>\n",
       "    </tr>\n",
       "    <tr>\n",
       "      <td>RT @Lrihendry: Pregnant S.E. Cupp’s classic response to ‘liberal dem’ who calls her ‘chunky’ – with bonus tweets http://t.co/U8nlYWEfiO via…</td>\n",
       "    </tr>\n",
       "    <tr>\n",
       "      <td>“@PlMPCESS: In the fashion world \"urban\" means \"stolen from black people\" its ghetto on us, and urban on them haha http://t.co/S0XWGfLJ9C” 🙌</td>\n",
       "    </tr>\n",
       "    <tr>\n",
       "      <td>#porn,#android,#iphone,#ipad,#sex,#xxx, | #Teen | Cutie lesbian teens toy slits http://t.co/ZS05enjjwm</td>\n",
       "    </tr>\n",
       "    <tr>\n",
       "      <td>\"How about we draft all those gung-ho folks and send them to Afghanistan or other war zones so they can show their... http://t.co/sR1zceHx</td>\n",
       "    </tr>\n",
       "    <tr>\n",
       "      <td>What if I talked ghetto lol I'd be so annoyed of my self</td>\n",
       "    </tr>\n",
       "    <tr>\n",
       "      <td>I hopes dis don't come as a severe shock to use but I'm colored</td>\n",
       "    </tr>\n",
       "    <tr>\n",
       "      <td>At pussy cat lounge killin it with my girlz @blaqdior and @hpmiss</td>\n",
       "    </tr>\n",
       "    <tr>\n",
       "      <td>how much you wanna bet that a anti-government \"black helicopter\" teabagger was behind the Boston Marathon explosions? @TwitchyTeam #p2 #tcot</td>\n",
       "    </tr>\n",
       "    <tr>\n",
       "      <td>John McCain trashes Jay Carny live on CNN - #Syria #ISIS #Obama http://t.co/ZT690BkTrI</td>\n",
       "    </tr>\n",
       "  </tbody>\n",
       "</table>"
      ],
      "text/plain": [
       "<IPython.core.display.HTML object>"
      ]
     },
     "metadata": {},
     "output_type": "display_data"
    },
    {
     "data": {
      "text/html": [
       "<table border=\"1\" class=\"dataframe\">\n",
       "  <thead>\n",
       "    <tr style=\"text-align: right;\">\n",
       "      <th>FNs</th>\n",
       "    </tr>\n",
       "  </thead>\n",
       "  <tbody>\n",
       "    <tr>\n",
       "      <td>RT @Lyndsay_Sue_x2: Ford. F-O-R-D, just a fancy name for a fag mobile</td>\n",
       "    </tr>\n",
       "    <tr>\n",
       "      <td>butt chug 4lokos or nah</td>\n",
       "    </tr>\n",
       "    <tr>\n",
       "      <td>This bitch Rihanna is on some dust or something</td>\n",
       "    </tr>\n",
       "    <tr>\n",
       "      <td>RT @Coolie_GBE300: I'm about to go on http://t.co/9btG26MlgU &amp; be the devil &amp; catfish some hoes.</td>\n",
       "    </tr>\n",
       "    <tr>\n",
       "      <td>@Rams_6 happy birthday bitch!</td>\n",
       "    </tr>\n",
       "    <tr>\n",
       "      <td>I feel bad having this info but at the same time , karmas a bitch,</td>\n",
       "    </tr>\n",
       "    <tr>\n",
       "      <td>“@ChrizzyFive: Trying to run game on me u dumb bitch !!” @ her tho</td>\n",
       "    </tr>\n",
       "    <tr>\n",
       "      <td>@espn Stop blowing the spurs pussies #HalftimeSpeech</td>\n",
       "    </tr>\n",
       "    <tr>\n",
       "      <td>RT @RWSurferGirl: Toss 'em out of office? Or just throw 'em in the trash? #trashbucketchallenge has politicians on the run at... https://t.…</td>\n",
       "    </tr>\n",
       "    <tr>\n",
       "      <td>Same niccas tryna be around me .. The same niccas that used to down me!</td>\n",
       "    </tr>\n",
       "    <tr>\n",
       "      <td>“@NikeDownLuis15: @vintage_monroe_ them Damn brownies”I swear lmao</td>\n",
       "    </tr>\n",
       "    <tr>\n",
       "      <td>RT @Bigboybeezy: If you a hoe on the internet you a hoe irl</td>\n",
       "    </tr>\n",
       "    <tr>\n",
       "      <td>RT @OhLawdItsNiesha: That hoe Brittish got the fuckin NERVE</td>\n",
       "    </tr>\n",
       "    <tr>\n",
       "      <td>@AliciaDaniella8 them hoes was trash</td>\n",
       "    </tr>\n",
       "    <tr>\n",
       "      <td>RT @Ramen_Odicho: Assyria got hella hoes</td>\n",
       "    </tr>\n",
       "  </tbody>\n",
       "</table>"
      ],
      "text/plain": [
       "<IPython.core.display.HTML object>"
      ]
     },
     "metadata": {},
     "output_type": "display_data"
    }
   ],
   "source": [
    "davidson_offensive_eval = do_eval(\n",
    "    davidson_offensive_df['text'],\n",
    "    davidson_offensive_df['offensive'],\n",
    "    davidson_offensive_df['detexd_pred'],\n",
    ")\n",
    "\n",
    "show_eval(davidson_offensive_eval)"
   ]
  },
  {
   "cell_type": "code",
   "execution_count": 34,
   "metadata": {},
   "outputs": [
    {
     "data": {
      "text/html": [
       "<style type=\"text/css\">\n",
       "</style>\n",
       "<table id=\"T_5c587\">\n",
       "  <thead>\n",
       "    <tr>\n",
       "      <th class=\"blank level0\" >&nbsp;</th>\n",
       "      <th id=\"T_5c587_level0_col0\" class=\"col_heading level0 col0\" >Precision</th>\n",
       "      <th id=\"T_5c587_level0_col1\" class=\"col_heading level0 col1\" >Recall</th>\n",
       "      <th id=\"T_5c587_level0_col2\" class=\"col_heading level0 col2\" >F1-score</th>\n",
       "    </tr>\n",
       "  </thead>\n",
       "  <tbody>\n",
       "    <tr>\n",
       "      <th id=\"T_5c587_level0_row0\" class=\"row_heading level0 row0\" >0</th>\n",
       "      <td id=\"T_5c587_row0_col0\" class=\"data row0 col0\" >95.2%</td>\n",
       "      <td id=\"T_5c587_row0_col1\" class=\"data row0 col1\" >70.5%</td>\n",
       "      <td id=\"T_5c587_row0_col2\" class=\"data row0 col2\" >81.0%</td>\n",
       "    </tr>\n",
       "  </tbody>\n",
       "</table>\n"
      ],
      "text/plain": [
       "<IPython.core.display.HTML object>"
      ]
     },
     "metadata": {},
     "output_type": "display_data"
    },
    {
     "data": {
      "text/html": [
       "<table border=\"1\" class=\"dataframe\">\n",
       "  <thead>\n",
       "    <tr style=\"text-align: right;\">\n",
       "      <th>FPs</th>\n",
       "    </tr>\n",
       "  </thead>\n",
       "  <tbody>\n",
       "    <tr>\n",
       "      <td>@SenMikeLee just pulled out his pocket Constitution! Bring it man! @tedcruz just mocked McCain's wacko-birds comment! HaHaHa!!!!! #standtall</td>\n",
       "    </tr>\n",
       "    <tr>\n",
       "      <td>I hope the trash I talk abt @CNN's poor product doesn't hurt my chances of getting hired as a legal correspondent. I was jk CNN.</td>\n",
       "    </tr>\n",
       "    <tr>\n",
       "      <td>Nothing says teabagger like a millionaire complaining that they are broke, huh #HillaryClinton? #Hillary2016, give me a break, lol. #p2</td>\n",
       "    </tr>\n",
       "    <tr>\n",
       "      <td>RT @LifeNewsHQ: BREAKING: Florida Pro-Life Gov. Rick Scott Defeats Pro-Abortion Challenger Charlie Crist http://t.co/GpR1hQlEN2 #tcot http:…</td>\n",
       "    </tr>\n",
       "    <tr>\n",
       "      <td>RT @p_w_sterne: @GraceBr92073005 \"There's more than one way to skin a monkey\" --Barack \"Bushmeat\" Obama @1Dittlinger @Txwench</td>\n",
       "    </tr>\n",
       "    <tr>\n",
       "      <td>RT @WayneDupreeShow: Fear mongering by the left is dying. Wake up, who are you going 2 believe Charlie Rangel and Hussein or Mia Love and C…</td>\n",
       "    </tr>\n",
       "    <tr>\n",
       "      <td>RT @Lrihendry: Pregnant S.E. Cupp’s classic response to ‘liberal dem’ who calls her ‘chunky’ – with bonus tweets http://t.co/U8nlYWEfiO via…</td>\n",
       "    </tr>\n",
       "    <tr>\n",
       "      <td>“@PlMPCESS: In the fashion world \"urban\" means \"stolen from black people\" its ghetto on us, and urban on them haha http://t.co/S0XWGfLJ9C” 🙌</td>\n",
       "    </tr>\n",
       "    <tr>\n",
       "      <td>#porn,#android,#iphone,#ipad,#sex,#xxx, | #Teen | Cutie lesbian teens toy slits http://t.co/ZS05enjjwm</td>\n",
       "    </tr>\n",
       "    <tr>\n",
       "      <td>\"How about we draft all those gung-ho folks and send them to Afghanistan or other war zones so they can show their... http://t.co/sR1zceHx</td>\n",
       "    </tr>\n",
       "    <tr>\n",
       "      <td>What if I talked ghetto lol I'd be so annoyed of my self</td>\n",
       "    </tr>\n",
       "    <tr>\n",
       "      <td>I hopes dis don't come as a severe shock to use but I'm colored</td>\n",
       "    </tr>\n",
       "    <tr>\n",
       "      <td>At pussy cat lounge killin it with my girlz @blaqdior and @hpmiss</td>\n",
       "    </tr>\n",
       "    <tr>\n",
       "      <td>how much you wanna bet that a anti-government \"black helicopter\" teabagger was behind the Boston Marathon explosions? @TwitchyTeam #p2 #tcot</td>\n",
       "    </tr>\n",
       "    <tr>\n",
       "      <td>John McCain trashes Jay Carny live on CNN - #Syria #ISIS #Obama http://t.co/ZT690BkTrI</td>\n",
       "    </tr>\n",
       "  </tbody>\n",
       "</table>"
      ],
      "text/plain": [
       "<IPython.core.display.HTML object>"
      ]
     },
     "metadata": {},
     "output_type": "display_data"
    },
    {
     "data": {
      "text/html": [
       "<table border=\"1\" class=\"dataframe\">\n",
       "  <thead>\n",
       "    <tr style=\"text-align: right;\">\n",
       "      <th>FNs</th>\n",
       "    </tr>\n",
       "  </thead>\n",
       "  <tbody>\n",
       "    <tr>\n",
       "      <td>@Z_M_G_ thirsty hoes 💁</td>\n",
       "    </tr>\n",
       "    <tr>\n",
       "      <td>RT @HoeFact: Don't trust these hoes http://t.co/03SoHP4P41</td>\n",
       "    </tr>\n",
       "    <tr>\n",
       "      <td>niggas need to learn to ride for there homies, not for the crew hoes smfh.</td>\n",
       "    </tr>\n",
       "    <tr>\n",
       "      <td>“@NigggaPino: Splash onna bitch Wednesday tomorrow”</td>\n",
       "    </tr>\n",
       "    <tr>\n",
       "      <td>Call dat bitch... http://t.co/p50wtGrz8a</td>\n",
       "    </tr>\n",
       "    <tr>\n",
       "      <td>RT @KattWilliams: me as a good friend: *supports and encourages ur hoe activities*</td>\n",
       "    </tr>\n",
       "    <tr>\n",
       "      <td>RT @TheoMaxximus: I can post a picture of chrus at like 5 in the morning and the little nigga will favorite and retweet that hoe</td>\n",
       "    </tr>\n",
       "    <tr>\n",
       "      <td>RT @CheefPolo: Trippin over a rock &gt;&gt; trippin over a bitch</td>\n",
       "    </tr>\n",
       "    <tr>\n",
       "      <td>RT @thecrewfinest: \"@187XO_: Me and ma niggah @thecrewfinest In the Func fucccccccked upppppp 😂\"I'm Here On!!!</td>\n",
       "    </tr>\n",
       "    <tr>\n",
       "      <td>@JalenDGAF @CourtniClark 🔴⚫️🔴⚫️🔴⚫️ no pressure hoe</td>\n",
       "    </tr>\n",
       "    <tr>\n",
       "      <td>Laughin at all y'all bitches #SullyStyle http://t.co/C3n6vkD0</td>\n",
       "    </tr>\n",
       "    <tr>\n",
       "      <td>It's no wonder my titanium ankle is killing me. Woo retarded 'winter' weather! #texas #weather http://t.co/rrKxBwG1u4</td>\n",
       "    </tr>\n",
       "    <tr>\n",
       "      <td>RT @LiveAndUncut: if you really wanna please your man, seeing him pleased Gon turn you on. but you know, bitches aint really what they clai…</td>\n",
       "    </tr>\n",
       "    <tr>\n",
       "      <td>@DutchBrosPlease you're welcome, I miss you too nig nog</td>\n",
       "    </tr>\n",
       "    <tr>\n",
       "      <td>RT @MichaelBlackson: This tall goofy bitch just walked in the club, sit your Britney Griner lookin ass down</td>\n",
       "    </tr>\n",
       "  </tbody>\n",
       "</table>"
      ],
      "text/plain": [
       "<IPython.core.display.HTML object>"
      ]
     },
     "metadata": {},
     "output_type": "display_data"
    }
   ],
   "source": [
    "davidson_eval = do_eval(\n",
    "    davidson_df['text'],\n",
    "    davidson_df['offensive_or_hate'],\n",
    "    davidson_df['detexd_pred'],\n",
    ")\n",
    "\n",
    "show_eval(davidson_eval)"
   ]
  },
  {
   "cell_type": "code",
   "execution_count": 35,
   "metadata": {},
   "outputs": [],
   "source": [
    "davidson_eval['fps_sample'].to_csv('davidson_detexd_fps.csv')\n",
    "davidson_eval['fns_sample'].to_csv('davidson_detexd_fns.csv')"
   ]
  },
  {
   "attachments": {},
   "cell_type": "markdown",
   "metadata": {},
   "source": [
    "## Evaluate Zampieri dataset"
   ]
  },
  {
   "cell_type": "code",
   "execution_count": 38,
   "metadata": {},
   "outputs": [
    {
     "data": {
      "text/plain": [
       "detexd_pred\n",
       "False    7165\n",
       "True     6075\n",
       "Name: count, dtype: int64"
      ]
     },
     "execution_count": 38,
     "metadata": {},
     "output_type": "execute_result"
    }
   ],
   "source": [
    "olid_df['detexd_pred'].value_counts()"
   ]
  },
  {
   "cell_type": "code",
   "execution_count": 39,
   "metadata": {},
   "outputs": [
    {
     "data": {
      "text/html": [
       "<style type=\"text/css\">\n",
       "</style>\n",
       "<table id=\"T_ec1c6\">\n",
       "  <thead>\n",
       "    <tr>\n",
       "      <th class=\"blank level0\" >&nbsp;</th>\n",
       "      <th id=\"T_ec1c6_level0_col0\" class=\"col_heading level0 col0\" >Precision</th>\n",
       "      <th id=\"T_ec1c6_level0_col1\" class=\"col_heading level0 col1\" >Recall</th>\n",
       "      <th id=\"T_ec1c6_level0_col2\" class=\"col_heading level0 col2\" >F1-score</th>\n",
       "    </tr>\n",
       "  </thead>\n",
       "  <tbody>\n",
       "    <tr>\n",
       "      <th id=\"T_ec1c6_level0_row0\" class=\"row_heading level0 row0\" >0</th>\n",
       "      <td id=\"T_ec1c6_row0_col0\" class=\"data row0 col0\" >48.1%</td>\n",
       "      <td id=\"T_ec1c6_row0_col1\" class=\"data row0 col1\" >66.4%</td>\n",
       "      <td id=\"T_ec1c6_row0_col2\" class=\"data row0 col2\" >55.8%</td>\n",
       "    </tr>\n",
       "  </tbody>\n",
       "</table>\n"
      ],
      "text/plain": [
       "<IPython.core.display.HTML object>"
      ]
     },
     "metadata": {},
     "output_type": "display_data"
    },
    {
     "data": {
      "text/html": [
       "<table border=\"1\" class=\"dataframe\">\n",
       "  <thead>\n",
       "    <tr style=\"text-align: right;\">\n",
       "      <th>FPs</th>\n",
       "    </tr>\n",
       "  </thead>\n",
       "  <tbody>\n",
       "    <tr>\n",
       "      <td>#Liberals don't like to be pushed around.  #Conservatives aren't supposed to be autocratic, we are.\"  You know you're winning when they're shouting exceeds their understanding of rules based law.  Best way to watch Liberals heads explode is for Cons to be more unpredictable. URL</td>\n",
       "    </tr>\n",
       "    <tr>\n",
       "      <td>@USER @USER Liberals judge you guilty EVEN when proven innocent. #liberalsneedtheirownpsychward</td>\n",
       "    </tr>\n",
       "    <tr>\n",
       "      <td>@USER @USER I am trying to make a point. Many people who hate the liberal and ndp party are conservatives. And all conservatives care about is money. They don't have to ruin the environment and discriminate against others because of money\"\"</td>\n",
       "    </tr>\n",
       "    <tr>\n",
       "      <td>1. Trump and the Mueller Investigation 2. Climate Change 3. Guns and Gun Control  4. Unions and Workers  #SaveSCOTUS #WhatsAtStake  URL</td>\n",
       "    </tr>\n",
       "    <tr>\n",
       "      <td>URL  #MCCASKILL owes back taxes on her private jet! Has it been paid? @USER #MAGA #Kavanaugh #ChristinaBlaseyFord #QANON #ThursdayMotivation</td>\n",
       "    </tr>\n",
       "    <tr>\n",
       "      <td>@USER @USER I recognize the one as #antifa based on the board he becomes 🤣</td>\n",
       "    </tr>\n",
       "    <tr>\n",
       "      <td>@USER Or Christian conservatives could man up and do whatever it takes to win.</td>\n",
       "    </tr>\n",
       "    <tr>\n",
       "      <td>@USER He's going to need a pair of running shoes so he can look for work when he's sees we're not supporting his dumb ass movies anymore. 🤷‍♀️#walkaway</td>\n",
       "    </tr>\n",
       "    <tr>\n",
       "      <td>@USER @USER @USER The historic moniker for the Tories is The Stupid Party.   American conservatives test out with lower average intelligence than liberals.</td>\n",
       "    </tr>\n",
       "    <tr>\n",
       "      <td>@USER @USER With tons of security that he wants us to NOT HAVE! It blows my mind how many gun control ppl have bodyguards With the guns we R not suppose to have !</td>\n",
       "    </tr>\n",
       "    <tr>\n",
       "      <td>What I can't figure out is why it took so long to HAVE a #ConstitutionDay ! It's almost as if some of our leaders were opposed to the constitution! #MAGA #QAnon @USER URL</td>\n",
       "    </tr>\n",
       "    <tr>\n",
       "      <td>Wow  New Petition Demands Keith Ellison’s Accusers be Allowed to Testify Before Congress God bless Trump! 4ever #MAGA #KAG #DeepState #WalkAway #RedWave2018 @USER @USER @USER .. URL via @USER</td>\n",
       "    </tr>\n",
       "    <tr>\n",
       "      <td>@USER Traditionalists and fuddy-duddy conservatives form a convenient horseshoe with feminists when it comes to a lot of women's issues.  Their reasons are grounded in chivalry and sex differences rather than equality but the result looks very similar.</td>\n",
       "    </tr>\n",
       "    <tr>\n",
       "      <td>@USER Ya take advantage of the monuments standing stately around our nation because if the liberals continue they will be no more</td>\n",
       "    </tr>\n",
       "    <tr>\n",
       "      <td>@USER @USER @USER Wow! You guys just beat a dead horse don't you? You don't look at what good the NRA has done at all because of the failure of Broward right? Or is it antifa that you fancy?</td>\n",
       "    </tr>\n",
       "  </tbody>\n",
       "</table>"
      ],
      "text/plain": [
       "<IPython.core.display.HTML object>"
      ]
     },
     "metadata": {},
     "output_type": "display_data"
    },
    {
     "data": {
      "text/html": [
       "<table border=\"1\" class=\"dataframe\">\n",
       "  <thead>\n",
       "    <tr style=\"text-align: right;\">\n",
       "      <th>FNs</th>\n",
       "    </tr>\n",
       "  </thead>\n",
       "  <tbody>\n",
       "    <tr>\n",
       "      <td>@USER As someone who had never played Spiderman 2 as a kid:  I want and tried it a year or 2 back and idk what kinda collective nostalgia people are on but those web swinging mechanics are busted as fuck and kinda trash.</td>\n",
       "    </tr>\n",
       "    <tr>\n",
       "      <td>@USER A dying sport</td>\n",
       "    </tr>\n",
       "    <tr>\n",
       "      <td>@USER @USER @USER @USER Yes. Yes he is!</td>\n",
       "    </tr>\n",
       "    <tr>\n",
       "      <td>@USER @USER Excuse me? They got what they had before the hurricane.  Expecting tract houses when you had lean to's and expecting honorable people likeTrump with the corruption they continue to vote in?!? Wake up.  He is flushing the swamp here and they need to flush their swamp there.</td>\n",
       "    </tr>\n",
       "    <tr>\n",
       "      <td>@USER You voted to trigger Article 50. You are complicit.</td>\n",
       "    </tr>\n",
       "    <tr>\n",
       "      <td>@USER Do not think so maybe do a little research buddy!</td>\n",
       "    </tr>\n",
       "    <tr>\n",
       "      <td>@USER Never had. Let's fuck it up.</td>\n",
       "    </tr>\n",
       "    <tr>\n",
       "      <td>@USER @USER @USER Oh boy just wait! YOU ARE IN FOR A SURPRISE! Can't believe ANYONE to be that IGNORANT! LMAO!</td>\n",
       "    </tr>\n",
       "    <tr>\n",
       "      <td>@USER Fools No respect</td>\n",
       "    </tr>\n",
       "    <tr>\n",
       "      <td>@USER @USER I’m sure the air that he is breathing is also bad.</td>\n",
       "    </tr>\n",
       "    <tr>\n",
       "      <td>@USER @USER @USER @USER @USER @USER @USER @USER @USER @USER @USER @USER @USER @USER @USER @USER @USER @USER @USER @USER @USER @USER @USER @USER @USER @USER @USER @USER @USER @USER @USER @USER @USER @USER @USER @USER @USER @USER @USER @USER @USER @USER @USER @USER @USER @USER @USER @USER @USER @USER She is a pathological liar</td>\n",
       "    </tr>\n",
       "    <tr>\n",
       "      <td>@USER @USER Lol 🤣🤣🤣 every gf and ein track. Whole ass album pahh</td>\n",
       "    </tr>\n",
       "    <tr>\n",
       "      <td>@USER @USER @USER @USER @USER @USER @USER Or a piss up in a brewery !! Hat</td>\n",
       "    </tr>\n",
       "    <tr>\n",
       "      <td>@USER @USER @USER OMG what fuckin' kind of this beauty TT</td>\n",
       "    </tr>\n",
       "    <tr>\n",
       "      <td>@USER It’s more what she does than who she is</td>\n",
       "    </tr>\n",
       "  </tbody>\n",
       "</table>"
      ],
      "text/plain": [
       "<IPython.core.display.HTML object>"
      ]
     },
     "metadata": {},
     "output_type": "display_data"
    }
   ],
   "source": [
    "olid_eval = do_eval(\n",
    "    olid_df['text'],\n",
    "    olid_df['offensive'],\n",
    "    olid_df['detexd_pred'],\n",
    ")\n",
    "\n",
    "show_eval(olid_eval)"
   ]
  },
  {
   "cell_type": "code",
   "execution_count": 40,
   "metadata": {},
   "outputs": [
    {
     "data": {
      "text/html": [
       "<div>\n",
       "<style scoped>\n",
       "    .dataframe tbody tr th:only-of-type {\n",
       "        vertical-align: middle;\n",
       "    }\n",
       "\n",
       "    .dataframe tbody tr th {\n",
       "        vertical-align: top;\n",
       "    }\n",
       "\n",
       "    .dataframe thead th {\n",
       "        text-align: right;\n",
       "    }\n",
       "</style>\n",
       "<table border=\"1\" class=\"dataframe\">\n",
       "  <thead>\n",
       "    <tr style=\"text-align: right;\">\n",
       "      <th></th>\n",
       "      <th>del</th>\n",
       "      <th>id</th>\n",
       "      <th>tweet</th>\n",
       "      <th>subtask_a</th>\n",
       "      <th>subtask_b</th>\n",
       "      <th>subtask_c</th>\n",
       "      <th>cleaned_tweet</th>\n",
       "      <th>text</th>\n",
       "      <th>offensive</th>\n",
       "      <th>detexd_pred</th>\n",
       "    </tr>\n",
       "  </thead>\n",
       "  <tbody>\n",
       "    <tr>\n",
       "      <th>6572</th>\n",
       "      <td>6572</td>\n",
       "      <td>96293</td>\n",
       "      <td>@USER A dying sport</td>\n",
       "      <td>OFF</td>\n",
       "      <td>UNT</td>\n",
       "      <td>NaN</td>\n",
       "      <td>dying sport</td>\n",
       "      <td>@USER A dying sport</td>\n",
       "      <td>1</td>\n",
       "      <td>False</td>\n",
       "    </tr>\n",
       "  </tbody>\n",
       "</table>\n",
       "</div>"
      ],
      "text/plain": [
       "       del     id                tweet subtask_a subtask_b subtask_c  \\\n",
       "6572  6572  96293  @USER A dying sport       OFF       UNT       NaN   \n",
       "\n",
       "     cleaned_tweet                 text  offensive  detexd_pred  \n",
       "6572   dying sport  @USER A dying sport          1        False  "
      ]
     },
     "execution_count": 40,
     "metadata": {},
     "output_type": "execute_result"
    }
   ],
   "source": [
    "olid_df[olid_df['text'] == '@USER A dying sport']"
   ]
  },
  {
   "attachments": {},
   "cell_type": "markdown",
   "metadata": {},
   "source": [
    "## Evaluate on DeTexD dataset"
   ]
  },
  {
   "cell_type": "code",
   "execution_count": 42,
   "metadata": {},
   "outputs": [
    {
     "data": {
      "text/plain": [
       "detexd_pred\n",
       "False    700\n",
       "True     323\n",
       "Name: count, dtype: int64"
      ]
     },
     "execution_count": 42,
     "metadata": {},
     "output_type": "execute_result"
    }
   ],
   "source": [
    "detexd_test_df['detexd_pred'].value_counts()"
   ]
  },
  {
   "cell_type": "code",
   "execution_count": 44,
   "metadata": {},
   "outputs": [
    {
     "data": {
      "text/html": [
       "<style type=\"text/css\">\n",
       "</style>\n",
       "<table id=\"T_32fd6\">\n",
       "  <thead>\n",
       "    <tr>\n",
       "      <th class=\"blank level0\" >&nbsp;</th>\n",
       "      <th id=\"T_32fd6_level0_col0\" class=\"col_heading level0 col0\" >Precision</th>\n",
       "      <th id=\"T_32fd6_level0_col1\" class=\"col_heading level0 col1\" >Recall</th>\n",
       "      <th id=\"T_32fd6_level0_col2\" class=\"col_heading level0 col2\" >F1-score</th>\n",
       "    </tr>\n",
       "  </thead>\n",
       "  <tbody>\n",
       "    <tr>\n",
       "      <th id=\"T_32fd6_level0_row0\" class=\"row_heading level0 row0\" >0</th>\n",
       "      <td id=\"T_32fd6_row0_col0\" class=\"data row0 col0\" >81.4%</td>\n",
       "      <td id=\"T_32fd6_row0_col1\" class=\"data row0 col1\" >78.3%</td>\n",
       "      <td id=\"T_32fd6_row0_col2\" class=\"data row0 col2\" >79.8%</td>\n",
       "    </tr>\n",
       "  </tbody>\n",
       "</table>\n"
      ],
      "text/plain": [
       "<IPython.core.display.HTML object>"
      ]
     },
     "metadata": {},
     "output_type": "display_data"
    },
    {
     "data": {
      "text/html": [
       "<table border=\"1\" class=\"dataframe\">\n",
       "  <thead>\n",
       "    <tr style=\"text-align: right;\">\n",
       "      <th>FPs</th>\n",
       "    </tr>\n",
       "  </thead>\n",
       "  <tbody>\n",
       "    <tr>\n",
       "      <td>Last I had checked he’s not around anymore. And I’m mostly into female preds, but I do have a few male characters I would like to see art of. So I can understand your frustration with the lack of male preds. And yeah Mode mostly does do futa and other really weird shit</td>\n",
       "    </tr>\n",
       "    <tr>\n",
       "      <td>Sorry to hear that you have anxiety driving. For me, it's my way of freedom. Whenever i feel depressed or need space, i can just jump in my car and drive to get away from it all. Also, i can do whatever i need to do, go shopping, go to the park, beach, etc. Im in California and it's always congested but freedom means much much more to me. i hope you can find a way to get over your anxiety.</td>\n",
       "    </tr>\n",
       "    <tr>\n",
       "      <td>“Your Prius buyers and Tesla buyers are not the same group,” he said. “The Tesla buyers are rich white males. They’re really about showing off a great sports car. So Elon is not concerned at all that people will stop buying his vehicles because he’s making fun of a Democratic president.”</td>\n",
       "    </tr>\n",
       "    <tr>\n",
       "      <td>Omg, anxiety cure...lol. Unfortunately the very desperate get caught up in these types of things and it's sad that we live in a world where people take advantage of that...kinda makes you anxious right?!? The root of anxiety is trust and when people abuse that it forms part of the vicious cycle. Learning to trust in a corrupt world is hard enough...add anxiety disorder to the equation...disaster!!!</td>\n",
       "    </tr>\n",
       "    <tr>\n",
       "      <td>I don't want you to feel ashamed to have BPD. I will say there's so much stigma attached to it, personally and professionally. People hear personality disorder and really don't understand what that means. I don't tell people anymore, or not right away at least, because I want to be seen as a person, not a disorder.</td>\n",
       "    </tr>\n",
       "    <tr>\n",
       "      <td>Creeping Socialism, two steps forward, one step back, and they are making progress. Humans adapt rapidly but someday we are going to wake up to the government micro-managing our lives and it will be too late to undo all the legislation run by the largest untrained bureaucracy the world has ever known.</td>\n",
       "    </tr>\n",
       "    <tr>\n",
       "      <td>Some anon asked if anyone had gotten into possession for any other reason aside from it turning you on like if your trans for example some trans people responded and got insulted, then some other anon came along and basically asked “what the hell is your guy’s problem?” And it went on from there, just go see the thread</td>\n",
       "    </tr>\n",
       "    <tr>\n",
       "      <td>“We were the base, the first base that were taking the Afghanistan refugees… I am sorry… seeing all the kids with their families and they didn’t know how the rest of the day or even the rest of their lives would go. Just knowing that I had my kids at home safe and I would see them and they would have a roof over their heads and food to eat, it made me feel very blessed.”</td>\n",
       "    </tr>\n",
       "    <tr>\n",
       "      <td>The difference between a 'true' mind control like 'I just push a button and she's mine forever' and applied mind control is a matter of technique over time. I have no doubt that there are stage hypnotists and erotic hypnotists having zero problem getting people to do what they want, but that's a skill they've cultivated.</td>\n",
       "    </tr>\n",
       "    <tr>\n",
       "      <td>In Fulton County, Georgia, two election office workers — one a temporary employee — filed a lawsuit in December against a conservative website, accusing it of spreading false stories about them. Their lawsuit said the false claims led to a “deluge of intimidation, harassment, and threats that has forced them to change their phone numbers, delete their online accounts, and fear for their physical safety.”</td>\n",
       "    </tr>\n",
       "    <tr>\n",
       "      <td>From expert advice it is quite clear that Kimba as a whole - and not just Napandee - is far too dangerous to become the location for the holding of nuclear waste particularly as the results of the present flooding may take up to ten years to overcome without any further flooding</td>\n",
       "    </tr>\n",
       "    <tr>\n",
       "      <td>I am also a full time carer for my parents. This in itself is a really drain on my energy levels, as having the arthritis, already makes me suffer from fatigue. My mother can be quite demanding, and she lets me know about it if i am not available when she requests me for something.</td>\n",
       "    </tr>\n",
       "    <tr>\n",
       "      <td>Recently my prescription ran out because they had mis-read it on changing GP practice. I had one hell of a time trying to get get my proper prescription sorted out. I was made to feel like I was after more medication in a deceitful manner when in reality I was being totally honest.The dishonest few give those of us who are honest a bad name.</td>\n",
       "    </tr>\n",
       "    <tr>\n",
       "      <td>The point I don't think you're getting here is that Jews act as an ethnic unit (including their elites), and whites (including our elites) don't. many non-Jewish billionaires are in fact doing nothing about it because they don't realize it's going on. their analysis -- like yours -- is incomplete, and therefore they aren't able to meaningfully oppose what is happening. Can't fight what you can't see.</td>\n",
       "    </tr>\n",
       "    <tr>\n",
       "      <td>So when I was around 12/13 our family had a shared computer and being young and dumb it never occurred to me to log out of my email or delete browser history when I was done, and my mum had a talk with me about making an account on the daily diapers forum. She was more concerned about me meeting weird people online, which I had no intention of doing, but we never actually talked about this fetish and it was never brought up again.</td>\n",
       "    </tr>\n",
       "  </tbody>\n",
       "</table>"
      ],
      "text/plain": [
       "<IPython.core.display.HTML object>"
      ]
     },
     "metadata": {},
     "output_type": "display_data"
    },
    {
     "data": {
      "text/html": [
       "<table border=\"1\" class=\"dataframe\">\n",
       "  <thead>\n",
       "    <tr style=\"text-align: right;\">\n",
       "      <th>FNs</th>\n",
       "    </tr>\n",
       "  </thead>\n",
       "  <tbody>\n",
       "    <tr>\n",
       "      <td>The 2019 crime rate in Atascadero, CA is 137 (City-Data.com crime index), which is 2.0 times lower than the U.S. average. It was higher than in 53.5% U.S. cities. The 2019 Atascadero crime rate fell by 16% compared to 2018. In the last 5 years Atascadero has seen decline of violent crime and decline of property crime.</td>\n",
       "    </tr>\n",
       "    <tr>\n",
       "      <td>The first point of call should be your GP as these symptomes can be related to depleted iron, vitamins or perhaps a thyroid disorder and many more besides. The cycling nature of the mood suggests a disorder similar to bi-polar but as you will hear form other forumites you need a clinical assesment and formal diagnosis. Good luck to you though.</td>\n",
       "    </tr>\n",
       "    <tr>\n",
       "      <td>I'm only say this because I think I understand how you are explaining a hypomania, I have on occasions taken some speed in the past &amp; people have said I dont stop talking &amp; i know you can just keep going n going like once I just kept cleaning I just couldnt sit down for about three days, The only reason why I've said this is because I thought that I didnt understand, but I can relate though under normal circumstances I only really understand the lows because I dont have highs.</td>\n",
       "    </tr>\n",
       "    <tr>\n",
       "      <td>Sorry fag, if you haven't noticed we only post VNs with still images here. Actual animations? Fuck outta here. Also that dev is supposedly making a strategy RPG to go along with his game eventually? Fucking blasphemy. Why the fuck doesn't he just shit out terribly dated still renders of daz3d models with some cringe text and call it a day. That's the real spice.</td>\n",
       "    </tr>\n",
       "    <tr>\n",
       "      <td>Its because umemaro doesn't make stuff for you or us non jap viewers. Ntr is a big thing to exploit for them and sells good. Also if you havent figured it out this is a prequel of the previous one. Apart from giving the sex situations in his animations, umemaro likes to put story into them. Every girl of him in the umeverse have a background and he likes to share that. In this case how the sexually frustrated Mari by her always traveling business husband plans how to satisfy her need by any means. Wouldnt be surprised if another title gets in the middle of this 2 sexual circumstances works</td>\n",
       "    </tr>\n",
       "    <tr>\n",
       "      <td>Inflated egos one, two and three on Google drive. And e-hentai. Third part. Same shit, but with more artists. Art and stories boring, terrible and banal. There are even 3 images and stories from the same artist. From the same fucking artist. This is genuinely a mockery both for those who buy it and for the inflation community.</td>\n",
       "    </tr>\n",
       "    <tr>\n",
       "      <td>today he has not replied to any of my texts. im trying to stay calm and not panic and just carrying on as normal, telling he im there for him and wont leave him. hes pushing me away, and part of me thinks i cant cope and should leave but a bigger part of me says i love him and want to stay and help him through</td>\n",
       "    </tr>\n",
       "    <tr>\n",
       "      <td>The Kojima fanbase even entertains thay idea. The \"strand genre\" thing was never brought up in ads or anything, it was just dumb shit that he said in an interview and fans ate it up. There are literally videos on youtube trying to break down what the \"strand genre\" is and trying to argue that Kojima isn't just taking credit for what Dark Souls did.</td>\n",
       "    </tr>\n",
       "    <tr>\n",
       "      <td>Oh, they definitely need to slow the fuck down on all these fanfic/additional scenes they keep doing since it's draining way too much dev time. They really need to start thinking about the tents and miscellaneous scenes, they already added quite a few but a return of barmaid/whoring is really, really needed.</td>\n",
       "    </tr>\n",
       "    <tr>\n",
       "      <td>Depends. If they're actually drawn on-model, they're monstrous enough to belong here. The problem is furries flock to them like flies on shit and drawn them with cute cartoon proportions or big bara muscle-bodies. Or waifufags churning out garbage R63 Skaven women. Skavanon is one of the few old drawfags who actually made them as fucked-up and nasty as they're supposed to be, and he vanished into the aether years ago.</td>\n",
       "    </tr>\n",
       "    <tr>\n",
       "      <td>So how long do you have to be lurking these threads until you're not a newfag? I've been here for about 2-3 years. Why correct me on a word, when the point I was making still stands? Even if I was new, what does that have to do with anything? Are newfags not respected? Do their opinions not matter? Do you think veterans of this site are special and only their opinions matter because theyre apart of some \"loop\"? Do you think using 4chan for as long as you have makes you cool?</td>\n",
       "    </tr>\n",
       "    <tr>\n",
       "      <td>There are many anxiety treatments, one of the best one's magnesium. Many people have used magnesium as a source of relaxation and to reduce panic and anxiety. Best of all, it does not come with all the annoying and sometimes even dangerous side effects such as those associated with most prescription medications!</td>\n",
       "    </tr>\n",
       "    <tr>\n",
       "      <td>She's clever, and I really don't want to believe that this is her sending these twisted messages to herself and to me, for whatever reason, whether to get attention or otherwise, but it just seems that whoever is at the end of this mystery Facebook account just knows too much about her for this to be a real life person. Describing things she does from room to room in her home etc, accurately. Unless they had the place rigged up with cameras or could climb up walls silently; there's just no way of anyone seeing her do these things. Even the note at the place where she spends a lot of time - it's hard to get into the area that the note was left in undetected - I'm her boyfriend and I get questioned everytime I go near there.</td>\n",
       "    </tr>\n",
       "    <tr>\n",
       "      <td>Throughout my entire childhood my mother's biggest focus in life was in finding a husband. She's 61 now and still single, still chasing this dream... When I was about 10 my mother invited a man over and had locked me out of the house. Another time when I was 14 she dropped me off at the movies (i met with a friend) and after the movie ended she didn't answer her phone for another 2 hours or so because she had a man over. So I was stuck at theater for about 4-5 hrs.</td>\n",
       "    </tr>\n",
       "    <tr>\n",
       "      <td>OHH is wild because his insatiable mommykink has time and time again led to him pushing his rendering and writing skills to new heights but he just, can’t fucking stop finding new ways to go UGHHHH MOMMYMILKERS on a tier far beyond (and below) your average mommychad. How does he do it, /size/?</td>\n",
       "    </tr>\n",
       "  </tbody>\n",
       "</table>"
      ],
      "text/plain": [
       "<IPython.core.display.HTML object>"
      ]
     },
     "metadata": {},
     "output_type": "display_data"
    }
   ],
   "source": [
    "detexd_eval = do_eval(\n",
    "    detexd_test_df['text'],\n",
    "    detexd_test_df['label'],\n",
    "    detexd_test_df['detexd_pred'],\n",
    ")\n",
    "\n",
    "show_eval(detexd_eval)"
   ]
  }
 ],
 "metadata": {
  "kernelspec": {
   "display_name": ".venv",
   "language": "python",
   "name": "python3"
  },
  "language_info": {
   "codemirror_mode": {
    "name": "ipython",
    "version": 3
   },
   "file_extension": ".py",
   "mimetype": "text/x-python",
   "name": "python",
   "nbconvert_exporter": "python",
   "pygments_lexer": "ipython3",
   "version": "3.9.13"
  },
  "orig_nbformat": 4,
  "vscode": {
   "interpreter": {
    "hash": "b8ed81a2fccbe64dcc3cc5cf1ea65ecf0aa1eef39de8c4bc97050fa82cc63c30"
   }
  }
 },
 "nbformat": 4,
 "nbformat_minor": 2
}
