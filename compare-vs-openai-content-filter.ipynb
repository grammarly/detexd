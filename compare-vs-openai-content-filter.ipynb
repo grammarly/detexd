{
 "cells": [
  {
   "cell_type": "markdown",
   "metadata": {},
   "source": [
    "# DeTexD vs OpenAI content filter"
   ]
  },
  {
   "cell_type": "code",
   "execution_count": 3,
   "metadata": {},
   "outputs": [],
   "source": [
    "import pandas as pd\n",
    "from tqdm.auto import tqdm\n",
    "from sklearn.metrics import classification_report\n",
    "from getpass import getpass\n",
    "import requests\n",
    "import numpy as np\n",
    "from datasets import load_dataset\n",
    "from evaluate_detexd_roberta import predict_delicate\n",
    "from transformers import pipeline\n",
    "from datetime import datetime"
   ]
  },
  {
   "cell_type": "code",
   "execution_count": 6,
   "metadata": {},
   "outputs": [
    {
     "name": "stderr",
     "output_type": "stream",
     "text": [
      "Found cached dataset csv (/Users/eis/.cache/huggingface/datasets/grammarly___csv/grammarly--detexd-benchmark-83592511fc08ad4e/0.0.0/eea64c71ca8b46dd3f537ed218fc9bf495d5707789152eb2764f5c78fa66d59d)\n"
     ]
    },
    {
     "data": {
      "text/plain": [
       "((1023, 5),\n",
       " Index(['text', 'annotator_1', 'annotator_2', 'annotator_3', 'label'], dtype='object'))"
      ]
     },
     "execution_count": 6,
     "metadata": {},
     "output_type": "execute_result"
    }
   ],
   "source": [
    "detexd_test_df = load_dataset(\"grammarly/detexd-benchmark\", split='test').to_pandas()\n",
    "detexd_test_df.shape, detexd_test_df.columns"
   ]
  },
  {
   "cell_type": "code",
   "execution_count": 7,
   "metadata": {},
   "outputs": [
    {
     "data": {
      "text/html": [
       "<div>\n",
       "<style scoped>\n",
       "    .dataframe tbody tr th:only-of-type {\n",
       "        vertical-align: middle;\n",
       "    }\n",
       "\n",
       "    .dataframe tbody tr th {\n",
       "        vertical-align: top;\n",
       "    }\n",
       "\n",
       "    .dataframe thead th {\n",
       "        text-align: right;\n",
       "    }\n",
       "</style>\n",
       "<table border=\"1\" class=\"dataframe\">\n",
       "  <thead>\n",
       "    <tr style=\"text-align: right;\">\n",
       "      <th></th>\n",
       "      <th>count</th>\n",
       "      <th>unique</th>\n",
       "      <th>top</th>\n",
       "      <th>freq</th>\n",
       "    </tr>\n",
       "  </thead>\n",
       "  <tbody>\n",
       "    <tr>\n",
       "      <th>text</th>\n",
       "      <td>1023</td>\n",
       "      <td>1023</td>\n",
       "      <td>\"), as well as other minority interests and gr...</td>\n",
       "      <td>1</td>\n",
       "    </tr>\n",
       "    <tr>\n",
       "      <th>annotator_1</th>\n",
       "      <td>1023</td>\n",
       "      <td>6</td>\n",
       "      <td>0</td>\n",
       "      <td>494</td>\n",
       "    </tr>\n",
       "    <tr>\n",
       "      <th>annotator_2</th>\n",
       "      <td>1023</td>\n",
       "      <td>6</td>\n",
       "      <td>0</td>\n",
       "      <td>484</td>\n",
       "    </tr>\n",
       "    <tr>\n",
       "      <th>annotator_3</th>\n",
       "      <td>1023</td>\n",
       "      <td>6</td>\n",
       "      <td>0</td>\n",
       "      <td>531</td>\n",
       "    </tr>\n",
       "    <tr>\n",
       "      <th>label</th>\n",
       "      <td>1023</td>\n",
       "      <td>2</td>\n",
       "      <td>0</td>\n",
       "      <td>687</td>\n",
       "    </tr>\n",
       "  </tbody>\n",
       "</table>\n",
       "</div>"
      ],
      "text/plain": [
       "            count unique                                                top  \\\n",
       "text         1023   1023  \"), as well as other minority interests and gr...   \n",
       "annotator_1  1023      6                                                  0   \n",
       "annotator_2  1023      6                                                  0   \n",
       "annotator_3  1023      6                                                  0   \n",
       "label        1023      2                                                  0   \n",
       "\n",
       "            freq  \n",
       "text           1  \n",
       "annotator_1  494  \n",
       "annotator_2  484  \n",
       "annotator_3  531  \n",
       "label        687  "
      ]
     },
     "execution_count": 7,
     "metadata": {},
     "output_type": "execute_result"
    }
   ],
   "source": [
    "detexd_test_df.astype('object').describe().transpose()"
   ]
  },
  {
   "attachments": {},
   "cell_type": "markdown",
   "metadata": {},
   "source": [
    "# Running OpenAI predictions"
   ]
  },
  {
   "attachments": {},
   "cell_type": "markdown",
   "metadata": {},
   "source": [
    "### Content filter\n",
    "We recommend using our new moderation endpoint instead of the content filter model.\n",
    "The filter aims to detect generated text that could be sensitive or unsafe coming from the API. It's currently in beta mode and has three ways of classifying text- as safe, sensitive, or unsafe. The filter will make mistakes and we have currently built it to err on the side of caution, thus, resulting in higher false positives.\n",
    "\n",
    "#### Label Descriptions\n",
    "- 0 - The text is safe.\n",
    "- 1 - This text is sensitive. This means that the text could be talking about a sensitive topic, something political, religious, or talking about a protected class such as race or nationality.\n",
    "- 2 - This text is unsafe. This means that the text contains profane language, prejudiced or hateful language, something that could be NSFW, or text that portrays certain groups/people in a harmful manner."
   ]
  },
  {
   "cell_type": "code",
   "execution_count": 8,
   "metadata": {},
   "outputs": [],
   "source": [
    "OPENAI_API_KEY = getpass('Enter your OpenAI API key: ')"
   ]
  },
  {
   "cell_type": "code",
   "execution_count": 10,
   "metadata": {},
   "outputs": [
    {
     "data": {
      "application/vnd.jupyter.widget-view+json": {
       "model_id": "d49729713b484815a6544e0a5a541f2a",
       "version_major": 2,
       "version_minor": 0
      },
      "text/plain": [
       "  0%|          | 0/2 [00:00<?, ?it/s]"
      ]
     },
     "metadata": {},
     "output_type": "display_data"
    },
    {
     "data": {
      "text/plain": [
       "[0, 2]"
      ]
     },
     "execution_count": 10,
     "metadata": {},
     "output_type": "execute_result"
    }
   ],
   "source": [
    "def openai_content_filter_official_label_conversion(response):\n",
    "    output_label = response[\"text\"]\n",
    "\n",
    "    # This is the probability at which we evaluate that a \"2\" is likely real\n",
    "    # vs. should be discarded as a false positive\n",
    "    toxic_threshold = -0.355\n",
    "\n",
    "    if output_label == \"2\":\n",
    "        # If the model returns \"2\", return its confidence in 2 or other output-labels\n",
    "        logprobs = response[\"logprobs\"][\"top_logprobs\"][0] if response['logprobs'] is not None else None\n",
    "\n",
    "        # If the model is not sufficiently confident in \"2\",\n",
    "        # choose the most probable of \"0\" or \"1\"\n",
    "        # Guaranteed to have a confidence for 2 since this was the selected token.\n",
    "\n",
    "        # @NOTE SY: this object is always null in the response; suppose openai docs are out of date\n",
    "        if logprobs is not None and logprobs[\"2\"] < toxic_threshold:\n",
    "            logprob_0 = logprobs.get(\"0\", None)\n",
    "            logprob_1 = logprobs.get(\"1\", None)\n",
    "\n",
    "            # If both \"0\" and \"1\" have probabilities, set the output label\n",
    "            # to whichever is most probable\n",
    "            if logprob_0 is not None and logprob_1 is not None:\n",
    "                if logprob_0 >= logprob_1:\n",
    "                    output_label = \"0\"\n",
    "                else:\n",
    "                    output_label = \"1\"\n",
    "            # If only one of them is found, set output label to that one\n",
    "            elif logprob_0 is not None:\n",
    "                output_label = \"0\"\n",
    "            elif logprob_1 is not None:\n",
    "                output_label = \"1\"\n",
    "\n",
    "            # If neither \"0\" or \"1\" are available, stick with \"2\"\n",
    "            # by leaving output_label unchanged.\n",
    "\n",
    "    # if the most probable token is none of \"0\", \"1\", or \"2\"\n",
    "    # this should be set as unsafe\n",
    "    if output_label not in [\"0\", \"1\", \"2\"]:\n",
    "        output_label = \"2\"\n",
    "\n",
    "    return output_label\n",
    "\n",
    "\n",
    "def predict_openai_content_filter(text_col, OPENAI_API_KEY=OPENAI_API_KEY):\n",
    "    # https://platform.openai.com/docs/models/content-filter    \n",
    "    def predict_one(text):\n",
    "        return int(openai_content_filter_official_label_conversion(requests.post(\n",
    "            'https://api.openai.com/v1/completions',\n",
    "            headers={'Authorization': f'Bearer {OPENAI_API_KEY}'},\n",
    "            json={\n",
    "                \"model\": \"content-filter-alpha\",\n",
    "                \"prompt\": f\"<|endoftext|>{text}\\n--\\nLabel:\",\n",
    "                \"max_tokens\": 1,\n",
    "                \"user\": \"1\"\n",
    "            }\n",
    "        ).json()['choices'][0]))\n",
    "    \n",
    "    return [predict_one(t) for t in tqdm(text_col)]\n",
    "\n",
    "predict_openai_content_filter(['I love you', 'russia is a terrorist state'])"
   ]
  },
  {
   "attachments": {},
   "cell_type": "markdown",
   "metadata": {},
   "source": [
    "### Check for output stability\n",
    "\n",
    "In previous experiments, this API has been found to have a somewhat stochastic output."
   ]
  },
  {
   "cell_type": "code",
   "execution_count": 17,
   "metadata": {},
   "outputs": [
    {
     "data": {
      "application/vnd.jupyter.widget-view+json": {
       "model_id": "f5195abd0cfc4d1aa101016ab712233f",
       "version_major": 2,
       "version_minor": 0
      },
      "text/plain": [
       "  0%|          | 0/2000 [00:00<?, ?it/s]"
      ]
     },
     "metadata": {},
     "output_type": "display_data"
    },
    {
     "data": {
      "text/plain": [
       "pred\n",
       "0    1182\n",
       "1     575\n",
       "2     243\n",
       "Name: count, dtype: int64"
      ]
     },
     "execution_count": 17,
     "metadata": {},
     "output_type": "execute_result"
    }
   ],
   "source": [
    "stab_check_sample = (\n",
    "    detexd_test_df[detexd_test_df['label'] == 1].sample(n=10, random_state=0)['text'].tolist() +\n",
    "    detexd_test_df[detexd_test_df['label'] == 0].sample(n=10, random_state=0)['text'].tolist()\n",
    ")\n",
    "\n",
    "stab_check_df = pd.DataFrame({\n",
    "    'text': stab_check_sample * 100,\n",
    "}).assign(**{ \n",
    "    'pred': lambda df: predict_openai_content_filter(df['text'])\n",
    "})\n",
    "\n",
    "stab_check_df['pred'].value_counts()"
   ]
  },
  {
   "cell_type": "code",
   "execution_count": 18,
   "metadata": {},
   "outputs": [],
   "source": [
    "stab_check_df['bin_pred'] = stab_check_df['pred'].apply(lambda x: int(x > 0))"
   ]
  },
  {
   "cell_type": "code",
   "execution_count": 19,
   "metadata": {},
   "outputs": [
    {
     "data": {
      "text/html": [
       "<div>\n",
       "<style scoped>\n",
       "    .dataframe tbody tr th:only-of-type {\n",
       "        vertical-align: middle;\n",
       "    }\n",
       "\n",
       "    .dataframe tbody tr th {\n",
       "        vertical-align: top;\n",
       "    }\n",
       "\n",
       "    .dataframe thead th {\n",
       "        text-align: right;\n",
       "    }\n",
       "</style>\n",
       "<table border=\"1\" class=\"dataframe\">\n",
       "  <thead>\n",
       "    <tr style=\"text-align: right;\">\n",
       "      <th></th>\n",
       "      <th>text</th>\n",
       "      <th>pred_std</th>\n",
       "      <th>bin_pred_std</th>\n",
       "    </tr>\n",
       "  </thead>\n",
       "  <tbody>\n",
       "    <tr>\n",
       "      <th>0</th>\n",
       "      <td>\"As the dynamic audio industry continues to ev...</td>\n",
       "      <td>0.196946</td>\n",
       "      <td>0.196946</td>\n",
       "    </tr>\n",
       "    <tr>\n",
       "      <th>1</th>\n",
       "      <td>, a survey-based study of digital media usage....</td>\n",
       "      <td>0.000000</td>\n",
       "      <td>0.000000</td>\n",
       "    </tr>\n",
       "    <tr>\n",
       "      <th>2</th>\n",
       "      <td>Andy McNab, the British soldier, justified his...</td>\n",
       "      <td>0.000000</td>\n",
       "      <td>0.000000</td>\n",
       "    </tr>\n",
       "    <tr>\n",
       "      <th>3</th>\n",
       "      <td>Good advice. I Did a lot of drugs. I was smoki...</td>\n",
       "      <td>0.000000</td>\n",
       "      <td>0.000000</td>\n",
       "    </tr>\n",
       "    <tr>\n",
       "      <th>4</th>\n",
       "      <td>Having searched the site / forums &amp; posts I th...</td>\n",
       "      <td>0.498888</td>\n",
       "      <td>0.498888</td>\n",
       "    </tr>\n",
       "    <tr>\n",
       "      <th>5</th>\n",
       "      <td>He had been symptom free for 20 plus years. La...</td>\n",
       "      <td>0.314466</td>\n",
       "      <td>0.314466</td>\n",
       "    </tr>\n",
       "    <tr>\n",
       "      <th>6</th>\n",
       "      <td>Hi All, this is my first post so i'm not sure ...</td>\n",
       "      <td>0.100000</td>\n",
       "      <td>0.000000</td>\n",
       "    </tr>\n",
       "    <tr>\n",
       "      <th>7</th>\n",
       "      <td>I also suspect that the trend towards smaller ...</td>\n",
       "      <td>0.000000</td>\n",
       "      <td>0.000000</td>\n",
       "    </tr>\n",
       "    <tr>\n",
       "      <th>8</th>\n",
       "      <td>In 1995, Vrbo introduced a new way for people ...</td>\n",
       "      <td>0.000000</td>\n",
       "      <td>0.000000</td>\n",
       "    </tr>\n",
       "    <tr>\n",
       "      <th>9</th>\n",
       "      <td>Jeans are a clothing favorite to many, yet it ...</td>\n",
       "      <td>0.000000</td>\n",
       "      <td>0.000000</td>\n",
       "    </tr>\n",
       "    <tr>\n",
       "      <th>10</th>\n",
       "      <td>Mr. Beltrán, who was enterprising enough to kn...</td>\n",
       "      <td>0.326599</td>\n",
       "      <td>0.326599</td>\n",
       "    </tr>\n",
       "    <tr>\n",
       "      <th>11</th>\n",
       "      <td>One last peice of advice as far as where to li...</td>\n",
       "      <td>0.272660</td>\n",
       "      <td>0.272660</td>\n",
       "    </tr>\n",
       "    <tr>\n",
       "      <th>12</th>\n",
       "      <td>Requesting Roll standing naked infront of a fu...</td>\n",
       "      <td>0.000000</td>\n",
       "      <td>0.000000</td>\n",
       "    </tr>\n",
       "    <tr>\n",
       "      <th>13</th>\n",
       "      <td>She's decent looking but I don't get the hype ...</td>\n",
       "      <td>0.140705</td>\n",
       "      <td>0.000000</td>\n",
       "    </tr>\n",
       "    <tr>\n",
       "      <th>14</th>\n",
       "      <td>The average number of deaths per 1,000 fires i...</td>\n",
       "      <td>0.502117</td>\n",
       "      <td>0.502117</td>\n",
       "    </tr>\n",
       "    <tr>\n",
       "      <th>15</th>\n",
       "      <td>Today, West Side Market includes more than 100...</td>\n",
       "      <td>0.000000</td>\n",
       "      <td>0.000000</td>\n",
       "    </tr>\n",
       "    <tr>\n",
       "      <th>16</th>\n",
       "      <td>WELL I DONT KNOW WHAT RELIGION THOSE PEOPLE WE...</td>\n",
       "      <td>0.100000</td>\n",
       "      <td>0.000000</td>\n",
       "    </tr>\n",
       "    <tr>\n",
       "      <th>17</th>\n",
       "      <td>What I need advice on is what to do now? My Dr...</td>\n",
       "      <td>0.000000</td>\n",
       "      <td>0.000000</td>\n",
       "    </tr>\n",
       "    <tr>\n",
       "      <th>18</th>\n",
       "      <td>What does the team do about its trio of free-a...</td>\n",
       "      <td>0.000000</td>\n",
       "      <td>0.000000</td>\n",
       "    </tr>\n",
       "    <tr>\n",
       "      <th>19</th>\n",
       "      <td>must have been about a year ago when i stopped...</td>\n",
       "      <td>0.633732</td>\n",
       "      <td>0.287623</td>\n",
       "    </tr>\n",
       "  </tbody>\n",
       "</table>\n",
       "</div>"
      ],
      "text/plain": [
       "                                                 text  pred_std  bin_pred_std\n",
       "0   \"As the dynamic audio industry continues to ev...  0.196946      0.196946\n",
       "1   , a survey-based study of digital media usage....  0.000000      0.000000\n",
       "2   Andy McNab, the British soldier, justified his...  0.000000      0.000000\n",
       "3   Good advice. I Did a lot of drugs. I was smoki...  0.000000      0.000000\n",
       "4   Having searched the site / forums & posts I th...  0.498888      0.498888\n",
       "5   He had been symptom free for 20 plus years. La...  0.314466      0.314466\n",
       "6   Hi All, this is my first post so i'm not sure ...  0.100000      0.000000\n",
       "7   I also suspect that the trend towards smaller ...  0.000000      0.000000\n",
       "8   In 1995, Vrbo introduced a new way for people ...  0.000000      0.000000\n",
       "9   Jeans are a clothing favorite to many, yet it ...  0.000000      0.000000\n",
       "10  Mr. Beltrán, who was enterprising enough to kn...  0.326599      0.326599\n",
       "11  One last peice of advice as far as where to li...  0.272660      0.272660\n",
       "12  Requesting Roll standing naked infront of a fu...  0.000000      0.000000\n",
       "13  She's decent looking but I don't get the hype ...  0.140705      0.000000\n",
       "14  The average number of deaths per 1,000 fires i...  0.502117      0.502117\n",
       "15  Today, West Side Market includes more than 100...  0.000000      0.000000\n",
       "16  WELL I DONT KNOW WHAT RELIGION THOSE PEOPLE WE...  0.100000      0.000000\n",
       "17  What I need advice on is what to do now? My Dr...  0.000000      0.000000\n",
       "18  What does the team do about its trio of free-a...  0.000000      0.000000\n",
       "19  must have been about a year ago when i stopped...  0.633732      0.287623"
      ]
     },
     "execution_count": 19,
     "metadata": {},
     "output_type": "execute_result"
    }
   ],
   "source": [
    "stab_check_summary = stab_check_df.groupby(by='text').aggregate({\n",
    "    'pred': lambda xs: pd.Series(xs).describe()['std'],\n",
    "    'bin_pred': lambda xs: pd.Series(xs).describe()['std']\n",
    "}).reset_index().rename(columns={'pred': 'pred_std', 'bin_pred': 'bin_pred_std'})\n",
    "\n",
    "stab_check_summary"
   ]
  },
  {
   "cell_type": "code",
   "execution_count": 20,
   "metadata": {},
   "outputs": [
    {
     "data": {
      "text/plain": [
       "<Axes: >"
      ]
     },
     "execution_count": 20,
     "metadata": {},
     "output_type": "execute_result"
    },
    {
     "data": {
      "image/png": "[encoded data removed]",
      "text/plain": [
       "<Figure size 640x480 with 1 Axes>"
      ]
     },
     "metadata": {},
     "output_type": "display_data"
    }
   ],
   "source": [
    "stab_check_summary['bin_pred_std'].hist()"
   ]
  },
  {
   "attachments": {},
   "cell_type": "markdown",
   "metadata": {},
   "source": [
    "# Evaluation experiment"
   ]
  },
  {
   "cell_type": "code",
   "execution_count": 24,
   "metadata": {},
   "outputs": [
    {
     "data": {
      "application/vnd.jupyter.widget-view+json": {
       "model_id": "c3fc5cb3adf9418aa21b731b131c33f5",
       "version_major": 2,
       "version_minor": 0
      },
      "text/plain": [
       "  0%|          | 0/1023 [00:00<?, ?it/s]"
      ]
     },
     "metadata": {},
     "output_type": "display_data"
    }
   ],
   "source": [
    "detexd_test_openai_cf_preds = predict_openai_content_filter(detexd_test_df['text'].tolist())"
   ]
  },
  {
   "cell_type": "code",
   "execution_count": 25,
   "metadata": {},
   "outputs": [
    {
     "data": {
      "text/plain": [
       "((1023, 3), Index(['text', 'content_filter', 'flagged'], dtype='object'))"
      ]
     },
     "execution_count": 25,
     "metadata": {},
     "output_type": "execute_result"
    }
   ],
   "source": [
    "detexd_test_openai_preds_df = pd.DataFrame({\n",
    "    'text': detexd_test_df['text'],\n",
    "    'content_filter': detexd_test_openai_cf_preds\n",
    "}).assign(**{'flagged': lambda df: df['content_filter'].apply(lambda x: int(x > 0))})\n",
    "\n",
    "detexd_test_openai_preds_df.shape, detexd_test_openai_preds_df.columns"
   ]
  },
  {
   "cell_type": "code",
   "execution_count": 26,
   "metadata": {},
   "outputs": [
    {
     "data": {
      "text/plain": [
       "(flagged\n",
       " 0    644\n",
       " 1    379\n",
       " Name: count, dtype: int64,\n",
       " content_filter\n",
       " 0    644\n",
       " 1    211\n",
       " 2    168\n",
       " Name: count, dtype: int64)"
      ]
     },
     "execution_count": 26,
     "metadata": {},
     "output_type": "execute_result"
    }
   ],
   "source": [
    "detexd_test_openai_preds_df['flagged'].value_counts(), detexd_test_openai_preds_df['content_filter'].value_counts()"
   ]
  },
  {
   "cell_type": "code",
   "execution_count": 27,
   "metadata": {},
   "outputs": [],
   "source": [
    "detexd_test_openai_preds_df.to_json('detexd_test_openai_content_filter_preds_df.json', lines=True, orient='records')"
   ]
  },
  {
   "cell_type": "code",
   "execution_count": 29,
   "metadata": {},
   "outputs": [
    {
     "data": {
      "text/plain": [
       "{'precision': 0.5461741424802111,\n",
       " 'recall': 0.6160714285714286,\n",
       " 'f1-score': 0.5790209790209792,\n",
       " 'support': 336.0}"
      ]
     },
     "execution_count": 29,
     "metadata": {},
     "output_type": "execute_result"
    }
   ],
   "source": [
    "classification_report(\n",
    "    detexd_test_df['label'].astype(int),\n",
    "    detexd_test_openai_preds_df['flagged'],\n",
    "    output_dict=True\n",
    ")['1']"
   ]
  },
  {
   "cell_type": "code",
   "execution_count": null,
   "metadata": {},
   "outputs": [],
   "source": []
  }
 ],
 "metadata": {
  "kernelspec": {
   "display_name": ".venv",
   "language": "python",
   "name": "python3"
  },
  "language_info": {
   "codemirror_mode": {
    "name": "ipython",
    "version": 3
   },
   "file_extension": ".py",
   "mimetype": "text/x-python",
   "name": "python",
   "nbconvert_exporter": "python",
   "pygments_lexer": "ipython3",
   "version": "3.9.13"
  },
  "orig_nbformat": 4,
  "vscode": {
   "interpreter": {
    "hash": "b8ed81a2fccbe64dcc3cc5cf1ea65ecf0aa1eef39de8c4bc97050fa82cc63c30"
   }
  }
 },
 "nbformat": 4,
 "nbformat_minor": 2
}
