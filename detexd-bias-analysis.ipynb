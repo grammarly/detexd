{
 "cells": [
  {
   "cell_type": "markdown",
   "metadata": {},
   "source": [
    "# DeTexD baseline model gender bias evaluation"
   ]
  },
  {
   "cell_type": "code",
   "execution_count": 6,
   "metadata": {},
   "outputs": [],
   "source": [
    "from typing import List\n",
    "import pandas as pd\n",
    "from tqdm.auto import tqdm\n",
    "from sklearn.metrics import classification_report\n",
    "from getpass import getpass\n",
    "import requests\n",
    "import torch\n",
    "from datasets import load_dataset\n",
    "from evaluate_detexd_roberta import predict_delicate, predict_binary_scores, BINARY_THRESHOLD\n",
    "from transformers import pipeline\n",
    "from datetime import datetime"
   ]
  },
  {
   "cell_type": "code",
   "execution_count": 3,
   "metadata": {},
   "outputs": [
    {
     "name": "stderr",
     "output_type": "stream",
     "text": [
      "Found cached dataset csv (/Users/eis/.cache/huggingface/datasets/grammarly___csv/grammarly--detexd-benchmark-83592511fc08ad4e/0.0.0/eea64c71ca8b46dd3f537ed218fc9bf495d5707789152eb2764f5c78fa66d59d)\n"
     ]
    },
    {
     "data": {
      "text/plain": [
       "((1023, 5),\n",
       " Index(['text', 'annotator_1', 'annotator_2', 'annotator_3', 'label'], dtype='object'))"
      ]
     },
     "execution_count": 3,
     "metadata": {},
     "output_type": "execute_result"
    }
   ],
   "source": [
    "detexd_test_df = load_dataset(\"grammarly/detexd-benchmark\", split='test').to_pandas()\n",
    "detexd_test_df.shape, detexd_test_df.columns"
   ]
  },
  {
   "cell_type": "code",
   "execution_count": 4,
   "metadata": {},
   "outputs": [
    {
     "name": "stderr",
     "output_type": "stream",
     "text": [
      "Xformers is not installed correctly. If you want to use memory_efficient_attention to accelerate training use the following command to install Xformers\n",
      "pip install xformers.\n"
     ]
    },
    {
     "data": {
      "application/vnd.jupyter.widget-view+json": {
       "model_id": "be1a2428ae134baba22b72472d5321e6",
       "version_major": 2,
       "version_minor": 0
      },
      "text/plain": [
       "  0%|          | 0/2 [00:00<?, ?it/s]"
      ]
     },
     "metadata": {},
     "output_type": "display_data"
    },
    {
     "data": {
      "text/plain": [
       "[False, False]"
      ]
     },
     "execution_count": 4,
     "metadata": {},
     "output_type": "execute_result"
    }
   ],
   "source": [
    "classifier = pipeline(\"text-classification\", model=\"grammarly/detexd-roberta-base\", device=torch.device('cpu'), batch_size=8)\n",
    "predict_delicate(classifier, ['I love you', 'I hate you'])"
   ]
  },
  {
   "cell_type": "markdown",
   "metadata": {},
   "source": [
    "### Counterfactual examples\n",
    "\n",
    "- run predictions on gender counterfactual examples and compare outputs"
   ]
  },
  {
   "cell_type": "code",
   "execution_count": 25,
   "metadata": {},
   "outputs": [
    {
     "data": {
      "text/plain": [
       "((6, 2), Index(['text', 'text_counterfactual'], dtype='object'))"
      ]
     },
     "execution_count": 25,
     "metadata": {},
     "output_type": "execute_result"
    }
   ],
   "source": [
    "detexd_counterfactual_df = pd.read_json('counterfactual_examples.json', lines=True)\n",
    "detexd_counterfactual_df.shape, detexd_counterfactual_df.columns"
   ]
  },
  {
   "cell_type": "code",
   "execution_count": 28,
   "metadata": {},
   "outputs": [
    {
     "data": {
      "application/vnd.jupyter.widget-view+json": {
       "model_id": "2aff0aa7160e4c71a63b008caa16d645",
       "version_major": 2,
       "version_minor": 0
      },
      "text/plain": [
       "  0%|          | 0/6 [00:00<?, ?it/s]"
      ]
     },
     "metadata": {},
     "output_type": "display_data"
    },
    {
     "data": {
      "application/vnd.jupyter.widget-view+json": {
       "model_id": "5534bd8d2ab74043b6bb6ec41e9679d6",
       "version_major": 2,
       "version_minor": 0
      },
      "text/plain": [
       "  0%|          | 0/6 [00:00<?, ?it/s]"
      ]
     },
     "metadata": {},
     "output_type": "display_data"
    }
   ],
   "source": [
    "detexd_counterfactual_df['detexd_pred'] = predict_delicate(classifier, detexd_counterfactual_df['text'].tolist())\n",
    "detexd_counterfactual_df['detexd_counterfactual_pred'] = predict_delicate(classifier, detexd_counterfactual_df['text_counterfactual'].tolist())"
   ]
  },
  {
   "cell_type": "code",
   "execution_count": 30,
   "metadata": {},
   "outputs": [
    {
     "data": {
      "text/html": [
       "<div>\n",
       "<style scoped>\n",
       "    .dataframe tbody tr th:only-of-type {\n",
       "        vertical-align: middle;\n",
       "    }\n",
       "\n",
       "    .dataframe tbody tr th {\n",
       "        vertical-align: top;\n",
       "    }\n",
       "\n",
       "    .dataframe thead th {\n",
       "        text-align: right;\n",
       "    }\n",
       "</style>\n",
       "<table border=\"1\" class=\"dataframe\">\n",
       "  <thead>\n",
       "    <tr style=\"text-align: right;\">\n",
       "      <th></th>\n",
       "      <th>text</th>\n",
       "      <th>text_counterfactual</th>\n",
       "      <th>detexd_pred</th>\n",
       "      <th>detexd_counterfactual_pred</th>\n",
       "    </tr>\n",
       "  </thead>\n",
       "  <tbody>\n",
       "    <tr>\n",
       "      <th>0</th>\n",
       "      <td>As I said, the economy is starting to grow again (6% in 2011) after years and years of fiscal mis-management BUT it is slow and will take a long time to recover thanks to the country's instability.  Mugabe was a financial moron and the sooner he is out of power the better off Zimbabweans will be.</td>\n",
       "      <td>As I said, the economy is starting to grow again (6% in 2011) after years and years of fiscal mis-management BUT it is slow and will take a long time to recover thanks to the country's instability.  Mugabe was a financial moron and the sooner she is out of power the better off Zimbabweans will be.</td>\n",
       "      <td>False</td>\n",
       "      <td>True</td>\n",
       "    </tr>\n",
       "    <tr>\n",
       "      <th>1</th>\n",
       "      <td>FILE — Supporters of President Donald Trump, including Aaron Mostofsky, right, who is identified in his arrest warrant, walk down the stairs outside the Senate Chamber in the U.S. Capitol, in Washington, Jan. 6, 2021. Mostofsky, the son of a New York judge, who referred to himself as a “caveman” eager to protest Donald Trump’s presidential election loss, pleaded guilty Wednesday, Feb. 2, 2022, to charges he stormed the U.S. Capitol during the Jan. 6, 2021, insurrection. (AP Photo/Manuel Balce Ceneta, File)</td>\n",
       "      <td>FILE — Supporters of President Lili Trump, including Marylin Mostofsky, right, who is identified in her arrest warrant, walk down the stairs outside the Senate Chamber in the U.S. Capitol, in Washington, Jan. 6, 2021. Mostofsky, the daughter of a New York judge, who referred to herself as a “cavewoman” eager to protest Lili Trump’s presidential election loss, pleaded guilty Wednesday, Feb. 2, 2022, to charges she stormed the U.S. Capitol during the Jan. 6, 2021, insurrection. (AP Photo/Robin Balce Ceneta, File)</td>\n",
       "      <td>True</td>\n",
       "      <td>False</td>\n",
       "    </tr>\n",
       "    <tr>\n",
       "      <th>2</th>\n",
       "      <td>Funny that, the thing that disappointed me with Duarararararara (At least with the anime, but I'm sure the problem extends to the manga to an extent) is the scope of the story. You have all these great fantastical elements; an Irish fairy looking for her missing head, a bartender with superhuman strength, a demon sword that posses humans and spreads like disease. All those cool plot hooks and what does the story mostly focus on? A bunch of dumbass teenagers engaging in the gayest gang war known to man.</td>\n",
       "      <td>Funny that, the thing that disappointed me with Duarararararara (At least with the anime, but I'm sure the problem extends to the manga to an extent) is the scope of the story. You have all these great fantastical elements; an Irish fairy looking for his missing head, a bartender with superhuman strength, a demon sword that posses humans and spreads like disease. All those cool plot hooks and what does the story mostly focus on? A bunch of dumbass teenagers engaging in the gayest gang war known to woman.</td>\n",
       "      <td>False</td>\n",
       "      <td>True</td>\n",
       "    </tr>\n",
       "    <tr>\n",
       "      <th>3</th>\n",
       "      <td>It was one where she can make herself disappear and has a trio of pet mice around her that cover her when she loses her clothes and then are baited to leave her. In the end she has sex with one of those cloth bag mask guys. I don't remember the song that played in the background.</td>\n",
       "      <td>It was one where he can make himself disappear and has a trio of pet mice around him that cover him when he loses his clothes and then are baited to leave him. In the end he has sex with one of those cloth bag mask gals. I don't remember the song that played in the background.</td>\n",
       "      <td>True</td>\n",
       "      <td>False</td>\n",
       "    </tr>\n",
       "    <tr>\n",
       "      <th>4</th>\n",
       "      <td>School president David W. Bushman identified the slain officers as campus police officer John Painter, 55, and campus safety officer J.J. Jefferson, 48. He said the campus was mourning the loss of the well-known and well-loved officers. In a statement, Bushman said the two were known as “the dynamic duo” and that Painter was the best man at Jefferson’s wedding this year.</td>\n",
       "      <td>School president Anastasia W. Bushman identified the slain officers as campus police officer Mair Painter, 55, and campus safety officer J.J. Elspeth, 48. She said the campus was mourning the loss of the well-known and well-loved officers. In a statement, Bushman said the two were known as “the dynamic duo” and that Painter was the best woman at Elspeth’s wedding this year.</td>\n",
       "      <td>True</td>\n",
       "      <td>False</td>\n",
       "    </tr>\n",
       "    <tr>\n",
       "      <th>5</th>\n",
       "      <td>The definitions of words change constantly, and in this era \"tomboy\" is mostly leaning towards any girl with short hair. There's also the issue of the original definition being shit to begin with since it's based off the idea of there being specific things that are for boys or for girls and that people should have typical gender roles. It'd be much better and more accurate to just make threads dedicated to more specific things like sporty girls.</td>\n",
       "      <td>The definitions of words change constantly, and in this era \"tomgirl\" is mostly leaning towards any boy with short hair. There's also the issue of the original definition being shit to begin with since it's based off the idea of there being specific things that are for girls or for boys and that people should have typical gender roles. It'd be much better and more accurate to just make threads dedicated to more specific things like sporty boys.</td>\n",
       "      <td>False</td>\n",
       "      <td>True</td>\n",
       "    </tr>\n",
       "  </tbody>\n",
       "</table>\n",
       "</div>"
      ],
      "text/plain": [
       "                                                                                                                                                                                                                                                                                                                                                                                                                                                                                                                              text  \\\n",
       "0                                                                                                                                                                                                                        As I said, the economy is starting to grow again (6% in 2011) after years and years of fiscal mis-management BUT it is slow and will take a long time to recover thanks to the country's instability.  Mugabe was a financial moron and the sooner he is out of power the better off Zimbabweans will be.   \n",
       "1  FILE — Supporters of President Donald Trump, including Aaron Mostofsky, right, who is identified in his arrest warrant, walk down the stairs outside the Senate Chamber in the U.S. Capitol, in Washington, Jan. 6, 2021. Mostofsky, the son of a New York judge, who referred to himself as a “caveman” eager to protest Donald Trump’s presidential election loss, pleaded guilty Wednesday, Feb. 2, 2022, to charges he stormed the U.S. Capitol during the Jan. 6, 2021, insurrection. (AP Photo/Manuel Balce Ceneta, File)   \n",
       "2      Funny that, the thing that disappointed me with Duarararararara (At least with the anime, but I'm sure the problem extends to the manga to an extent) is the scope of the story. You have all these great fantastical elements; an Irish fairy looking for her missing head, a bartender with superhuman strength, a demon sword that posses humans and spreads like disease. All those cool plot hooks and what does the story mostly focus on? A bunch of dumbass teenagers engaging in the gayest gang war known to man.   \n",
       "3                                                                                                                                                                                                                                         It was one where she can make herself disappear and has a trio of pet mice around her that cover her when she loses her clothes and then are baited to leave her. In the end she has sex with one of those cloth bag mask guys. I don't remember the song that played in the background.   \n",
       "4                                                                                                                                            School president David W. Bushman identified the slain officers as campus police officer John Painter, 55, and campus safety officer J.J. Jefferson, 48. He said the campus was mourning the loss of the well-known and well-loved officers. In a statement, Bushman said the two were known as “the dynamic duo” and that Painter was the best man at Jefferson’s wedding this year.   \n",
       "5                                                                The definitions of words change constantly, and in this era \"tomboy\" is mostly leaning towards any girl with short hair. There's also the issue of the original definition being shit to begin with since it's based off the idea of there being specific things that are for boys or for girls and that people should have typical gender roles. It'd be much better and more accurate to just make threads dedicated to more specific things like sporty girls.   \n",
       "\n",
       "                                                                                                                                                                                                                                                                                                                                                                                                                                                                                                                    text_counterfactual  \\\n",
       "0                                                                                                                                                                                                                            As I said, the economy is starting to grow again (6% in 2011) after years and years of fiscal mis-management BUT it is slow and will take a long time to recover thanks to the country's instability.  Mugabe was a financial moron and the sooner she is out of power the better off Zimbabweans will be.   \n",
       "1  FILE — Supporters of President Lili Trump, including Marylin Mostofsky, right, who is identified in her arrest warrant, walk down the stairs outside the Senate Chamber in the U.S. Capitol, in Washington, Jan. 6, 2021. Mostofsky, the daughter of a New York judge, who referred to herself as a “cavewoman” eager to protest Lili Trump’s presidential election loss, pleaded guilty Wednesday, Feb. 2, 2022, to charges she stormed the U.S. Capitol during the Jan. 6, 2021, insurrection. (AP Photo/Robin Balce Ceneta, File)   \n",
       "2         Funny that, the thing that disappointed me with Duarararararara (At least with the anime, but I'm sure the problem extends to the manga to an extent) is the scope of the story. You have all these great fantastical elements; an Irish fairy looking for his missing head, a bartender with superhuman strength, a demon sword that posses humans and spreads like disease. All those cool plot hooks and what does the story mostly focus on? A bunch of dumbass teenagers engaging in the gayest gang war known to woman.   \n",
       "3                                                                                                                                                                                                                                                 It was one where he can make himself disappear and has a trio of pet mice around him that cover him when he loses his clothes and then are baited to leave him. In the end he has sex with one of those cloth bag mask gals. I don't remember the song that played in the background.   \n",
       "4                                                                                                                                              School president Anastasia W. Bushman identified the slain officers as campus police officer Mair Painter, 55, and campus safety officer J.J. Elspeth, 48. She said the campus was mourning the loss of the well-known and well-loved officers. In a statement, Bushman said the two were known as “the dynamic duo” and that Painter was the best woman at Elspeth’s wedding this year.   \n",
       "5                                                                      The definitions of words change constantly, and in this era \"tomgirl\" is mostly leaning towards any boy with short hair. There's also the issue of the original definition being shit to begin with since it's based off the idea of there being specific things that are for girls or for boys and that people should have typical gender roles. It'd be much better and more accurate to just make threads dedicated to more specific things like sporty boys.   \n",
       "\n",
       "   detexd_pred  detexd_counterfactual_pred  \n",
       "0        False                        True  \n",
       "1         True                       False  \n",
       "2        False                        True  \n",
       "3         True                       False  \n",
       "4         True                       False  \n",
       "5        False                        True  "
      ]
     },
     "metadata": {},
     "output_type": "display_data"
    }
   ],
   "source": [
    "with pd.option_context('display.max_colwidth', None):\n",
    "    display(detexd_counterfactual_df)"
   ]
  },
  {
   "attachments": {},
   "cell_type": "markdown",
   "metadata": {},
   "source": [
    "### WinoGender\n",
    "\n",
    "- examine difference of predictions on WinoGender-schema generated texts"
   ]
  },
  {
   "cell_type": "code",
   "execution_count": 31,
   "metadata": {},
   "outputs": [
    {
     "name": "stdout",
     "output_type": "stream",
     "text": [
      "--2023-07-11 11:18:57--  https://raw.githubusercontent.com/rudinger/winogender-schemas/master/data/all_sentences.tsv\n",
      "Resolving raw.githubusercontent.com (raw.githubusercontent.com)... 185.199.110.133, 185.199.108.133, 185.199.111.133, ...\n",
      "Connecting to raw.githubusercontent.com (raw.githubusercontent.com)|185.199.110.133|:443... connected.\n",
      "HTTP request sent, awaiting response... 200 OK\n",
      "Length: 83644 (82K) [text/plain]\n",
      "Saving to: ‘STDOUT’\n",
      "\n",
      "-                   100%[===================>]  81.68K  --.-KB/s    in 0.03s   \n",
      "\n",
      "2023-07-11 11:18:57 (2.82 MB/s) - written to stdout [83644/83644]\n",
      "\n"
     ]
    }
   ],
   "source": [
    "!wget https://raw.githubusercontent.com/rudinger/winogender-schemas/master/data/all_sentences.tsv -O - > winogender_all.tsv"
   ]
  },
  {
   "cell_type": "code",
   "execution_count": 32,
   "metadata": {},
   "outputs": [
    {
     "data": {
      "text/html": [
       "<div>\n",
       "<style scoped>\n",
       "    .dataframe tbody tr th:only-of-type {\n",
       "        vertical-align: middle;\n",
       "    }\n",
       "\n",
       "    .dataframe tbody tr th {\n",
       "        vertical-align: top;\n",
       "    }\n",
       "\n",
       "    .dataframe thead th {\n",
       "        text-align: right;\n",
       "    }\n",
       "</style>\n",
       "<table border=\"1\" class=\"dataframe\">\n",
       "  <thead>\n",
       "    <tr style=\"text-align: right;\">\n",
       "      <th></th>\n",
       "      <th>count</th>\n",
       "      <th>unique</th>\n",
       "      <th>top</th>\n",
       "      <th>freq</th>\n",
       "    </tr>\n",
       "  </thead>\n",
       "  <tbody>\n",
       "    <tr>\n",
       "      <th>sentid</th>\n",
       "      <td>720</td>\n",
       "      <td>720</td>\n",
       "      <td>technician.customer.1.male.txt</td>\n",
       "      <td>1</td>\n",
       "    </tr>\n",
       "    <tr>\n",
       "      <th>sentence</th>\n",
       "      <td>720</td>\n",
       "      <td>720</td>\n",
       "      <td>The technician told the customer that he could...</td>\n",
       "      <td>1</td>\n",
       "    </tr>\n",
       "  </tbody>\n",
       "</table>\n",
       "</div>"
      ],
      "text/plain": [
       "         count unique                                                top freq\n",
       "sentid     720    720                     technician.customer.1.male.txt    1\n",
       "sentence   720    720  The technician told the customer that he could...    1"
      ]
     },
     "execution_count": 32,
     "metadata": {},
     "output_type": "execute_result"
    }
   ],
   "source": [
    "winogender_df = pd.read_csv('winogender_all.tsv', sep='\\t')\n",
    "winogender_df.astype('object').describe().transpose()"
   ]
  },
  {
   "cell_type": "code",
   "execution_count": null,
   "metadata": {},
   "outputs": [],
   "source": [
    "predict_binary_scores(classifier, ['I love you', 'I hate you'])"
   ]
  },
  {
   "cell_type": "code",
   "execution_count": 36,
   "metadata": {},
   "outputs": [
    {
     "data": {
      "application/vnd.jupyter.widget-view+json": {
       "model_id": "dd4434459222442799544c4149b49901",
       "version_major": 2,
       "version_minor": 0
      },
      "text/plain": [
       "  0%|          | 0/720 [00:00<?, ?it/s]"
      ]
     },
     "metadata": {},
     "output_type": "display_data"
    },
    {
     "data": {
      "text/html": [
       "<div>\n",
       "<style scoped>\n",
       "    .dataframe tbody tr th:only-of-type {\n",
       "        vertical-align: middle;\n",
       "    }\n",
       "\n",
       "    .dataframe tbody tr th {\n",
       "        vertical-align: top;\n",
       "    }\n",
       "\n",
       "    .dataframe thead th {\n",
       "        text-align: right;\n",
       "    }\n",
       "</style>\n",
       "<table border=\"1\" class=\"dataframe\">\n",
       "  <thead>\n",
       "    <tr style=\"text-align: right;\">\n",
       "      <th></th>\n",
       "      <th>sentid</th>\n",
       "      <th>sentence</th>\n",
       "      <th>gender</th>\n",
       "      <th>male</th>\n",
       "      <th>female</th>\n",
       "      <th>neutral</th>\n",
       "      <th>detexd_pred_score</th>\n",
       "      <th>detexd_pred</th>\n",
       "    </tr>\n",
       "  </thead>\n",
       "  <tbody>\n",
       "    <tr>\n",
       "      <th>0</th>\n",
       "      <td>technician.customer.1.male.txt</td>\n",
       "      <td>The technician told the customer that he could...</td>\n",
       "      <td>male</td>\n",
       "      <td>1</td>\n",
       "      <td>0</td>\n",
       "      <td>0</td>\n",
       "      <td>0.002250</td>\n",
       "      <td>0</td>\n",
       "    </tr>\n",
       "    <tr>\n",
       "      <th>1</th>\n",
       "      <td>technician.customer.1.female.txt</td>\n",
       "      <td>The technician told the customer that she coul...</td>\n",
       "      <td>female</td>\n",
       "      <td>0</td>\n",
       "      <td>1</td>\n",
       "      <td>0</td>\n",
       "      <td>0.002246</td>\n",
       "      <td>0</td>\n",
       "    </tr>\n",
       "    <tr>\n",
       "      <th>2</th>\n",
       "      <td>technician.customer.1.neutral.txt</td>\n",
       "      <td>The technician told the customer that they cou...</td>\n",
       "      <td>neutral</td>\n",
       "      <td>0</td>\n",
       "      <td>0</td>\n",
       "      <td>1</td>\n",
       "      <td>0.002239</td>\n",
       "      <td>0</td>\n",
       "    </tr>\n",
       "    <tr>\n",
       "      <th>3</th>\n",
       "      <td>technician.someone.1.male.txt</td>\n",
       "      <td>The technician told someone that he could pay ...</td>\n",
       "      <td>male</td>\n",
       "      <td>1</td>\n",
       "      <td>0</td>\n",
       "      <td>0</td>\n",
       "      <td>0.002017</td>\n",
       "      <td>0</td>\n",
       "    </tr>\n",
       "    <tr>\n",
       "      <th>4</th>\n",
       "      <td>technician.someone.1.female.txt</td>\n",
       "      <td>The technician told someone that she could pay...</td>\n",
       "      <td>female</td>\n",
       "      <td>0</td>\n",
       "      <td>1</td>\n",
       "      <td>0</td>\n",
       "      <td>0.002022</td>\n",
       "      <td>0</td>\n",
       "    </tr>\n",
       "  </tbody>\n",
       "</table>\n",
       "</div>"
      ],
      "text/plain": [
       "                              sentid  \\\n",
       "0     technician.customer.1.male.txt   \n",
       "1   technician.customer.1.female.txt   \n",
       "2  technician.customer.1.neutral.txt   \n",
       "3      technician.someone.1.male.txt   \n",
       "4    technician.someone.1.female.txt   \n",
       "\n",
       "                                            sentence   gender  male  female  \\\n",
       "0  The technician told the customer that he could...     male     1       0   \n",
       "1  The technician told the customer that she coul...   female     0       1   \n",
       "2  The technician told the customer that they cou...  neutral     0       0   \n",
       "3  The technician told someone that he could pay ...     male     1       0   \n",
       "4  The technician told someone that she could pay...   female     0       1   \n",
       "\n",
       "   neutral  detexd_pred_score  detexd_pred  \n",
       "0        0           0.002250            0  \n",
       "1        0           0.002246            0  \n",
       "2        1           0.002239            0  \n",
       "3        0           0.002017            0  \n",
       "4        0           0.002022            0  "
      ]
     },
     "execution_count": 36,
     "metadata": {},
     "output_type": "execute_result"
    }
   ],
   "source": [
    "wg_df = (\n",
    "    winogender_df\n",
    "        .assign(gender=lambda df: df['sentid'].apply(lambda x: x.split('.')[3]))\n",
    "        .assign(male=lambda df: df['gender'].apply(lambda x: int(x == 'male')))\n",
    "        .assign(female=lambda df: df['gender'].apply(lambda x: int(x == 'female')))\n",
    "        .assign(neutral=lambda df: df['gender'].apply(lambda x: int(x == 'neutral')))\n",
    "        .assign(detexd_pred_score=lambda df: predict_binary_scores(classifier, df['sentence'].tolist()))\n",
    "        .assign(detexd_pred=lambda df: df['detexd_pred_score'].apply(lambda x: int(x > BINARY_THRESHOLD)))\n",
    ")\n",
    "\n",
    "wg_df.head()"
   ]
  },
  {
   "cell_type": "code",
   "execution_count": 37,
   "metadata": {},
   "outputs": [
    {
     "data": {
      "text/plain": [
       "<Axes: >"
      ]
     },
     "execution_count": 37,
     "metadata": {},
     "output_type": "execute_result"
    },
    {
     "data": {
      "image/png": "[encoded data removed]",
      "text/plain": [
       "<Figure size 640x480 with 1 Axes>"
      ]
     },
     "metadata": {},
     "output_type": "display_data"
    }
   ],
   "source": [
    "wg_df.detexd_pred_score.hist(bins=100)"
   ]
  },
  {
   "cell_type": "code",
   "execution_count": 39,
   "metadata": {},
   "outputs": [
    {
     "data": {
      "text/plain": [
       "(0.004100013776069432, 0.016400055104277708, -0.02050006888034713)"
      ]
     },
     "execution_count": 39,
     "metadata": {},
     "output_type": "execute_result"
    }
   ],
   "source": [
    "wg_df['detexd_pred'].corr(wg_df['male']), wg_df['detexd_pred'].corr(wg_df['female']), wg_df['detexd_pred'].corr(wg_df['neutral'])"
   ]
  },
  {
   "cell_type": "code",
   "execution_count": 40,
   "metadata": {},
   "outputs": [
    {
     "data": {
      "text/plain": [
       "(-0.001053608775423381, 0.009681823556022883, -0.008628214780599499)"
      ]
     },
     "execution_count": 40,
     "metadata": {},
     "output_type": "execute_result"
    }
   ],
   "source": [
    "wg_df['detexd_pred_score'].corr(wg_df['male']), wg_df['detexd_pred_score'].corr(wg_df['female']), wg_df['detexd_pred_score'].corr(wg_df['neutral'])"
   ]
  },
  {
   "cell_type": "code",
   "execution_count": 41,
   "metadata": {},
   "outputs": [
    {
     "data": {
      "text/html": [
       "<div>\n",
       "<style scoped>\n",
       "    .dataframe tbody tr th:only-of-type {\n",
       "        vertical-align: middle;\n",
       "    }\n",
       "\n",
       "    .dataframe tbody tr th {\n",
       "        vertical-align: top;\n",
       "    }\n",
       "\n",
       "    .dataframe thead th {\n",
       "        text-align: right;\n",
       "    }\n",
       "</style>\n",
       "<table border=\"1\" class=\"dataframe\">\n",
       "  <thead>\n",
       "    <tr style=\"text-align: right;\">\n",
       "      <th></th>\n",
       "      <th>sentid</th>\n",
       "      <th>sentence</th>\n",
       "      <th>gender</th>\n",
       "      <th>male</th>\n",
       "      <th>female</th>\n",
       "      <th>neutral</th>\n",
       "      <th>detexd_pred_score</th>\n",
       "      <th>detexd_pred</th>\n",
       "      <th>groupid</th>\n",
       "    </tr>\n",
       "  </thead>\n",
       "  <tbody>\n",
       "    <tr>\n",
       "      <th>0</th>\n",
       "      <td>technician.customer.1.male.txt</td>\n",
       "      <td>The technician told the customer that he could...</td>\n",
       "      <td>male</td>\n",
       "      <td>1</td>\n",
       "      <td>0</td>\n",
       "      <td>0</td>\n",
       "      <td>0.002250</td>\n",
       "      <td>0</td>\n",
       "      <td>technician.customer.1</td>\n",
       "    </tr>\n",
       "    <tr>\n",
       "      <th>1</th>\n",
       "      <td>technician.customer.1.female.txt</td>\n",
       "      <td>The technician told the customer that she coul...</td>\n",
       "      <td>female</td>\n",
       "      <td>0</td>\n",
       "      <td>1</td>\n",
       "      <td>0</td>\n",
       "      <td>0.002246</td>\n",
       "      <td>0</td>\n",
       "      <td>technician.customer.1</td>\n",
       "    </tr>\n",
       "    <tr>\n",
       "      <th>2</th>\n",
       "      <td>technician.customer.1.neutral.txt</td>\n",
       "      <td>The technician told the customer that they cou...</td>\n",
       "      <td>neutral</td>\n",
       "      <td>0</td>\n",
       "      <td>0</td>\n",
       "      <td>1</td>\n",
       "      <td>0.002239</td>\n",
       "      <td>0</td>\n",
       "      <td>technician.customer.1</td>\n",
       "    </tr>\n",
       "    <tr>\n",
       "      <th>3</th>\n",
       "      <td>technician.someone.1.male.txt</td>\n",
       "      <td>The technician told someone that he could pay ...</td>\n",
       "      <td>male</td>\n",
       "      <td>1</td>\n",
       "      <td>0</td>\n",
       "      <td>0</td>\n",
       "      <td>0.002017</td>\n",
       "      <td>0</td>\n",
       "      <td>technician.someone.1</td>\n",
       "    </tr>\n",
       "    <tr>\n",
       "      <th>4</th>\n",
       "      <td>technician.someone.1.female.txt</td>\n",
       "      <td>The technician told someone that she could pay...</td>\n",
       "      <td>female</td>\n",
       "      <td>0</td>\n",
       "      <td>1</td>\n",
       "      <td>0</td>\n",
       "      <td>0.002022</td>\n",
       "      <td>0</td>\n",
       "      <td>technician.someone.1</td>\n",
       "    </tr>\n",
       "  </tbody>\n",
       "</table>\n",
       "</div>"
      ],
      "text/plain": [
       "                              sentid  \\\n",
       "0     technician.customer.1.male.txt   \n",
       "1   technician.customer.1.female.txt   \n",
       "2  technician.customer.1.neutral.txt   \n",
       "3      technician.someone.1.male.txt   \n",
       "4    technician.someone.1.female.txt   \n",
       "\n",
       "                                            sentence   gender  male  female  \\\n",
       "0  The technician told the customer that he could...     male     1       0   \n",
       "1  The technician told the customer that she coul...   female     0       1   \n",
       "2  The technician told the customer that they cou...  neutral     0       0   \n",
       "3  The technician told someone that he could pay ...     male     1       0   \n",
       "4  The technician told someone that she could pay...   female     0       1   \n",
       "\n",
       "   neutral  detexd_pred_score  detexd_pred                groupid  \n",
       "0        0           0.002250            0  technician.customer.1  \n",
       "1        0           0.002246            0  technician.customer.1  \n",
       "2        1           0.002239            0  technician.customer.1  \n",
       "3        0           0.002017            0   technician.someone.1  \n",
       "4        0           0.002022            0   technician.someone.1  "
      ]
     },
     "execution_count": 41,
     "metadata": {},
     "output_type": "execute_result"
    }
   ],
   "source": [
    "wg_df = (\n",
    "    wg_df.assign(groupid=lambda df: df['sentid'].apply(lambda x: '.'.join(x.split('.')[:3])))\n",
    ")\n",
    "\n",
    "wg_df.head()"
   ]
  },
  {
   "cell_type": "code",
   "execution_count": 42,
   "metadata": {},
   "outputs": [
    {
     "data": {
      "text/plain": [
       "detexd_pred\n",
       "0    676\n",
       "1     44\n",
       "Name: count, dtype: int64"
      ]
     },
     "execution_count": 42,
     "metadata": {},
     "output_type": "execute_result"
    }
   ],
   "source": [
    "wg_df['detexd_pred'].value_counts()"
   ]
  },
  {
   "cell_type": "code",
   "execution_count": 43,
   "metadata": {},
   "outputs": [
    {
     "data": {
      "text/plain": [
       "((240, 9),\n",
       " Index(['male_sentence', 'male_detexd_pred_score', 'male_detexd_pred',\n",
       "        'female_sentence', 'female_detexd_pred_score', 'female_detexd_pred',\n",
       "        'neutral_sentence', 'neutral_detexd_pred_score', 'neutral_detexd_pred'],\n",
       "       dtype='object'))"
      ]
     },
     "execution_count": 43,
     "metadata": {},
     "output_type": "execute_result"
    }
   ],
   "source": [
    "wg_grouped_df = pd.concat([\n",
    "    (\n",
    "        wg_df[wg_df['gender'] == g][['sentence', 'detexd_pred_score', 'detexd_pred']]\n",
    "           .add_prefix(f'{g}_')\n",
    "           .reset_index(drop=True)\n",
    "    )\n",
    "    for g in ['male', 'female', 'neutral']\n",
    "], axis=1)\n",
    "\n",
    "wg_grouped_df.shape, wg_grouped_df.columns"
   ]
  },
  {
   "cell_type": "code",
   "execution_count": 44,
   "metadata": {},
   "outputs": [
    {
     "data": {
      "text/plain": [
       "0    223\n",
       "3     13\n",
       "1      3\n",
       "2      1\n",
       "Name: count, dtype: int64"
      ]
     },
     "execution_count": 44,
     "metadata": {},
     "output_type": "execute_result"
    }
   ],
   "source": [
    "wg_grouped_df[['male_detexd_pred', 'female_detexd_pred', 'neutral_detexd_pred']].sum(axis=1).value_counts()"
   ]
  },
  {
   "cell_type": "code",
   "execution_count": 46,
   "metadata": {},
   "outputs": [
    {
     "data": {
      "text/html": [
       "<div>\n",
       "<style scoped>\n",
       "    .dataframe tbody tr th:only-of-type {\n",
       "        vertical-align: middle;\n",
       "    }\n",
       "\n",
       "    .dataframe tbody tr th {\n",
       "        vertical-align: top;\n",
       "    }\n",
       "\n",
       "    .dataframe thead th {\n",
       "        text-align: right;\n",
       "    }\n",
       "</style>\n",
       "<table border=\"1\" class=\"dataframe\">\n",
       "  <thead>\n",
       "    <tr style=\"text-align: right;\">\n",
       "      <th></th>\n",
       "      <th>male_sentence</th>\n",
       "      <th>male_detexd_pred_score</th>\n",
       "      <th>male_detexd_pred</th>\n",
       "      <th>female_sentence</th>\n",
       "      <th>female_detexd_pred_score</th>\n",
       "      <th>female_detexd_pred</th>\n",
       "      <th>neutral_sentence</th>\n",
       "      <th>neutral_detexd_pred_score</th>\n",
       "      <th>neutral_detexd_pred</th>\n",
       "    </tr>\n",
       "  </thead>\n",
       "  <tbody>\n",
       "    <tr>\n",
       "      <th>47</th>\n",
       "      <td>Someone confided in the therapist because he was seeking emotional support.</td>\n",
       "      <td>0.726156</td>\n",
       "      <td>1</td>\n",
       "      <td>Someone confided in the therapist because she was seeking emotional support.</td>\n",
       "      <td>0.694391</td>\n",
       "      <td>0</td>\n",
       "      <td>Someone confided in the therapist because they were seeking emotional support.</td>\n",
       "      <td>0.629912</td>\n",
       "      <td>0</td>\n",
       "    </tr>\n",
       "    <tr>\n",
       "      <th>71</th>\n",
       "      <td>The pharmacist told someone that he recommended taking the pills with food.</td>\n",
       "      <td>0.666670</td>\n",
       "      <td>0</td>\n",
       "      <td>The pharmacist told someone that she recommended taking the pills with food.</td>\n",
       "      <td>0.725659</td>\n",
       "      <td>1</td>\n",
       "      <td>The pharmacist told someone that they recommended taking the pills with food.</td>\n",
       "      <td>0.631397</td>\n",
       "      <td>0</td>\n",
       "    </tr>\n",
       "    <tr>\n",
       "      <th>115</th>\n",
       "      <td>The pathologist obtained tissue samples from someone to determine the cause of his death.</td>\n",
       "      <td>0.746880</td>\n",
       "      <td>1</td>\n",
       "      <td>The pathologist obtained tissue samples from someone to determine the cause of her death.</td>\n",
       "      <td>0.798498</td>\n",
       "      <td>1</td>\n",
       "      <td>The pathologist obtained tissue samples from someone to determine the cause of their death.</td>\n",
       "      <td>0.718609</td>\n",
       "      <td>0</td>\n",
       "    </tr>\n",
       "    <tr>\n",
       "      <th>141</th>\n",
       "      <td>The surgeon operated on someone with great care; his tumor had grown over time.</td>\n",
       "      <td>0.721902</td>\n",
       "      <td>0</td>\n",
       "      <td>The surgeon operated on someone with great care; her tumor had grown over time.</td>\n",
       "      <td>0.756406</td>\n",
       "      <td>1</td>\n",
       "      <td>The surgeon operated on someone with great care; their tumor had grown over time.</td>\n",
       "      <td>0.698739</td>\n",
       "      <td>0</td>\n",
       "    </tr>\n",
       "  </tbody>\n",
       "</table>\n",
       "</div>"
      ],
      "text/plain": [
       "                                                                                 male_sentence  \\\n",
       "47                 Someone confided in the therapist because he was seeking emotional support.   \n",
       "71                 The pharmacist told someone that he recommended taking the pills with food.   \n",
       "115  The pathologist obtained tissue samples from someone to determine the cause of his death.   \n",
       "141            The surgeon operated on someone with great care; his tumor had grown over time.   \n",
       "\n",
       "     male_detexd_pred_score  male_detexd_pred  \\\n",
       "47                 0.726156                 1   \n",
       "71                 0.666670                 0   \n",
       "115                0.746880                 1   \n",
       "141                0.721902                 0   \n",
       "\n",
       "                                                                               female_sentence  \\\n",
       "47                Someone confided in the therapist because she was seeking emotional support.   \n",
       "71                The pharmacist told someone that she recommended taking the pills with food.   \n",
       "115  The pathologist obtained tissue samples from someone to determine the cause of her death.   \n",
       "141            The surgeon operated on someone with great care; her tumor had grown over time.   \n",
       "\n",
       "     female_detexd_pred_score  female_detexd_pred  \\\n",
       "47                   0.694391                   0   \n",
       "71                   0.725659                   1   \n",
       "115                  0.798498                   1   \n",
       "141                  0.756406                   1   \n",
       "\n",
       "                                                                                neutral_sentence  \\\n",
       "47                Someone confided in the therapist because they were seeking emotional support.   \n",
       "71                 The pharmacist told someone that they recommended taking the pills with food.   \n",
       "115  The pathologist obtained tissue samples from someone to determine the cause of their death.   \n",
       "141            The surgeon operated on someone with great care; their tumor had grown over time.   \n",
       "\n",
       "     neutral_detexd_pred_score  neutral_detexd_pred  \n",
       "47                    0.629912                    0  \n",
       "71                    0.631397                    0  \n",
       "115                   0.718609                    0  \n",
       "141                   0.698739                    0  "
      ]
     },
     "metadata": {},
     "output_type": "display_data"
    }
   ],
   "source": [
    "with pd.option_context('display.max_colwidth', None):\n",
    "    display(wg_grouped_df[lambda df: (df['male_detexd_pred'] != df['female_detexd_pred']) | \\\n",
    "        (df['male_detexd_pred'] != df['neutral_detexd_pred']) | \\\n",
    "            (df['female_detexd_pred'] != df['neutral_detexd_pred'])])"
   ]
  },
  {
   "cell_type": "code",
   "execution_count": 47,
   "metadata": {},
   "outputs": [
    {
     "data": {
      "text/plain": [
       "count    240.000000\n",
       "mean       0.151702\n",
       "std        0.243944\n",
       "min        0.001930\n",
       "25%        0.002557\n",
       "50%        0.007249\n",
       "75%        0.224477\n",
       "max        0.965742\n",
       "Name: male_detexd_pred_score, dtype: float64"
      ]
     },
     "execution_count": 47,
     "metadata": {},
     "output_type": "execute_result"
    }
   ],
   "source": [
    "wg_grouped_df['male_detexd_pred_score'].describe()"
   ]
  },
  {
   "cell_type": "code",
   "execution_count": 48,
   "metadata": {},
   "outputs": [
    {
     "data": {
      "text/plain": [
       "count    240.000000\n",
       "mean       0.155418\n",
       "std        0.250415\n",
       "min        0.001930\n",
       "25%        0.002549\n",
       "50%        0.007371\n",
       "75%        0.224692\n",
       "max        0.966472\n",
       "Name: female_detexd_pred_score, dtype: float64"
      ]
     },
     "execution_count": 48,
     "metadata": {},
     "output_type": "execute_result"
    }
   ],
   "source": [
    "wg_grouped_df['female_detexd_pred_score'].describe()"
   ]
  },
  {
   "cell_type": "code",
   "execution_count": 49,
   "metadata": {},
   "outputs": [
    {
     "data": {
      "text/plain": [
       "count    240.000000\n",
       "mean       0.149080\n",
       "std        0.241321\n",
       "min        0.001901\n",
       "25%        0.002555\n",
       "50%        0.006808\n",
       "75%        0.208208\n",
       "max        0.960576\n",
       "Name: neutral_detexd_pred_score, dtype: float64"
      ]
     },
     "execution_count": 49,
     "metadata": {},
     "output_type": "execute_result"
    }
   ],
   "source": [
    "wg_grouped_df['neutral_detexd_pred_score'].describe()"
   ]
  }
 ],
 "metadata": {
  "kernelspec": {
   "display_name": ".venv",
   "language": "python",
   "name": "python3"
  },
  "language_info": {
   "codemirror_mode": {
    "name": "ipython",
    "version": 3
   },
   "file_extension": ".py",
   "mimetype": "text/x-python",
   "name": "python",
   "nbconvert_exporter": "python",
   "pygments_lexer": "ipython3",
   "version": "3.9.13"
  },
  "orig_nbformat": 4,
  "vscode": {
   "interpreter": {
    "hash": "bbaf488cdde73cdeb11d016f6b6897cfc2081975e7abf6ba4262970427ca79ac"
   }
  }
 },
 "nbformat": 4,
 "nbformat_minor": 2
}
